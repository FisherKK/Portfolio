{
 "cells": [
  {
   "cell_type": "markdown",
   "metadata": {},
   "source": [
    "### Description"
   ]
  },
  {
   "cell_type": "markdown",
   "metadata": {},
   "source": [
    "Topic models are used to uncover hidden structure in a collection of texts.\n",
    "\n",
    "LDA paper: http://www.jmlr.org/papers/volume3/blei03a/blei03a.pdf\n",
    "\n",
    "LDA is a generative probabilistic model used to classify text in a document to a particular topic. It builds topic per document model and words per document model with usage of Drichlet distributions:\n",
    "- Every document is modeled as a multinominal distribution of topics.\n",
    "- Every topic is modeled as a multinominal distribution of words.\n",
    "\n",
    "LDA algorithm requires every document to be produced from mixture of topics (there should be some themes that can be assigned)."
   ]
  },
  {
   "cell_type": "markdown",
   "metadata": {},
   "source": [
    "### Imports"
   ]
  },
  {
   "cell_type": "code",
   "execution_count": 1,
   "metadata": {
    "ExecuteTime": {
     "end_time": "2020-03-03T20:59:44.675232Z",
     "start_time": "2020-03-03T20:59:42.907973Z"
    }
   },
   "outputs": [
    {
     "name": "stderr",
     "output_type": "stream",
     "text": [
      "[nltk_data] Error loading pun|kt: Package 'pun|kt' not found in index\n",
      "[nltk_data] Downloading package wordnet to\n",
      "[nltk_data]     /Users/kamilkrzyk/nltk_data...\n",
      "[nltk_data]   Package wordnet is already up-to-date!\n",
      "[nltk_data] Downloading package stopwords to\n",
      "[nltk_data]     /Users/kamilkrzyk/nltk_data...\n",
      "[nltk_data]   Package stopwords is already up-to-date!\n"
     ]
    }
   ],
   "source": [
    "import re\n",
    "from tqdm import tqdm\n",
    "\n",
    "import gensim\n",
    "import nltk\n",
    "for package in [\"pun|kt\", \"wordnet\", \"stopwords\"]:\n",
    "    nltk.download(package)\n",
    "\n",
    "from nltk.corpus import stopwords\n",
    "from nltk.tokenize import word_tokenize\n",
    "from nltk.stem import WordNetLemmatizer, PorterStemmer\n",
    "\n",
    "from sklearn.feature_extraction.text import CountVectorizer\n",
    "from sklearn.decomposition import LatentDirichletAllocation\n",
    "from sklearn.model_selection import GridSearchCV\n",
    "from sklearn.metrics.pairwise import euclidean_distances, cosine_distances\n",
    "\n",
    "import pyLDAvis\n",
    "import pyLDAvis.sklearn\n",
    "import matplotlib.pyplot as plt\n",
    "\n",
    "import pandas as pd\n",
    "import numpy as np\n",
    "\n",
    "%matplotlib inline"
   ]
  },
  {
   "cell_type": "markdown",
   "metadata": {},
   "source": [
    "### Constants"
   ]
  },
  {
   "cell_type": "code",
   "execution_count": 2,
   "metadata": {
    "ExecuteTime": {
     "end_time": "2020-03-03T20:59:44.684380Z",
     "start_time": "2020-03-03T20:59:44.677182Z"
    }
   },
   "outputs": [],
   "source": [
    "DATA_LINK = \"https://www.dropbox.com/s/trvggms2xx1jvsz/abcnews-date-text.csv?dl=1\"\n",
    "RANDOM_SEED = 2020"
   ]
  },
  {
   "cell_type": "markdown",
   "metadata": {},
   "source": [
    "### Data"
   ]
  },
  {
   "cell_type": "markdown",
   "metadata": {},
   "source": [
    "ABC news dataset will be used for this showcase. \n",
    "It was found on Kaggle under following [link](https://www.kaggle.com/therohk/million-headlines#abcnews-date-text.csv).\n",
    "It contains over million headlines."
   ]
  },
  {
   "cell_type": "markdown",
   "metadata": {},
   "source": [
    "- Loading data"
   ]
  },
  {
   "cell_type": "code",
   "execution_count": 3,
   "metadata": {
    "ExecuteTime": {
     "end_time": "2020-03-03T20:59:52.859174Z",
     "start_time": "2020-03-03T20:59:44.686527Z"
    }
   },
   "outputs": [
    {
     "data": {
      "text/plain": [
       "(1186018, 2)"
      ]
     },
     "execution_count": 3,
     "metadata": {},
     "output_type": "execute_result"
    }
   ],
   "source": [
    "df_data = pd.read_csv(DATA_LINK, parse_dates=[0], infer_datetime_format=True)\n",
    "df_data.shape"
   ]
  },
  {
   "cell_type": "markdown",
   "metadata": {},
   "source": [
    "- Topics per year"
   ]
  },
  {
   "cell_type": "code",
   "execution_count": 4,
   "metadata": {
    "ExecuteTime": {
     "end_time": "2020-03-03T20:59:53.187045Z",
     "start_time": "2020-03-03T20:59:52.861283Z"
    }
   },
   "outputs": [
    {
     "data": {
      "image/png": "[encoded data removed]",
      "text/plain": [
       "<Figure size 1152x216 with 1 Axes>"
      ]
     },
     "metadata": {
      "needs_background": "light"
     },
     "output_type": "display_data"
    }
   ],
   "source": [
    "df_data[\"year\"] = df_data[\"publish_date\"].dt.year\n",
    "headline_count = df_data.groupby(\"year\")[\"headline_text\"].count().to_frame()\n",
    "\n",
    "plt.figure(figsize=(16,3))\n",
    "indices = np.arange(0, len(headline_count.index), 1)\n",
    "plt.bar(indices, headline_count[\"headline_text\"])\n",
    "plt.xticks(indices, labels=headline_count.index, rotation=90)\n",
    "plt.ylabel(\"Headline Count\");"
   ]
  },
  {
   "cell_type": "markdown",
   "metadata": {},
   "source": [
    "- Getting data from last 4 years:"
   ]
  },
  {
   "cell_type": "code",
   "execution_count": 5,
   "metadata": {
    "ExecuteTime": {
     "end_time": "2020-03-03T20:59:53.217576Z",
     "start_time": "2020-03-03T20:59:53.188428Z"
    }
   },
   "outputs": [],
   "source": [
    "df_data = df_data.loc[df_data[\"year\"] >= 2016]"
   ]
  },
  {
   "cell_type": "markdown",
   "metadata": {
    "ExecuteTime": {
     "end_time": "2020-03-02T23:52:24.796748Z",
     "start_time": "2020-03-02T23:52:24.793139Z"
    }
   },
   "source": [
    "- Creating small test dataset"
   ]
  },
  {
   "cell_type": "code",
   "execution_count": 6,
   "metadata": {
    "ExecuteTime": {
     "end_time": "2020-03-03T20:59:53.240230Z",
     "start_time": "2020-03-03T20:59:53.218963Z"
    }
   },
   "outputs": [],
   "source": [
    "df_test = df_data.sample(frac=0.02, replace=True, random_state=RANDOM_SEED)\n",
    "df_data = df_data.loc[~df_data.index.isin(df_test.index)]"
   ]
  },
  {
   "cell_type": "markdown",
   "metadata": {},
   "source": [
    "- Previewing data"
   ]
  },
  {
   "cell_type": "code",
   "execution_count": 7,
   "metadata": {
    "ExecuteTime": {
     "end_time": "2020-03-03T20:59:53.245092Z",
     "start_time": "2020-03-03T20:59:53.242004Z"
    }
   },
   "outputs": [
    {
     "name": "stdout",
     "output_type": "stream",
     "text": [
      "Train shape: (179619, 3) Test shape: (3665, 3)\n"
     ]
    }
   ],
   "source": [
    "print(\"Train shape: {}\".format(df_data.shape), \"Test shape: {}\".format(df_test.shape))"
   ]
  },
  {
   "cell_type": "code",
   "execution_count": 8,
   "metadata": {
    "ExecuteTime": {
     "end_time": "2020-03-03T20:59:53.263076Z",
     "start_time": "2020-03-03T20:59:53.248179Z"
    }
   },
   "outputs": [
    {
     "data": {
      "text/html": [
       "<div>\n",
       "<style scoped>\n",
       "    .dataframe tbody tr th:only-of-type {\n",
       "        vertical-align: middle;\n",
       "    }\n",
       "\n",
       "    .dataframe tbody tr th {\n",
       "        vertical-align: top;\n",
       "    }\n",
       "\n",
       "    .dataframe thead th {\n",
       "        text-align: right;\n",
       "    }\n",
       "</style>\n",
       "<table border=\"1\" class=\"dataframe\">\n",
       "  <thead>\n",
       "    <tr style=\"text-align: right;\">\n",
       "      <th></th>\n",
       "      <th>publish_date</th>\n",
       "      <th>headline_text</th>\n",
       "      <th>year</th>\n",
       "    </tr>\n",
       "  </thead>\n",
       "  <tbody>\n",
       "    <tr>\n",
       "      <th>1002771</th>\n",
       "      <td>2016-01-01</td>\n",
       "      <td>1985 qld cabinet documents mabo decision</td>\n",
       "      <td>2016</td>\n",
       "    </tr>\n",
       "    <tr>\n",
       "      <th>1002772</th>\n",
       "      <td>2016-01-01</td>\n",
       "      <td>49ers juggle jarryd haynes talent mistakes</td>\n",
       "      <td>2016</td>\n",
       "    </tr>\n",
       "    <tr>\n",
       "      <th>1002773</th>\n",
       "      <td>2016-01-01</td>\n",
       "      <td>abjorensen the 2016 battlelines have been drawn</td>\n",
       "      <td>2016</td>\n",
       "    </tr>\n",
       "    <tr>\n",
       "      <th>1002774</th>\n",
       "      <td>2016-01-01</td>\n",
       "      <td>alex ross takes diving catch to dismiss michae...</td>\n",
       "      <td>2016</td>\n",
       "    </tr>\n",
       "    <tr>\n",
       "      <th>1002775</th>\n",
       "      <td>2016-01-01</td>\n",
       "      <td>ama welcome no jab; no pay vaccination policy</td>\n",
       "      <td>2016</td>\n",
       "    </tr>\n",
       "    <tr>\n",
       "      <th>1002776</th>\n",
       "      <td>2016-01-01</td>\n",
       "      <td>angry nix coach merrick slams odonovan headbutt</td>\n",
       "      <td>2016</td>\n",
       "    </tr>\n",
       "    <tr>\n",
       "      <th>1002777</th>\n",
       "      <td>2016-01-01</td>\n",
       "      <td>archbishop philip wilson to return to work</td>\n",
       "      <td>2016</td>\n",
       "    </tr>\n",
       "    <tr>\n",
       "      <th>1002778</th>\n",
       "      <td>2016-01-01</td>\n",
       "      <td>auroras steal show lighting up the new year ni...</td>\n",
       "      <td>2016</td>\n",
       "    </tr>\n",
       "    <tr>\n",
       "      <th>1002779</th>\n",
       "      <td>2016-01-01</td>\n",
       "      <td>australians flock to fireworks displays around...</td>\n",
       "      <td>2016</td>\n",
       "    </tr>\n",
       "    <tr>\n",
       "      <th>1002780</th>\n",
       "      <td>2016-01-01</td>\n",
       "      <td>belgium holds three people over new years atta...</td>\n",
       "      <td>2016</td>\n",
       "    </tr>\n",
       "  </tbody>\n",
       "</table>\n",
       "</div>"
      ],
      "text/plain": [
       "        publish_date                                      headline_text  year\n",
       "1002771   2016-01-01           1985 qld cabinet documents mabo decision  2016\n",
       "1002772   2016-01-01         49ers juggle jarryd haynes talent mistakes  2016\n",
       "1002773   2016-01-01    abjorensen the 2016 battlelines have been drawn  2016\n",
       "1002774   2016-01-01  alex ross takes diving catch to dismiss michae...  2016\n",
       "1002775   2016-01-01      ama welcome no jab; no pay vaccination policy  2016\n",
       "1002776   2016-01-01    angry nix coach merrick slams odonovan headbutt  2016\n",
       "1002777   2016-01-01         archbishop philip wilson to return to work  2016\n",
       "1002778   2016-01-01  auroras steal show lighting up the new year ni...  2016\n",
       "1002779   2016-01-01  australians flock to fireworks displays around...  2016\n",
       "1002780   2016-01-01  belgium holds three people over new years atta...  2016"
      ]
     },
     "execution_count": 8,
     "metadata": {},
     "output_type": "execute_result"
    }
   ],
   "source": [
    "df_data.head(10)"
   ]
  },
  {
   "cell_type": "code",
   "execution_count": 9,
   "metadata": {
    "ExecuteTime": {
     "end_time": "2020-03-03T20:59:53.272951Z",
     "start_time": "2020-03-03T20:59:53.265884Z"
    }
   },
   "outputs": [
    {
     "data": {
      "text/plain": [
       "publish_date     False\n",
       "headline_text    False\n",
       "year             False\n",
       "dtype: bool"
      ]
     },
     "execution_count": 9,
     "metadata": {},
     "output_type": "execute_result"
    }
   ],
   "source": [
    "df_test.isnull().any()"
   ]
  },
  {
   "cell_type": "markdown",
   "metadata": {},
   "source": [
    "### Data Preprocessing"
   ]
  },
  {
   "cell_type": "markdown",
   "metadata": {
    "ExecuteTime": {
     "end_time": "2020-03-01T23:47:41.259572Z",
     "start_time": "2020-03-01T23:44:52.391Z"
    }
   },
   "source": [
    "- Code"
   ]
  },
  {
   "cell_type": "code",
   "execution_count": 10,
   "metadata": {
    "ExecuteTime": {
     "end_time": "2020-03-03T20:59:53.281417Z",
     "start_time": "2020-03-03T20:59:53.274753Z"
    }
   },
   "outputs": [],
   "source": [
    "def preprocess_data(corpus, lemmatizer, stemmer, workers_num=12):\n",
    "    \"\"\"Operation of data cleaning and tokenization consisting of the following steps:\n",
    "        1. Casting sentences to lowercase.\n",
    "        2. Removing punctuation.\n",
    "        3. Removing words containing digits and digits.\n",
    "        4. Removing stopwords.\n",
    "        5. Tokenization.\n",
    "        6. Removal of tokens shorter than 3 letters.\n",
    "        7. Lemmatization.\n",
    "        8. Stemming.\n",
    "    \"\"\"\n",
    "\n",
    "    corpus_preprocessed = []\n",
    "    for i in tqdm(range(len(corpus))):\n",
    "        document = corpus[i]\n",
    "        document_preprocessed = []\n",
    "\n",
    "        document_cleaned = document.lower()\n",
    "        document_cleaned = re.sub(r\"[^a-zA-Z0-9]\", \" \", document_cleaned)\n",
    "        document_cleaned = re.sub(r\"\\w*\\d\\w*\", \"\", document_cleaned)\n",
    "\n",
    "        for token in word_tokenize(document_cleaned):\n",
    "            if token not in stopwords.words(\"english\") and len(token) > 3:\n",
    "                token = stemmer.stem(token)\n",
    "                token = lemmatizer.lemmatize(token)\n",
    "                document_preprocessed.append(token)\n",
    "        corpus_preprocessed.append(document_preprocessed)\n",
    "\n",
    "    return corpus_preprocessed"
   ]
  },
  {
   "cell_type": "markdown",
   "metadata": {},
   "source": [
    "- Preprocessing"
   ]
  },
  {
   "cell_type": "code",
   "execution_count": 11,
   "metadata": {
    "ExecuteTime": {
     "end_time": "2020-03-03T21:03:58.302677Z",
     "start_time": "2020-03-03T20:59:53.283316Z"
    },
    "scrolled": false
   },
   "outputs": [
    {
     "name": "stderr",
     "output_type": "stream",
     "text": [
      "100%|██████████| 179619/179619 [04:05<00:00, 733.10it/s]\n"
     ]
    }
   ],
   "source": [
    "lemmatizer = WordNetLemmatizer()\n",
    "stemmer = PorterStemmer()\n",
    "\n",
    "corpus_preprocessed = preprocess_data(df_data[\"headline_text\"].values, lemmatizer, stemmer)"
   ]
  },
  {
   "cell_type": "markdown",
   "metadata": {},
   "source": [
    "- Visualisation"
   ]
  },
  {
   "cell_type": "code",
   "execution_count": 12,
   "metadata": {
    "ExecuteTime": {
     "end_time": "2020-03-03T21:03:58.308569Z",
     "start_time": "2020-03-03T21:03:58.303947Z"
    }
   },
   "outputs": [
    {
     "name": "stdout",
     "output_type": "stream",
     "text": [
      "First 10 preprocessed documents:\n"
     ]
    },
    {
     "data": {
      "text/plain": [
       "[['cabinet', 'document', 'mabo', 'decis'],\n",
       " ['juggl', 'jarryd', 'hayn', 'talent', 'mistak'],\n",
       " ['abjorensen', 'battlelin', 'drawn'],\n",
       " ['alex', 'ross', 'take', 'dive', 'catch', 'dismiss', 'michael', 'lumb'],\n",
       " ['welcom', 'vaccin', 'polici'],\n",
       " ['angri', 'coach', 'merrick', 'slam', 'odonovan', 'headbutt'],\n",
       " ['archbishop', 'philip', 'wilson', 'return', 'work'],\n",
       " ['aurora', 'steal', 'show', 'light', 'year', 'night'],\n",
       " ['australian', 'flock', 'firework', 'display', 'around', 'countri'],\n",
       " ['belgium', 'hold', 'three', 'peopl', 'year', 'attack', 'plot']]"
      ]
     },
     "execution_count": 12,
     "metadata": {},
     "output_type": "execute_result"
    }
   ],
   "source": [
    "print(\"First 10 preprocessed documents:\")\n",
    "corpus_preprocessed[:10]"
   ]
  },
  {
   "cell_type": "markdown",
   "metadata": {
    "ExecuteTime": {
     "end_time": "2020-03-02T00:15:27.789964Z",
     "start_time": "2020-03-02T00:15:27.785279Z"
    }
   },
   "source": [
    "### Creating Bag of Words"
   ]
  },
  {
   "cell_type": "markdown",
   "metadata": {
    "ExecuteTime": {
     "end_time": "2020-03-02T00:42:20.145863Z",
     "start_time": "2020-03-02T00:42:20.142083Z"
    }
   },
   "source": [
    "Most of preprocessing was already done so CountVectorizer needs to be properly configured.\n",
    "\n",
    "1. Tokens which appear in less than 15 documents will be removed.\n",
    "2. Tokens which appear too often - in more than 75% of documents in corpus will be removed.\n",
    "\n"
   ]
  },
  {
   "cell_type": "markdown",
   "metadata": {},
   "source": [
    "- Creating Bag of Words"
   ]
  },
  {
   "cell_type": "code",
   "execution_count": 13,
   "metadata": {
    "ExecuteTime": {
     "end_time": "2020-03-03T21:03:59.043360Z",
     "start_time": "2020-03-03T21:03:58.310226Z"
    }
   },
   "outputs": [
    {
     "data": {
      "text/plain": [
       "CountVectorizer(analyzer='word', binary=False, decode_error='strict',\n",
       "        dtype=<class 'numpy.int64'>, encoding='utf-8', input='content',\n",
       "        lowercase=False, max_df=0.75, max_features=30000, min_df=15,\n",
       "        ngram_range=(1, 1), preprocessor=None, stop_words=None,\n",
       "        strip_accents=None, token_pattern='(?u)\\\\b\\\\w\\\\w+\\\\b',\n",
       "        tokenizer=<function return_tokens at 0x136da17b8>, vocabulary=None)"
      ]
     },
     "execution_count": 13,
     "metadata": {},
     "output_type": "execute_result"
    }
   ],
   "source": [
    "def return_tokens(token_list):\n",
    "    \"\"\"Proxy function so CountVectorizer can use already preprocessed corpus where each document\n",
    "    is a list of tokens.\n",
    "    \"\"\"\n",
    "    return token_list\n",
    "\n",
    "bow = CountVectorizer(\n",
    "    analyzer=\"word\", \n",
    "    min_df=15, \n",
    "    max_df=0.75, \n",
    "    max_features=30000,\n",
    "    lowercase=False,\n",
    "    tokenizer=return_tokens\n",
    ")\n",
    "\n",
    "bow.fit(corpus_preprocessed)"
   ]
  },
  {
   "cell_type": "markdown",
   "metadata": {},
   "source": [
    "- Preview"
   ]
  },
  {
   "cell_type": "code",
   "execution_count": 14,
   "metadata": {
    "ExecuteTime": {
     "end_time": "2020-03-03T21:03:59.056577Z",
     "start_time": "2020-03-03T21:03:59.044772Z"
    }
   },
   "outputs": [
    {
     "name": "stdout",
     "output_type": "stream",
     "text": [
      "Number of tokens in bag: 6724\n",
      "['aaco', 'aaron', 'abalon', 'abandon', 'abar', 'abattoir', 'abba', 'abbott', 'abc', 'abcc', 'abduct', 'abetz', 'abil', 'abl', 'ablett', 'aboard', 'abolish', 'aborigin', 'abort', 'abroad', 'absenc', 'absolut', 'abus', 'academ', 'academi', 'accc', 'acceler', 'accept', 'access', 'accid', 'accident', 'accommod', 'accord', 'account', 'accredit', 'accus', 'acdc', 'aceh', 'achiev', 'acid', 'acknowledg', 'acland', 'acquir', 'acquisit', 'acquit', 'across', 'act', 'action', 'activ', 'activist', 'actor', 'actress', 'actu', 'actual', 'ad', 'adam', 'adani', 'adapt', 'add', 'addict', 'addit', 'address', 'adel', 'adelaid', 'adfa', 'adjourn', 'adjust', 'adler', 'administr', 'admir', 'admiss', 'admit', 'adopt', 'adrian', 'adult', 'advanc', 'advantag', 'adventur', 'advertis', 'advic', 'advis', 'advisor', 'advisori', 'advoc', 'aemo', 'aerial', 'affair', 'affect', 'afford', 'afghan', 'afghanistan', 'afl', 'aflw', 'afraid', 'africa', 'african', 'aftermath', 'age', 'agenc', 'agenda']\n"
     ]
    }
   ],
   "source": [
    "print(\"Number of tokens in bag: {}\".format(len(bow.get_feature_names())))\n",
    "print(bow.get_feature_names()[:100])"
   ]
  },
  {
   "cell_type": "markdown",
   "metadata": {},
   "source": [
    "- Transforming data"
   ]
  },
  {
   "cell_type": "code",
   "execution_count": 15,
   "metadata": {
    "ExecuteTime": {
     "end_time": "2020-03-03T21:03:59.818937Z",
     "start_time": "2020-03-03T21:03:59.058599Z"
    }
   },
   "outputs": [],
   "source": [
    "corpus_vectorized = bow.fit_transform(corpus_preprocessed)"
   ]
  },
  {
   "cell_type": "markdown",
   "metadata": {},
   "source": [
    "- Previewing Sparsicity\n",
    "Percentage of non-zero datapooints in the document-word matrix. "
   ]
  },
  {
   "cell_type": "code",
   "execution_count": 16,
   "metadata": {
    "ExecuteTime": {
     "end_time": "2020-03-03T21:04:10.314477Z",
     "start_time": "2020-03-03T21:03:59.820699Z"
    }
   },
   "outputs": [
    {
     "name": "stdout",
     "output_type": "stream",
     "text": [
      "Sparsicity: 0.07672396956266135%\n"
     ]
    }
   ],
   "source": [
    "print(\"Sparsicity: {}%\".format(\n",
    "    ((corpus_vectorized.todense() > 0.0).sum() / corpus_vectorized.todense().size) * 100.0)\n",
    ")"
   ]
  },
  {
   "cell_type": "markdown",
   "metadata": {},
   "source": [
    "### Building LDA"
   ]
  },
  {
   "cell_type": "markdown",
   "metadata": {},
   "source": [
    "- Constructing model\n",
    "\n",
    "Performing simple GridSearch on parameters `n_components` (number of topics) and `learning_decay` to find model with highest Log Likelihood.\n"
   ]
  },
  {
   "cell_type": "code",
   "execution_count": 17,
   "metadata": {
    "ExecuteTime": {
     "end_time": "2020-03-03T21:35:28.269480Z",
     "start_time": "2020-03-03T21:04:10.316085Z"
    }
   },
   "outputs": [
    {
     "name": "stdout",
     "output_type": "stream",
     "text": [
      "Fitting 3 folds for each of 12 candidates, totalling 36 fits\n"
     ]
    },
    {
     "name": "stderr",
     "output_type": "stream",
     "text": [
      "[Parallel(n_jobs=-1)]: Using backend LokyBackend with 12 concurrent workers.\n",
      "[Parallel(n_jobs=-1)]: Done  36 out of  36 | elapsed: 27.3min finished\n"
     ]
    },
    {
     "data": {
      "image/png": "[encoded data removed]",
      "text/plain": [
       "<Figure size 1152x432 with 1 Axes>"
      ]
     },
     "metadata": {
      "needs_background": "light"
     },
     "output_type": "display_data"
    }
   ],
   "source": [
    "search_param_space = {\n",
    "    \"n_components\": [10, 15, 20, 25], \n",
    "    \"learning_decay\": [0.3, 0.5, 0.7],\n",
    "    \"random_state\": [RANDOM_SEED]\n",
    "}\n",
    "\n",
    "grid_search = GridSearchCV(\n",
    "    LatentDirichletAllocation(), \n",
    "    param_grid=search_param_space, \n",
    "    verbose=1,\n",
    "    n_jobs=-1,\n",
    "    cv=3\n",
    ")\n",
    "grid_search.fit(corpus_vectorized)\n",
    "\n",
    "scores = grid_search.cv_results_[\"mean_test_score\"]\n",
    "scores = np.array(scores).reshape(\n",
    "    len(search_param_space[\"n_components\"]), len(search_param_space[\"learning_decay\"])\n",
    ")\n",
    "\n",
    "fig, ax = plt.subplots(1,1)\n",
    "fig.set_size_inches(16, 6)\n",
    "\n",
    "for idx, n in enumerate(search_param_space[\"n_components\"]):\n",
    "    ax.plot(search_param_space[\"learning_decay\"], scores[idx,:], \"-o\", \n",
    "            label=\"Number of Topics {}\".format(n))\n",
    "    ax.set_title(\"Grid Search Scores\")\n",
    "    ax.set_xlabel(\"Learning Rate Decay\")\n",
    "    ax.set_ylabel(\"Log-Likelihood Loss\")\n",
    "    ax.set_xticks(search_param_space[\"learning_decay\"])\n",
    "    ax.legend()\n",
    "    ax.grid()"
   ]
  },
  {
   "cell_type": "markdown",
   "metadata": {},
   "source": [
    "- Best model"
   ]
  },
  {
   "cell_type": "code",
   "execution_count": 18,
   "metadata": {
    "ExecuteTime": {
     "end_time": "2020-03-03T21:35:28.273803Z",
     "start_time": "2020-03-03T21:35:28.271311Z"
    }
   },
   "outputs": [],
   "source": [
    "model = grid_search.best_estimator_"
   ]
  },
  {
   "cell_type": "code",
   "execution_count": 19,
   "metadata": {
    "ExecuteTime": {
     "end_time": "2020-03-03T21:35:28.279101Z",
     "start_time": "2020-03-03T21:35:28.275336Z"
    }
   },
   "outputs": [
    {
     "data": {
      "text/plain": [
       "{'batch_size': 128,\n",
       " 'doc_topic_prior': None,\n",
       " 'evaluate_every': -1,\n",
       " 'learning_decay': 0.3,\n",
       " 'learning_method': 'batch',\n",
       " 'learning_offset': 10.0,\n",
       " 'max_doc_update_iter': 100,\n",
       " 'max_iter': 10,\n",
       " 'mean_change_tol': 0.001,\n",
       " 'n_components': 10,\n",
       " 'n_jobs': None,\n",
       " 'n_topics': None,\n",
       " 'perp_tol': 0.1,\n",
       " 'random_state': 2020,\n",
       " 'topic_word_prior': None,\n",
       " 'total_samples': 1000000.0,\n",
       " 'verbose': 0}"
      ]
     },
     "execution_count": 19,
     "metadata": {},
     "output_type": "execute_result"
    }
   ],
   "source": [
    "model.get_params()"
   ]
  },
  {
   "cell_type": "markdown",
   "metadata": {},
   "source": [
    "- Score"
   ]
  },
  {
   "cell_type": "markdown",
   "metadata": {
    "ExecuteTime": {
     "end_time": "2020-03-02T11:47:12.936884Z",
     "start_time": "2020-03-02T11:47:12.932405Z"
    }
   },
   "source": [
    "1. Log Likelihood: the higher value the better.\n",
    "2. Preplexity: the lower value the better."
   ]
  },
  {
   "cell_type": "code",
   "execution_count": 20,
   "metadata": {
    "ExecuteTime": {
     "end_time": "2020-03-03T21:36:09.649838Z",
     "start_time": "2020-03-03T21:35:28.280438Z"
    }
   },
   "outputs": [
    {
     "name": "stdout",
     "output_type": "stream",
     "text": [
      "Log Likelihood:  -7457915.341316427\n",
      "Perplexity:  3046.865873438386\n"
     ]
    }
   ],
   "source": [
    "print(\"Log Likelihood: \", model.score(corpus_vectorized))\n",
    "print(\"Perplexity: \", model.perplexity(corpus_vectorized))"
   ]
  },
  {
   "cell_type": "markdown",
   "metadata": {},
   "source": [
    "### Prediction"
   ]
  },
  {
   "cell_type": "code",
   "execution_count": 21,
   "metadata": {
    "ExecuteTime": {
     "end_time": "2020-03-03T21:36:23.127930Z",
     "start_time": "2020-03-03T21:36:09.651476Z"
    }
   },
   "outputs": [],
   "source": [
    "corpus_lda = model.transform(corpus_vectorized)"
   ]
  },
  {
   "cell_type": "markdown",
   "metadata": {},
   "source": [
    "- Example"
   ]
  },
  {
   "cell_type": "code",
   "execution_count": 22,
   "metadata": {
    "ExecuteTime": {
     "end_time": "2020-03-03T21:36:23.133528Z",
     "start_time": "2020-03-03T21:36:23.129317Z"
    }
   },
   "outputs": [
    {
     "data": {
      "text/plain": [
       "array([[0.2206326 , 0.02000035, 0.61935047, 0.02000088, 0.02001027,\n",
       "        0.02000273, 0.02      , 0.02000106, 0.02000147, 0.02000017],\n",
       "       [0.01666667, 0.01666733, 0.34736788, 0.01666667, 0.01667124,\n",
       "        0.30031153, 0.23564542, 0.01666667, 0.01666937, 0.01666723],\n",
       "       [0.05      , 0.05      , 0.05      , 0.05      , 0.05000263,\n",
       "        0.05      , 0.54999737, 0.05      , 0.05      , 0.05      ],\n",
       "       [0.01250268, 0.01250195, 0.01250031, 0.01250328, 0.46978333,\n",
       "        0.01250343, 0.01250095, 0.0125004 , 0.01250388, 0.4301998 ],\n",
       "       [0.27500006, 0.27499712, 0.27499951, 0.02500001, 0.025     ,\n",
       "        0.025     , 0.02500282, 0.025     , 0.02500047, 0.025     ]])"
      ]
     },
     "execution_count": 22,
     "metadata": {},
     "output_type": "execute_result"
    }
   ],
   "source": [
    "corpus_lda[:5]"
   ]
  },
  {
   "cell_type": "code",
   "execution_count": 23,
   "metadata": {
    "ExecuteTime": {
     "end_time": "2020-03-03T21:36:23.140697Z",
     "start_time": "2020-03-03T21:36:23.137175Z"
    }
   },
   "outputs": [
    {
     "data": {
      "text/plain": [
       "(179619, 10)"
      ]
     },
     "execution_count": 23,
     "metadata": {},
     "output_type": "execute_result"
    }
   ],
   "source": [
    "corpus_lda.shape"
   ]
  },
  {
   "cell_type": "markdown",
   "metadata": {},
   "source": [
    "#### Dominant topic in each document"
   ]
  },
  {
   "cell_type": "markdown",
   "metadata": {},
   "source": [
    "- Code"
   ]
  },
  {
   "cell_type": "code",
   "execution_count": 24,
   "metadata": {
    "ExecuteTime": {
     "end_time": "2020-03-03T21:36:23.147171Z",
     "start_time": "2020-03-03T21:36:23.142943Z"
    }
   },
   "outputs": [],
   "source": [
    "def color_green(value):\n",
    "    \"\"\"Assigns color string according to value.\"\"\"\n",
    "    if isinstance(value, int):\n",
    "        color = \"black\"\n",
    "    else:\n",
    "        color = \"green\" if value > 0.1 else \"black\"\n",
    "    return \"color: {col}\".format(col=color)\n",
    "\n",
    "def make_bold(value):\n",
    "    \"\"\"Asigns font thickness according to value.\"\"\"\n",
    "    if isinstance(value, int):\n",
    "        weight = 400\n",
    "    else:\n",
    "        weight = 700 if value > 0.1 else 400\n",
    "    return \"font-weight: {weight}\".format(weight=weight)"
   ]
  },
  {
   "cell_type": "markdown",
   "metadata": {},
   "source": [
    "- Example"
   ]
  },
  {
   "cell_type": "code",
   "execution_count": 25,
   "metadata": {
    "ExecuteTime": {
     "end_time": "2020-03-03T21:36:23.599837Z",
     "start_time": "2020-03-03T21:36:23.148614Z"
    }
   },
   "outputs": [
    {
     "data": {
      "text/html": [
       "<style  type=\"text/css\" >\n",
       "    #T_07836c98_5d97_11ea_acd4_f218981cc5a2row0_col0 {\n",
       "            color:  green;\n",
       "            font-weight:  700;\n",
       "        }    #T_07836c98_5d97_11ea_acd4_f218981cc5a2row0_col1 {\n",
       "            color:  black;\n",
       "            font-weight:  400;\n",
       "        }    #T_07836c98_5d97_11ea_acd4_f218981cc5a2row0_col2 {\n",
       "            color:  green;\n",
       "            font-weight:  700;\n",
       "        }    #T_07836c98_5d97_11ea_acd4_f218981cc5a2row0_col3 {\n",
       "            color:  black;\n",
       "            font-weight:  400;\n",
       "        }    #T_07836c98_5d97_11ea_acd4_f218981cc5a2row0_col4 {\n",
       "            color:  black;\n",
       "            font-weight:  400;\n",
       "        }    #T_07836c98_5d97_11ea_acd4_f218981cc5a2row0_col5 {\n",
       "            color:  black;\n",
       "            font-weight:  400;\n",
       "        }    #T_07836c98_5d97_11ea_acd4_f218981cc5a2row0_col6 {\n",
       "            color:  black;\n",
       "            font-weight:  400;\n",
       "        }    #T_07836c98_5d97_11ea_acd4_f218981cc5a2row0_col7 {\n",
       "            color:  black;\n",
       "            font-weight:  400;\n",
       "        }    #T_07836c98_5d97_11ea_acd4_f218981cc5a2row0_col8 {\n",
       "            color:  black;\n",
       "            font-weight:  400;\n",
       "        }    #T_07836c98_5d97_11ea_acd4_f218981cc5a2row0_col9 {\n",
       "            color:  black;\n",
       "            font-weight:  400;\n",
       "        }    #T_07836c98_5d97_11ea_acd4_f218981cc5a2row0_col10 {\n",
       "            color:  black;\n",
       "            font-weight:  400;\n",
       "        }    #T_07836c98_5d97_11ea_acd4_f218981cc5a2row1_col0 {\n",
       "            color:  black;\n",
       "            font-weight:  400;\n",
       "        }    #T_07836c98_5d97_11ea_acd4_f218981cc5a2row1_col1 {\n",
       "            color:  black;\n",
       "            font-weight:  400;\n",
       "        }    #T_07836c98_5d97_11ea_acd4_f218981cc5a2row1_col2 {\n",
       "            color:  green;\n",
       "            font-weight:  700;\n",
       "        }    #T_07836c98_5d97_11ea_acd4_f218981cc5a2row1_col3 {\n",
       "            color:  black;\n",
       "            font-weight:  400;\n",
       "        }    #T_07836c98_5d97_11ea_acd4_f218981cc5a2row1_col4 {\n",
       "            color:  black;\n",
       "            font-weight:  400;\n",
       "        }    #T_07836c98_5d97_11ea_acd4_f218981cc5a2row1_col5 {\n",
       "            color:  green;\n",
       "            font-weight:  700;\n",
       "        }    #T_07836c98_5d97_11ea_acd4_f218981cc5a2row1_col6 {\n",
       "            color:  green;\n",
       "            font-weight:  700;\n",
       "        }    #T_07836c98_5d97_11ea_acd4_f218981cc5a2row1_col7 {\n",
       "            color:  black;\n",
       "            font-weight:  400;\n",
       "        }    #T_07836c98_5d97_11ea_acd4_f218981cc5a2row1_col8 {\n",
       "            color:  black;\n",
       "            font-weight:  400;\n",
       "        }    #T_07836c98_5d97_11ea_acd4_f218981cc5a2row1_col9 {\n",
       "            color:  black;\n",
       "            font-weight:  400;\n",
       "        }    #T_07836c98_5d97_11ea_acd4_f218981cc5a2row1_col10 {\n",
       "            color:  black;\n",
       "            font-weight:  400;\n",
       "        }    #T_07836c98_5d97_11ea_acd4_f218981cc5a2row2_col0 {\n",
       "            color:  black;\n",
       "            font-weight:  400;\n",
       "        }    #T_07836c98_5d97_11ea_acd4_f218981cc5a2row2_col1 {\n",
       "            color:  black;\n",
       "            font-weight:  400;\n",
       "        }    #T_07836c98_5d97_11ea_acd4_f218981cc5a2row2_col2 {\n",
       "            color:  black;\n",
       "            font-weight:  400;\n",
       "        }    #T_07836c98_5d97_11ea_acd4_f218981cc5a2row2_col3 {\n",
       "            color:  black;\n",
       "            font-weight:  400;\n",
       "        }    #T_07836c98_5d97_11ea_acd4_f218981cc5a2row2_col4 {\n",
       "            color:  black;\n",
       "            font-weight:  400;\n",
       "        }    #T_07836c98_5d97_11ea_acd4_f218981cc5a2row2_col5 {\n",
       "            color:  black;\n",
       "            font-weight:  400;\n",
       "        }    #T_07836c98_5d97_11ea_acd4_f218981cc5a2row2_col6 {\n",
       "            color:  green;\n",
       "            font-weight:  700;\n",
       "        }    #T_07836c98_5d97_11ea_acd4_f218981cc5a2row2_col7 {\n",
       "            color:  black;\n",
       "            font-weight:  400;\n",
       "        }    #T_07836c98_5d97_11ea_acd4_f218981cc5a2row2_col8 {\n",
       "            color:  black;\n",
       "            font-weight:  400;\n",
       "        }    #T_07836c98_5d97_11ea_acd4_f218981cc5a2row2_col9 {\n",
       "            color:  black;\n",
       "            font-weight:  400;\n",
       "        }    #T_07836c98_5d97_11ea_acd4_f218981cc5a2row2_col10 {\n",
       "            color:  black;\n",
       "            font-weight:  400;\n",
       "        }    #T_07836c98_5d97_11ea_acd4_f218981cc5a2row3_col0 {\n",
       "            color:  black;\n",
       "            font-weight:  400;\n",
       "        }    #T_07836c98_5d97_11ea_acd4_f218981cc5a2row3_col1 {\n",
       "            color:  black;\n",
       "            font-weight:  400;\n",
       "        }    #T_07836c98_5d97_11ea_acd4_f218981cc5a2row3_col2 {\n",
       "            color:  black;\n",
       "            font-weight:  400;\n",
       "        }    #T_07836c98_5d97_11ea_acd4_f218981cc5a2row3_col3 {\n",
       "            color:  black;\n",
       "            font-weight:  400;\n",
       "        }    #T_07836c98_5d97_11ea_acd4_f218981cc5a2row3_col4 {\n",
       "            color:  green;\n",
       "            font-weight:  700;\n",
       "        }    #T_07836c98_5d97_11ea_acd4_f218981cc5a2row3_col5 {\n",
       "            color:  black;\n",
       "            font-weight:  400;\n",
       "        }    #T_07836c98_5d97_11ea_acd4_f218981cc5a2row3_col6 {\n",
       "            color:  black;\n",
       "            font-weight:  400;\n",
       "        }    #T_07836c98_5d97_11ea_acd4_f218981cc5a2row3_col7 {\n",
       "            color:  black;\n",
       "            font-weight:  400;\n",
       "        }    #T_07836c98_5d97_11ea_acd4_f218981cc5a2row3_col8 {\n",
       "            color:  black;\n",
       "            font-weight:  400;\n",
       "        }    #T_07836c98_5d97_11ea_acd4_f218981cc5a2row3_col9 {\n",
       "            color:  green;\n",
       "            font-weight:  700;\n",
       "        }    #T_07836c98_5d97_11ea_acd4_f218981cc5a2row3_col10 {\n",
       "            color:  black;\n",
       "            font-weight:  400;\n",
       "        }    #T_07836c98_5d97_11ea_acd4_f218981cc5a2row4_col0 {\n",
       "            color:  green;\n",
       "            font-weight:  700;\n",
       "        }    #T_07836c98_5d97_11ea_acd4_f218981cc5a2row4_col1 {\n",
       "            color:  green;\n",
       "            font-weight:  700;\n",
       "        }    #T_07836c98_5d97_11ea_acd4_f218981cc5a2row4_col2 {\n",
       "            color:  green;\n",
       "            font-weight:  700;\n",
       "        }    #T_07836c98_5d97_11ea_acd4_f218981cc5a2row4_col3 {\n",
       "            color:  black;\n",
       "            font-weight:  400;\n",
       "        }    #T_07836c98_5d97_11ea_acd4_f218981cc5a2row4_col4 {\n",
       "            color:  black;\n",
       "            font-weight:  400;\n",
       "        }    #T_07836c98_5d97_11ea_acd4_f218981cc5a2row4_col5 {\n",
       "            color:  black;\n",
       "            font-weight:  400;\n",
       "        }    #T_07836c98_5d97_11ea_acd4_f218981cc5a2row4_col6 {\n",
       "            color:  black;\n",
       "            font-weight:  400;\n",
       "        }    #T_07836c98_5d97_11ea_acd4_f218981cc5a2row4_col7 {\n",
       "            color:  black;\n",
       "            font-weight:  400;\n",
       "        }    #T_07836c98_5d97_11ea_acd4_f218981cc5a2row4_col8 {\n",
       "            color:  black;\n",
       "            font-weight:  400;\n",
       "        }    #T_07836c98_5d97_11ea_acd4_f218981cc5a2row4_col9 {\n",
       "            color:  black;\n",
       "            font-weight:  400;\n",
       "        }    #T_07836c98_5d97_11ea_acd4_f218981cc5a2row4_col10 {\n",
       "            color:  black;\n",
       "            font-weight:  400;\n",
       "        }    #T_07836c98_5d97_11ea_acd4_f218981cc5a2row5_col0 {\n",
       "            color:  black;\n",
       "            font-weight:  400;\n",
       "        }    #T_07836c98_5d97_11ea_acd4_f218981cc5a2row5_col1 {\n",
       "            color:  black;\n",
       "            font-weight:  400;\n",
       "        }    #T_07836c98_5d97_11ea_acd4_f218981cc5a2row5_col2 {\n",
       "            color:  black;\n",
       "            font-weight:  400;\n",
       "        }    #T_07836c98_5d97_11ea_acd4_f218981cc5a2row5_col3 {\n",
       "            color:  black;\n",
       "            font-weight:  400;\n",
       "        }    #T_07836c98_5d97_11ea_acd4_f218981cc5a2row5_col4 {\n",
       "            color:  green;\n",
       "            font-weight:  700;\n",
       "        }    #T_07836c98_5d97_11ea_acd4_f218981cc5a2row5_col5 {\n",
       "            color:  black;\n",
       "            font-weight:  400;\n",
       "        }    #T_07836c98_5d97_11ea_acd4_f218981cc5a2row5_col6 {\n",
       "            color:  black;\n",
       "            font-weight:  400;\n",
       "        }    #T_07836c98_5d97_11ea_acd4_f218981cc5a2row5_col7 {\n",
       "            color:  black;\n",
       "            font-weight:  400;\n",
       "        }    #T_07836c98_5d97_11ea_acd4_f218981cc5a2row5_col8 {\n",
       "            color:  black;\n",
       "            font-weight:  400;\n",
       "        }    #T_07836c98_5d97_11ea_acd4_f218981cc5a2row5_col9 {\n",
       "            color:  green;\n",
       "            font-weight:  700;\n",
       "        }    #T_07836c98_5d97_11ea_acd4_f218981cc5a2row5_col10 {\n",
       "            color:  black;\n",
       "            font-weight:  400;\n",
       "        }    #T_07836c98_5d97_11ea_acd4_f218981cc5a2row6_col0 {\n",
       "            color:  black;\n",
       "            font-weight:  400;\n",
       "        }    #T_07836c98_5d97_11ea_acd4_f218981cc5a2row6_col1 {\n",
       "            color:  black;\n",
       "            font-weight:  400;\n",
       "        }    #T_07836c98_5d97_11ea_acd4_f218981cc5a2row6_col2 {\n",
       "            color:  black;\n",
       "            font-weight:  400;\n",
       "        }    #T_07836c98_5d97_11ea_acd4_f218981cc5a2row6_col3 {\n",
       "            color:  black;\n",
       "            font-weight:  400;\n",
       "        }    #T_07836c98_5d97_11ea_acd4_f218981cc5a2row6_col4 {\n",
       "            color:  black;\n",
       "            font-weight:  400;\n",
       "        }    #T_07836c98_5d97_11ea_acd4_f218981cc5a2row6_col5 {\n",
       "            color:  green;\n",
       "            font-weight:  700;\n",
       "        }    #T_07836c98_5d97_11ea_acd4_f218981cc5a2row6_col6 {\n",
       "            color:  green;\n",
       "            font-weight:  700;\n",
       "        }    #T_07836c98_5d97_11ea_acd4_f218981cc5a2row6_col7 {\n",
       "            color:  black;\n",
       "            font-weight:  400;\n",
       "        }    #T_07836c98_5d97_11ea_acd4_f218981cc5a2row6_col8 {\n",
       "            color:  black;\n",
       "            font-weight:  400;\n",
       "        }    #T_07836c98_5d97_11ea_acd4_f218981cc5a2row6_col9 {\n",
       "            color:  black;\n",
       "            font-weight:  400;\n",
       "        }    #T_07836c98_5d97_11ea_acd4_f218981cc5a2row6_col10 {\n",
       "            color:  black;\n",
       "            font-weight:  400;\n",
       "        }    #T_07836c98_5d97_11ea_acd4_f218981cc5a2row7_col0 {\n",
       "            color:  black;\n",
       "            font-weight:  400;\n",
       "        }    #T_07836c98_5d97_11ea_acd4_f218981cc5a2row7_col1 {\n",
       "            color:  black;\n",
       "            font-weight:  400;\n",
       "        }    #T_07836c98_5d97_11ea_acd4_f218981cc5a2row7_col2 {\n",
       "            color:  green;\n",
       "            font-weight:  700;\n",
       "        }    #T_07836c98_5d97_11ea_acd4_f218981cc5a2row7_col3 {\n",
       "            color:  black;\n",
       "            font-weight:  400;\n",
       "        }    #T_07836c98_5d97_11ea_acd4_f218981cc5a2row7_col4 {\n",
       "            color:  black;\n",
       "            font-weight:  400;\n",
       "        }    #T_07836c98_5d97_11ea_acd4_f218981cc5a2row7_col5 {\n",
       "            color:  black;\n",
       "            font-weight:  400;\n",
       "        }    #T_07836c98_5d97_11ea_acd4_f218981cc5a2row7_col6 {\n",
       "            color:  black;\n",
       "            font-weight:  400;\n",
       "        }    #T_07836c98_5d97_11ea_acd4_f218981cc5a2row7_col7 {\n",
       "            color:  green;\n",
       "            font-weight:  700;\n",
       "        }    #T_07836c98_5d97_11ea_acd4_f218981cc5a2row7_col8 {\n",
       "            color:  black;\n",
       "            font-weight:  400;\n",
       "        }    #T_07836c98_5d97_11ea_acd4_f218981cc5a2row7_col9 {\n",
       "            color:  green;\n",
       "            font-weight:  700;\n",
       "        }    #T_07836c98_5d97_11ea_acd4_f218981cc5a2row7_col10 {\n",
       "            color:  black;\n",
       "            font-weight:  400;\n",
       "        }    #T_07836c98_5d97_11ea_acd4_f218981cc5a2row8_col0 {\n",
       "            color:  black;\n",
       "            font-weight:  400;\n",
       "        }    #T_07836c98_5d97_11ea_acd4_f218981cc5a2row8_col1 {\n",
       "            color:  black;\n",
       "            font-weight:  400;\n",
       "        }    #T_07836c98_5d97_11ea_acd4_f218981cc5a2row8_col2 {\n",
       "            color:  black;\n",
       "            font-weight:  400;\n",
       "        }    #T_07836c98_5d97_11ea_acd4_f218981cc5a2row8_col3 {\n",
       "            color:  green;\n",
       "            font-weight:  700;\n",
       "        }    #T_07836c98_5d97_11ea_acd4_f218981cc5a2row8_col4 {\n",
       "            color:  green;\n",
       "            font-weight:  700;\n",
       "        }    #T_07836c98_5d97_11ea_acd4_f218981cc5a2row8_col5 {\n",
       "            color:  black;\n",
       "            font-weight:  400;\n",
       "        }    #T_07836c98_5d97_11ea_acd4_f218981cc5a2row8_col6 {\n",
       "            color:  black;\n",
       "            font-weight:  400;\n",
       "        }    #T_07836c98_5d97_11ea_acd4_f218981cc5a2row8_col7 {\n",
       "            color:  black;\n",
       "            font-weight:  400;\n",
       "        }    #T_07836c98_5d97_11ea_acd4_f218981cc5a2row8_col8 {\n",
       "            color:  black;\n",
       "            font-weight:  400;\n",
       "        }    #T_07836c98_5d97_11ea_acd4_f218981cc5a2row8_col9 {\n",
       "            color:  black;\n",
       "            font-weight:  400;\n",
       "        }    #T_07836c98_5d97_11ea_acd4_f218981cc5a2row8_col10 {\n",
       "            color:  black;\n",
       "            font-weight:  400;\n",
       "        }    #T_07836c98_5d97_11ea_acd4_f218981cc5a2row9_col0 {\n",
       "            color:  black;\n",
       "            font-weight:  400;\n",
       "        }    #T_07836c98_5d97_11ea_acd4_f218981cc5a2row9_col1 {\n",
       "            color:  black;\n",
       "            font-weight:  400;\n",
       "        }    #T_07836c98_5d97_11ea_acd4_f218981cc5a2row9_col2 {\n",
       "            color:  black;\n",
       "            font-weight:  400;\n",
       "        }    #T_07836c98_5d97_11ea_acd4_f218981cc5a2row9_col3 {\n",
       "            color:  black;\n",
       "            font-weight:  400;\n",
       "        }    #T_07836c98_5d97_11ea_acd4_f218981cc5a2row9_col4 {\n",
       "            color:  black;\n",
       "            font-weight:  400;\n",
       "        }    #T_07836c98_5d97_11ea_acd4_f218981cc5a2row9_col5 {\n",
       "            color:  green;\n",
       "            font-weight:  700;\n",
       "        }    #T_07836c98_5d97_11ea_acd4_f218981cc5a2row9_col6 {\n",
       "            color:  black;\n",
       "            font-weight:  400;\n",
       "        }    #T_07836c98_5d97_11ea_acd4_f218981cc5a2row9_col7 {\n",
       "            color:  black;\n",
       "            font-weight:  400;\n",
       "        }    #T_07836c98_5d97_11ea_acd4_f218981cc5a2row9_col8 {\n",
       "            color:  green;\n",
       "            font-weight:  700;\n",
       "        }    #T_07836c98_5d97_11ea_acd4_f218981cc5a2row9_col9 {\n",
       "            color:  black;\n",
       "            font-weight:  400;\n",
       "        }    #T_07836c98_5d97_11ea_acd4_f218981cc5a2row9_col10 {\n",
       "            color:  black;\n",
       "            font-weight:  400;\n",
       "        }    #T_07836c98_5d97_11ea_acd4_f218981cc5a2row10_col0 {\n",
       "            color:  black;\n",
       "            font-weight:  400;\n",
       "        }    #T_07836c98_5d97_11ea_acd4_f218981cc5a2row10_col1 {\n",
       "            color:  black;\n",
       "            font-weight:  400;\n",
       "        }    #T_07836c98_5d97_11ea_acd4_f218981cc5a2row10_col2 {\n",
       "            color:  black;\n",
       "            font-weight:  400;\n",
       "        }    #T_07836c98_5d97_11ea_acd4_f218981cc5a2row10_col3 {\n",
       "            color:  green;\n",
       "            font-weight:  700;\n",
       "        }    #T_07836c98_5d97_11ea_acd4_f218981cc5a2row10_col4 {\n",
       "            color:  black;\n",
       "            font-weight:  400;\n",
       "        }    #T_07836c98_5d97_11ea_acd4_f218981cc5a2row10_col5 {\n",
       "            color:  black;\n",
       "            font-weight:  400;\n",
       "        }    #T_07836c98_5d97_11ea_acd4_f218981cc5a2row10_col6 {\n",
       "            color:  black;\n",
       "            font-weight:  400;\n",
       "        }    #T_07836c98_5d97_11ea_acd4_f218981cc5a2row10_col7 {\n",
       "            color:  green;\n",
       "            font-weight:  700;\n",
       "        }    #T_07836c98_5d97_11ea_acd4_f218981cc5a2row10_col8 {\n",
       "            color:  green;\n",
       "            font-weight:  700;\n",
       "        }    #T_07836c98_5d97_11ea_acd4_f218981cc5a2row10_col9 {\n",
       "            color:  green;\n",
       "            font-weight:  700;\n",
       "        }    #T_07836c98_5d97_11ea_acd4_f218981cc5a2row10_col10 {\n",
       "            color:  black;\n",
       "            font-weight:  400;\n",
       "        }    #T_07836c98_5d97_11ea_acd4_f218981cc5a2row11_col0 {\n",
       "            color:  black;\n",
       "            font-weight:  400;\n",
       "        }    #T_07836c98_5d97_11ea_acd4_f218981cc5a2row11_col1 {\n",
       "            color:  black;\n",
       "            font-weight:  400;\n",
       "        }    #T_07836c98_5d97_11ea_acd4_f218981cc5a2row11_col2 {\n",
       "            color:  green;\n",
       "            font-weight:  700;\n",
       "        }    #T_07836c98_5d97_11ea_acd4_f218981cc5a2row11_col3 {\n",
       "            color:  black;\n",
       "            font-weight:  400;\n",
       "        }    #T_07836c98_5d97_11ea_acd4_f218981cc5a2row11_col4 {\n",
       "            color:  black;\n",
       "            font-weight:  400;\n",
       "        }    #T_07836c98_5d97_11ea_acd4_f218981cc5a2row11_col5 {\n",
       "            color:  black;\n",
       "            font-weight:  400;\n",
       "        }    #T_07836c98_5d97_11ea_acd4_f218981cc5a2row11_col6 {\n",
       "            color:  green;\n",
       "            font-weight:  700;\n",
       "        }    #T_07836c98_5d97_11ea_acd4_f218981cc5a2row11_col7 {\n",
       "            color:  black;\n",
       "            font-weight:  400;\n",
       "        }    #T_07836c98_5d97_11ea_acd4_f218981cc5a2row11_col8 {\n",
       "            color:  black;\n",
       "            font-weight:  400;\n",
       "        }    #T_07836c98_5d97_11ea_acd4_f218981cc5a2row11_col9 {\n",
       "            color:  black;\n",
       "            font-weight:  400;\n",
       "        }    #T_07836c98_5d97_11ea_acd4_f218981cc5a2row11_col10 {\n",
       "            color:  black;\n",
       "            font-weight:  400;\n",
       "        }    #T_07836c98_5d97_11ea_acd4_f218981cc5a2row12_col0 {\n",
       "            color:  black;\n",
       "            font-weight:  400;\n",
       "        }    #T_07836c98_5d97_11ea_acd4_f218981cc5a2row12_col1 {\n",
       "            color:  black;\n",
       "            font-weight:  400;\n",
       "        }    #T_07836c98_5d97_11ea_acd4_f218981cc5a2row12_col2 {\n",
       "            color:  green;\n",
       "            font-weight:  700;\n",
       "        }    #T_07836c98_5d97_11ea_acd4_f218981cc5a2row12_col3 {\n",
       "            color:  black;\n",
       "            font-weight:  400;\n",
       "        }    #T_07836c98_5d97_11ea_acd4_f218981cc5a2row12_col4 {\n",
       "            color:  black;\n",
       "            font-weight:  400;\n",
       "        }    #T_07836c98_5d97_11ea_acd4_f218981cc5a2row12_col5 {\n",
       "            color:  black;\n",
       "            font-weight:  400;\n",
       "        }    #T_07836c98_5d97_11ea_acd4_f218981cc5a2row12_col6 {\n",
       "            color:  black;\n",
       "            font-weight:  400;\n",
       "        }    #T_07836c98_5d97_11ea_acd4_f218981cc5a2row12_col7 {\n",
       "            color:  black;\n",
       "            font-weight:  400;\n",
       "        }    #T_07836c98_5d97_11ea_acd4_f218981cc5a2row12_col8 {\n",
       "            color:  green;\n",
       "            font-weight:  700;\n",
       "        }    #T_07836c98_5d97_11ea_acd4_f218981cc5a2row12_col9 {\n",
       "            color:  green;\n",
       "            font-weight:  700;\n",
       "        }    #T_07836c98_5d97_11ea_acd4_f218981cc5a2row12_col10 {\n",
       "            color:  black;\n",
       "            font-weight:  400;\n",
       "        }    #T_07836c98_5d97_11ea_acd4_f218981cc5a2row13_col0 {\n",
       "            color:  black;\n",
       "            font-weight:  400;\n",
       "        }    #T_07836c98_5d97_11ea_acd4_f218981cc5a2row13_col1 {\n",
       "            color:  green;\n",
       "            font-weight:  700;\n",
       "        }    #T_07836c98_5d97_11ea_acd4_f218981cc5a2row13_col2 {\n",
       "            color:  black;\n",
       "            font-weight:  400;\n",
       "        }    #T_07836c98_5d97_11ea_acd4_f218981cc5a2row13_col3 {\n",
       "            color:  green;\n",
       "            font-weight:  700;\n",
       "        }    #T_07836c98_5d97_11ea_acd4_f218981cc5a2row13_col4 {\n",
       "            color:  black;\n",
       "            font-weight:  400;\n",
       "        }    #T_07836c98_5d97_11ea_acd4_f218981cc5a2row13_col5 {\n",
       "            color:  black;\n",
       "            font-weight:  400;\n",
       "        }    #T_07836c98_5d97_11ea_acd4_f218981cc5a2row13_col6 {\n",
       "            color:  black;\n",
       "            font-weight:  400;\n",
       "        }    #T_07836c98_5d97_11ea_acd4_f218981cc5a2row13_col7 {\n",
       "            color:  black;\n",
       "            font-weight:  400;\n",
       "        }    #T_07836c98_5d97_11ea_acd4_f218981cc5a2row13_col8 {\n",
       "            color:  black;\n",
       "            font-weight:  400;\n",
       "        }    #T_07836c98_5d97_11ea_acd4_f218981cc5a2row13_col9 {\n",
       "            color:  black;\n",
       "            font-weight:  400;\n",
       "        }    #T_07836c98_5d97_11ea_acd4_f218981cc5a2row13_col10 {\n",
       "            color:  black;\n",
       "            font-weight:  400;\n",
       "        }    #T_07836c98_5d97_11ea_acd4_f218981cc5a2row14_col0 {\n",
       "            color:  green;\n",
       "            font-weight:  700;\n",
       "        }    #T_07836c98_5d97_11ea_acd4_f218981cc5a2row14_col1 {\n",
       "            color:  black;\n",
       "            font-weight:  400;\n",
       "        }    #T_07836c98_5d97_11ea_acd4_f218981cc5a2row14_col2 {\n",
       "            color:  black;\n",
       "            font-weight:  400;\n",
       "        }    #T_07836c98_5d97_11ea_acd4_f218981cc5a2row14_col3 {\n",
       "            color:  black;\n",
       "            font-weight:  400;\n",
       "        }    #T_07836c98_5d97_11ea_acd4_f218981cc5a2row14_col4 {\n",
       "            color:  black;\n",
       "            font-weight:  400;\n",
       "        }    #T_07836c98_5d97_11ea_acd4_f218981cc5a2row14_col5 {\n",
       "            color:  black;\n",
       "            font-weight:  400;\n",
       "        }    #T_07836c98_5d97_11ea_acd4_f218981cc5a2row14_col6 {\n",
       "            color:  black;\n",
       "            font-weight:  400;\n",
       "        }    #T_07836c98_5d97_11ea_acd4_f218981cc5a2row14_col7 {\n",
       "            color:  black;\n",
       "            font-weight:  400;\n",
       "        }    #T_07836c98_5d97_11ea_acd4_f218981cc5a2row14_col8 {\n",
       "            color:  black;\n",
       "            font-weight:  400;\n",
       "        }    #T_07836c98_5d97_11ea_acd4_f218981cc5a2row14_col9 {\n",
       "            color:  black;\n",
       "            font-weight:  400;\n",
       "        }    #T_07836c98_5d97_11ea_acd4_f218981cc5a2row14_col10 {\n",
       "            color:  black;\n",
       "            font-weight:  400;\n",
       "        }    #T_07836c98_5d97_11ea_acd4_f218981cc5a2row15_col0 {\n",
       "            color:  black;\n",
       "            font-weight:  400;\n",
       "        }    #T_07836c98_5d97_11ea_acd4_f218981cc5a2row15_col1 {\n",
       "            color:  black;\n",
       "            font-weight:  400;\n",
       "        }    #T_07836c98_5d97_11ea_acd4_f218981cc5a2row15_col2 {\n",
       "            color:  black;\n",
       "            font-weight:  400;\n",
       "        }    #T_07836c98_5d97_11ea_acd4_f218981cc5a2row15_col3 {\n",
       "            color:  black;\n",
       "            font-weight:  400;\n",
       "        }    #T_07836c98_5d97_11ea_acd4_f218981cc5a2row15_col4 {\n",
       "            color:  black;\n",
       "            font-weight:  400;\n",
       "        }    #T_07836c98_5d97_11ea_acd4_f218981cc5a2row15_col5 {\n",
       "            color:  black;\n",
       "            font-weight:  400;\n",
       "        }    #T_07836c98_5d97_11ea_acd4_f218981cc5a2row15_col6 {\n",
       "            color:  black;\n",
       "            font-weight:  400;\n",
       "        }    #T_07836c98_5d97_11ea_acd4_f218981cc5a2row15_col7 {\n",
       "            color:  green;\n",
       "            font-weight:  700;\n",
       "        }    #T_07836c98_5d97_11ea_acd4_f218981cc5a2row15_col8 {\n",
       "            color:  black;\n",
       "            font-weight:  400;\n",
       "        }    #T_07836c98_5d97_11ea_acd4_f218981cc5a2row15_col9 {\n",
       "            color:  green;\n",
       "            font-weight:  700;\n",
       "        }    #T_07836c98_5d97_11ea_acd4_f218981cc5a2row15_col10 {\n",
       "            color:  black;\n",
       "            font-weight:  400;\n",
       "        }    #T_07836c98_5d97_11ea_acd4_f218981cc5a2row16_col0 {\n",
       "            color:  green;\n",
       "            font-weight:  700;\n",
       "        }    #T_07836c98_5d97_11ea_acd4_f218981cc5a2row16_col1 {\n",
       "            color:  black;\n",
       "            font-weight:  400;\n",
       "        }    #T_07836c98_5d97_11ea_acd4_f218981cc5a2row16_col2 {\n",
       "            color:  black;\n",
       "            font-weight:  400;\n",
       "        }    #T_07836c98_5d97_11ea_acd4_f218981cc5a2row16_col3 {\n",
       "            color:  green;\n",
       "            font-weight:  700;\n",
       "        }    #T_07836c98_5d97_11ea_acd4_f218981cc5a2row16_col4 {\n",
       "            color:  black;\n",
       "            font-weight:  400;\n",
       "        }    #T_07836c98_5d97_11ea_acd4_f218981cc5a2row16_col5 {\n",
       "            color:  black;\n",
       "            font-weight:  400;\n",
       "        }    #T_07836c98_5d97_11ea_acd4_f218981cc5a2row16_col6 {\n",
       "            color:  green;\n",
       "            font-weight:  700;\n",
       "        }    #T_07836c98_5d97_11ea_acd4_f218981cc5a2row16_col7 {\n",
       "            color:  black;\n",
       "            font-weight:  400;\n",
       "        }    #T_07836c98_5d97_11ea_acd4_f218981cc5a2row16_col8 {\n",
       "            color:  black;\n",
       "            font-weight:  400;\n",
       "        }    #T_07836c98_5d97_11ea_acd4_f218981cc5a2row16_col9 {\n",
       "            color:  black;\n",
       "            font-weight:  400;\n",
       "        }    #T_07836c98_5d97_11ea_acd4_f218981cc5a2row16_col10 {\n",
       "            color:  black;\n",
       "            font-weight:  400;\n",
       "        }    #T_07836c98_5d97_11ea_acd4_f218981cc5a2row17_col0 {\n",
       "            color:  green;\n",
       "            font-weight:  700;\n",
       "        }    #T_07836c98_5d97_11ea_acd4_f218981cc5a2row17_col1 {\n",
       "            color:  green;\n",
       "            font-weight:  700;\n",
       "        }    #T_07836c98_5d97_11ea_acd4_f218981cc5a2row17_col2 {\n",
       "            color:  black;\n",
       "            font-weight:  400;\n",
       "        }    #T_07836c98_5d97_11ea_acd4_f218981cc5a2row17_col3 {\n",
       "            color:  black;\n",
       "            font-weight:  400;\n",
       "        }    #T_07836c98_5d97_11ea_acd4_f218981cc5a2row17_col4 {\n",
       "            color:  green;\n",
       "            font-weight:  700;\n",
       "        }    #T_07836c98_5d97_11ea_acd4_f218981cc5a2row17_col5 {\n",
       "            color:  green;\n",
       "            font-weight:  700;\n",
       "        }    #T_07836c98_5d97_11ea_acd4_f218981cc5a2row17_col6 {\n",
       "            color:  black;\n",
       "            font-weight:  400;\n",
       "        }    #T_07836c98_5d97_11ea_acd4_f218981cc5a2row17_col7 {\n",
       "            color:  black;\n",
       "            font-weight:  400;\n",
       "        }    #T_07836c98_5d97_11ea_acd4_f218981cc5a2row17_col8 {\n",
       "            color:  black;\n",
       "            font-weight:  400;\n",
       "        }    #T_07836c98_5d97_11ea_acd4_f218981cc5a2row17_col9 {\n",
       "            color:  black;\n",
       "            font-weight:  400;\n",
       "        }    #T_07836c98_5d97_11ea_acd4_f218981cc5a2row17_col10 {\n",
       "            color:  black;\n",
       "            font-weight:  400;\n",
       "        }    #T_07836c98_5d97_11ea_acd4_f218981cc5a2row18_col0 {\n",
       "            color:  black;\n",
       "            font-weight:  400;\n",
       "        }    #T_07836c98_5d97_11ea_acd4_f218981cc5a2row18_col1 {\n",
       "            color:  black;\n",
       "            font-weight:  400;\n",
       "        }    #T_07836c98_5d97_11ea_acd4_f218981cc5a2row18_col2 {\n",
       "            color:  black;\n",
       "            font-weight:  400;\n",
       "        }    #T_07836c98_5d97_11ea_acd4_f218981cc5a2row18_col3 {\n",
       "            color:  black;\n",
       "            font-weight:  400;\n",
       "        }    #T_07836c98_5d97_11ea_acd4_f218981cc5a2row18_col4 {\n",
       "            color:  black;\n",
       "            font-weight:  400;\n",
       "        }    #T_07836c98_5d97_11ea_acd4_f218981cc5a2row18_col5 {\n",
       "            color:  green;\n",
       "            font-weight:  700;\n",
       "        }    #T_07836c98_5d97_11ea_acd4_f218981cc5a2row18_col6 {\n",
       "            color:  black;\n",
       "            font-weight:  400;\n",
       "        }    #T_07836c98_5d97_11ea_acd4_f218981cc5a2row18_col7 {\n",
       "            color:  black;\n",
       "            font-weight:  400;\n",
       "        }    #T_07836c98_5d97_11ea_acd4_f218981cc5a2row18_col8 {\n",
       "            color:  green;\n",
       "            font-weight:  700;\n",
       "        }    #T_07836c98_5d97_11ea_acd4_f218981cc5a2row18_col9 {\n",
       "            color:  black;\n",
       "            font-weight:  400;\n",
       "        }    #T_07836c98_5d97_11ea_acd4_f218981cc5a2row18_col10 {\n",
       "            color:  black;\n",
       "            font-weight:  400;\n",
       "        }    #T_07836c98_5d97_11ea_acd4_f218981cc5a2row19_col0 {\n",
       "            color:  black;\n",
       "            font-weight:  400;\n",
       "        }    #T_07836c98_5d97_11ea_acd4_f218981cc5a2row19_col1 {\n",
       "            color:  black;\n",
       "            font-weight:  400;\n",
       "        }    #T_07836c98_5d97_11ea_acd4_f218981cc5a2row19_col2 {\n",
       "            color:  black;\n",
       "            font-weight:  400;\n",
       "        }    #T_07836c98_5d97_11ea_acd4_f218981cc5a2row19_col3 {\n",
       "            color:  black;\n",
       "            font-weight:  400;\n",
       "        }    #T_07836c98_5d97_11ea_acd4_f218981cc5a2row19_col4 {\n",
       "            color:  black;\n",
       "            font-weight:  400;\n",
       "        }    #T_07836c98_5d97_11ea_acd4_f218981cc5a2row19_col5 {\n",
       "            color:  black;\n",
       "            font-weight:  400;\n",
       "        }    #T_07836c98_5d97_11ea_acd4_f218981cc5a2row19_col6 {\n",
       "            color:  black;\n",
       "            font-weight:  400;\n",
       "        }    #T_07836c98_5d97_11ea_acd4_f218981cc5a2row19_col7 {\n",
       "            color:  green;\n",
       "            font-weight:  700;\n",
       "        }    #T_07836c98_5d97_11ea_acd4_f218981cc5a2row19_col8 {\n",
       "            color:  black;\n",
       "            font-weight:  400;\n",
       "        }    #T_07836c98_5d97_11ea_acd4_f218981cc5a2row19_col9 {\n",
       "            color:  green;\n",
       "            font-weight:  700;\n",
       "        }    #T_07836c98_5d97_11ea_acd4_f218981cc5a2row19_col10 {\n",
       "            color:  black;\n",
       "            font-weight:  400;\n",
       "        }</style><table id=\"T_07836c98_5d97_11ea_acd4_f218981cc5a2\" ><thead>    <tr>        <th class=\"blank level0\" ></th>        <th class=\"col_heading level0 col0\" >Topic 0</th>        <th class=\"col_heading level0 col1\" >Topic 1</th>        <th class=\"col_heading level0 col2\" >Topic 2</th>        <th class=\"col_heading level0 col3\" >Topic 3</th>        <th class=\"col_heading level0 col4\" >Topic 4</th>        <th class=\"col_heading level0 col5\" >Topic 5</th>        <th class=\"col_heading level0 col6\" >Topic 6</th>        <th class=\"col_heading level0 col7\" >Topic 7</th>        <th class=\"col_heading level0 col8\" >Topic 8</th>        <th class=\"col_heading level0 col9\" >Topic 9</th>        <th class=\"col_heading level0 col10\" >Dominant Topic</th>    </tr></thead><tbody>\n",
       "                <tr>\n",
       "                        <th id=\"T_07836c98_5d97_11ea_acd4_f218981cc5a2level0_row0\" class=\"row_heading level0 row0\" >Doc 0</th>\n",
       "                        <td id=\"T_07836c98_5d97_11ea_acd4_f218981cc5a2row0_col0\" class=\"data row0 col0\" >0.221</td>\n",
       "                        <td id=\"T_07836c98_5d97_11ea_acd4_f218981cc5a2row0_col1\" class=\"data row0 col1\" >0.02</td>\n",
       "                        <td id=\"T_07836c98_5d97_11ea_acd4_f218981cc5a2row0_col2\" class=\"data row0 col2\" >0.619</td>\n",
       "                        <td id=\"T_07836c98_5d97_11ea_acd4_f218981cc5a2row0_col3\" class=\"data row0 col3\" >0.02</td>\n",
       "                        <td id=\"T_07836c98_5d97_11ea_acd4_f218981cc5a2row0_col4\" class=\"data row0 col4\" >0.02</td>\n",
       "                        <td id=\"T_07836c98_5d97_11ea_acd4_f218981cc5a2row0_col5\" class=\"data row0 col5\" >0.02</td>\n",
       "                        <td id=\"T_07836c98_5d97_11ea_acd4_f218981cc5a2row0_col6\" class=\"data row0 col6\" >0.02</td>\n",
       "                        <td id=\"T_07836c98_5d97_11ea_acd4_f218981cc5a2row0_col7\" class=\"data row0 col7\" >0.02</td>\n",
       "                        <td id=\"T_07836c98_5d97_11ea_acd4_f218981cc5a2row0_col8\" class=\"data row0 col8\" >0.02</td>\n",
       "                        <td id=\"T_07836c98_5d97_11ea_acd4_f218981cc5a2row0_col9\" class=\"data row0 col9\" >0.02</td>\n",
       "                        <td id=\"T_07836c98_5d97_11ea_acd4_f218981cc5a2row0_col10\" class=\"data row0 col10\" >2</td>\n",
       "            </tr>\n",
       "            <tr>\n",
       "                        <th id=\"T_07836c98_5d97_11ea_acd4_f218981cc5a2level0_row1\" class=\"row_heading level0 row1\" >Doc 1</th>\n",
       "                        <td id=\"T_07836c98_5d97_11ea_acd4_f218981cc5a2row1_col0\" class=\"data row1 col0\" >0.017</td>\n",
       "                        <td id=\"T_07836c98_5d97_11ea_acd4_f218981cc5a2row1_col1\" class=\"data row1 col1\" >0.017</td>\n",
       "                        <td id=\"T_07836c98_5d97_11ea_acd4_f218981cc5a2row1_col2\" class=\"data row1 col2\" >0.347</td>\n",
       "                        <td id=\"T_07836c98_5d97_11ea_acd4_f218981cc5a2row1_col3\" class=\"data row1 col3\" >0.017</td>\n",
       "                        <td id=\"T_07836c98_5d97_11ea_acd4_f218981cc5a2row1_col4\" class=\"data row1 col4\" >0.017</td>\n",
       "                        <td id=\"T_07836c98_5d97_11ea_acd4_f218981cc5a2row1_col5\" class=\"data row1 col5\" >0.3</td>\n",
       "                        <td id=\"T_07836c98_5d97_11ea_acd4_f218981cc5a2row1_col6\" class=\"data row1 col6\" >0.236</td>\n",
       "                        <td id=\"T_07836c98_5d97_11ea_acd4_f218981cc5a2row1_col7\" class=\"data row1 col7\" >0.017</td>\n",
       "                        <td id=\"T_07836c98_5d97_11ea_acd4_f218981cc5a2row1_col8\" class=\"data row1 col8\" >0.017</td>\n",
       "                        <td id=\"T_07836c98_5d97_11ea_acd4_f218981cc5a2row1_col9\" class=\"data row1 col9\" >0.017</td>\n",
       "                        <td id=\"T_07836c98_5d97_11ea_acd4_f218981cc5a2row1_col10\" class=\"data row1 col10\" >2</td>\n",
       "            </tr>\n",
       "            <tr>\n",
       "                        <th id=\"T_07836c98_5d97_11ea_acd4_f218981cc5a2level0_row2\" class=\"row_heading level0 row2\" >Doc 2</th>\n",
       "                        <td id=\"T_07836c98_5d97_11ea_acd4_f218981cc5a2row2_col0\" class=\"data row2 col0\" >0.05</td>\n",
       "                        <td id=\"T_07836c98_5d97_11ea_acd4_f218981cc5a2row2_col1\" class=\"data row2 col1\" >0.05</td>\n",
       "                        <td id=\"T_07836c98_5d97_11ea_acd4_f218981cc5a2row2_col2\" class=\"data row2 col2\" >0.05</td>\n",
       "                        <td id=\"T_07836c98_5d97_11ea_acd4_f218981cc5a2row2_col3\" class=\"data row2 col3\" >0.05</td>\n",
       "                        <td id=\"T_07836c98_5d97_11ea_acd4_f218981cc5a2row2_col4\" class=\"data row2 col4\" >0.05</td>\n",
       "                        <td id=\"T_07836c98_5d97_11ea_acd4_f218981cc5a2row2_col5\" class=\"data row2 col5\" >0.05</td>\n",
       "                        <td id=\"T_07836c98_5d97_11ea_acd4_f218981cc5a2row2_col6\" class=\"data row2 col6\" >0.55</td>\n",
       "                        <td id=\"T_07836c98_5d97_11ea_acd4_f218981cc5a2row2_col7\" class=\"data row2 col7\" >0.05</td>\n",
       "                        <td id=\"T_07836c98_5d97_11ea_acd4_f218981cc5a2row2_col8\" class=\"data row2 col8\" >0.05</td>\n",
       "                        <td id=\"T_07836c98_5d97_11ea_acd4_f218981cc5a2row2_col9\" class=\"data row2 col9\" >0.05</td>\n",
       "                        <td id=\"T_07836c98_5d97_11ea_acd4_f218981cc5a2row2_col10\" class=\"data row2 col10\" >6</td>\n",
       "            </tr>\n",
       "            <tr>\n",
       "                        <th id=\"T_07836c98_5d97_11ea_acd4_f218981cc5a2level0_row3\" class=\"row_heading level0 row3\" >Doc 3</th>\n",
       "                        <td id=\"T_07836c98_5d97_11ea_acd4_f218981cc5a2row3_col0\" class=\"data row3 col0\" >0.013</td>\n",
       "                        <td id=\"T_07836c98_5d97_11ea_acd4_f218981cc5a2row3_col1\" class=\"data row3 col1\" >0.013</td>\n",
       "                        <td id=\"T_07836c98_5d97_11ea_acd4_f218981cc5a2row3_col2\" class=\"data row3 col2\" >0.013</td>\n",
       "                        <td id=\"T_07836c98_5d97_11ea_acd4_f218981cc5a2row3_col3\" class=\"data row3 col3\" >0.013</td>\n",
       "                        <td id=\"T_07836c98_5d97_11ea_acd4_f218981cc5a2row3_col4\" class=\"data row3 col4\" >0.47</td>\n",
       "                        <td id=\"T_07836c98_5d97_11ea_acd4_f218981cc5a2row3_col5\" class=\"data row3 col5\" >0.013</td>\n",
       "                        <td id=\"T_07836c98_5d97_11ea_acd4_f218981cc5a2row3_col6\" class=\"data row3 col6\" >0.013</td>\n",
       "                        <td id=\"T_07836c98_5d97_11ea_acd4_f218981cc5a2row3_col7\" class=\"data row3 col7\" >0.013</td>\n",
       "                        <td id=\"T_07836c98_5d97_11ea_acd4_f218981cc5a2row3_col8\" class=\"data row3 col8\" >0.013</td>\n",
       "                        <td id=\"T_07836c98_5d97_11ea_acd4_f218981cc5a2row3_col9\" class=\"data row3 col9\" >0.43</td>\n",
       "                        <td id=\"T_07836c98_5d97_11ea_acd4_f218981cc5a2row3_col10\" class=\"data row3 col10\" >4</td>\n",
       "            </tr>\n",
       "            <tr>\n",
       "                        <th id=\"T_07836c98_5d97_11ea_acd4_f218981cc5a2level0_row4\" class=\"row_heading level0 row4\" >Doc 4</th>\n",
       "                        <td id=\"T_07836c98_5d97_11ea_acd4_f218981cc5a2row4_col0\" class=\"data row4 col0\" >0.275</td>\n",
       "                        <td id=\"T_07836c98_5d97_11ea_acd4_f218981cc5a2row4_col1\" class=\"data row4 col1\" >0.275</td>\n",
       "                        <td id=\"T_07836c98_5d97_11ea_acd4_f218981cc5a2row4_col2\" class=\"data row4 col2\" >0.275</td>\n",
       "                        <td id=\"T_07836c98_5d97_11ea_acd4_f218981cc5a2row4_col3\" class=\"data row4 col3\" >0.025</td>\n",
       "                        <td id=\"T_07836c98_5d97_11ea_acd4_f218981cc5a2row4_col4\" class=\"data row4 col4\" >0.025</td>\n",
       "                        <td id=\"T_07836c98_5d97_11ea_acd4_f218981cc5a2row4_col5\" class=\"data row4 col5\" >0.025</td>\n",
       "                        <td id=\"T_07836c98_5d97_11ea_acd4_f218981cc5a2row4_col6\" class=\"data row4 col6\" >0.025</td>\n",
       "                        <td id=\"T_07836c98_5d97_11ea_acd4_f218981cc5a2row4_col7\" class=\"data row4 col7\" >0.025</td>\n",
       "                        <td id=\"T_07836c98_5d97_11ea_acd4_f218981cc5a2row4_col8\" class=\"data row4 col8\" >0.025</td>\n",
       "                        <td id=\"T_07836c98_5d97_11ea_acd4_f218981cc5a2row4_col9\" class=\"data row4 col9\" >0.025</td>\n",
       "                        <td id=\"T_07836c98_5d97_11ea_acd4_f218981cc5a2row4_col10\" class=\"data row4 col10\" >0</td>\n",
       "            </tr>\n",
       "            <tr>\n",
       "                        <th id=\"T_07836c98_5d97_11ea_acd4_f218981cc5a2level0_row5\" class=\"row_heading level0 row5\" >Doc 5</th>\n",
       "                        <td id=\"T_07836c98_5d97_11ea_acd4_f218981cc5a2row5_col0\" class=\"data row5 col0\" >0.02</td>\n",
       "                        <td id=\"T_07836c98_5d97_11ea_acd4_f218981cc5a2row5_col1\" class=\"data row5 col1\" >0.02</td>\n",
       "                        <td id=\"T_07836c98_5d97_11ea_acd4_f218981cc5a2row5_col2\" class=\"data row5 col2\" >0.02</td>\n",
       "                        <td id=\"T_07836c98_5d97_11ea_acd4_f218981cc5a2row5_col3\" class=\"data row5 col3\" >0.02</td>\n",
       "                        <td id=\"T_07836c98_5d97_11ea_acd4_f218981cc5a2row5_col4\" class=\"data row5 col4\" >0.52</td>\n",
       "                        <td id=\"T_07836c98_5d97_11ea_acd4_f218981cc5a2row5_col5\" class=\"data row5 col5\" >0.02</td>\n",
       "                        <td id=\"T_07836c98_5d97_11ea_acd4_f218981cc5a2row5_col6\" class=\"data row5 col6\" >0.02</td>\n",
       "                        <td id=\"T_07836c98_5d97_11ea_acd4_f218981cc5a2row5_col7\" class=\"data row5 col7\" >0.02</td>\n",
       "                        <td id=\"T_07836c98_5d97_11ea_acd4_f218981cc5a2row5_col8\" class=\"data row5 col8\" >0.02</td>\n",
       "                        <td id=\"T_07836c98_5d97_11ea_acd4_f218981cc5a2row5_col9\" class=\"data row5 col9\" >0.32</td>\n",
       "                        <td id=\"T_07836c98_5d97_11ea_acd4_f218981cc5a2row5_col10\" class=\"data row5 col10\" >4</td>\n",
       "            </tr>\n",
       "            <tr>\n",
       "                        <th id=\"T_07836c98_5d97_11ea_acd4_f218981cc5a2level0_row6\" class=\"row_heading level0 row6\" >Doc 6</th>\n",
       "                        <td id=\"T_07836c98_5d97_11ea_acd4_f218981cc5a2row6_col0\" class=\"data row6 col0\" >0.017</td>\n",
       "                        <td id=\"T_07836c98_5d97_11ea_acd4_f218981cc5a2row6_col1\" class=\"data row6 col1\" >0.017</td>\n",
       "                        <td id=\"T_07836c98_5d97_11ea_acd4_f218981cc5a2row6_col2\" class=\"data row6 col2\" >0.017</td>\n",
       "                        <td id=\"T_07836c98_5d97_11ea_acd4_f218981cc5a2row6_col3\" class=\"data row6 col3\" >0.017</td>\n",
       "                        <td id=\"T_07836c98_5d97_11ea_acd4_f218981cc5a2row6_col4\" class=\"data row6 col4\" >0.017</td>\n",
       "                        <td id=\"T_07836c98_5d97_11ea_acd4_f218981cc5a2row6_col5\" class=\"data row6 col5\" >0.517</td>\n",
       "                        <td id=\"T_07836c98_5d97_11ea_acd4_f218981cc5a2row6_col6\" class=\"data row6 col6\" >0.349</td>\n",
       "                        <td id=\"T_07836c98_5d97_11ea_acd4_f218981cc5a2row6_col7\" class=\"data row6 col7\" >0.017</td>\n",
       "                        <td id=\"T_07836c98_5d97_11ea_acd4_f218981cc5a2row6_col8\" class=\"data row6 col8\" >0.017</td>\n",
       "                        <td id=\"T_07836c98_5d97_11ea_acd4_f218981cc5a2row6_col9\" class=\"data row6 col9\" >0.017</td>\n",
       "                        <td id=\"T_07836c98_5d97_11ea_acd4_f218981cc5a2row6_col10\" class=\"data row6 col10\" >5</td>\n",
       "            </tr>\n",
       "            <tr>\n",
       "                        <th id=\"T_07836c98_5d97_11ea_acd4_f218981cc5a2level0_row7\" class=\"row_heading level0 row7\" >Doc 7</th>\n",
       "                        <td id=\"T_07836c98_5d97_11ea_acd4_f218981cc5a2row7_col0\" class=\"data row7 col0\" >0.014</td>\n",
       "                        <td id=\"T_07836c98_5d97_11ea_acd4_f218981cc5a2row7_col1\" class=\"data row7 col1\" >0.014</td>\n",
       "                        <td id=\"T_07836c98_5d97_11ea_acd4_f218981cc5a2row7_col2\" class=\"data row7 col2\" >0.26</td>\n",
       "                        <td id=\"T_07836c98_5d97_11ea_acd4_f218981cc5a2row7_col3\" class=\"data row7 col3\" >0.014</td>\n",
       "                        <td id=\"T_07836c98_5d97_11ea_acd4_f218981cc5a2row7_col4\" class=\"data row7 col4\" >0.014</td>\n",
       "                        <td id=\"T_07836c98_5d97_11ea_acd4_f218981cc5a2row7_col5\" class=\"data row7 col5\" >0.014</td>\n",
       "                        <td id=\"T_07836c98_5d97_11ea_acd4_f218981cc5a2row7_col6\" class=\"data row7 col6\" >0.014</td>\n",
       "                        <td id=\"T_07836c98_5d97_11ea_acd4_f218981cc5a2row7_col7\" class=\"data row7 col7\" >0.269</td>\n",
       "                        <td id=\"T_07836c98_5d97_11ea_acd4_f218981cc5a2row7_col8\" class=\"data row7 col8\" >0.014</td>\n",
       "                        <td id=\"T_07836c98_5d97_11ea_acd4_f218981cc5a2row7_col9\" class=\"data row7 col9\" >0.371</td>\n",
       "                        <td id=\"T_07836c98_5d97_11ea_acd4_f218981cc5a2row7_col10\" class=\"data row7 col10\" >9</td>\n",
       "            </tr>\n",
       "            <tr>\n",
       "                        <th id=\"T_07836c98_5d97_11ea_acd4_f218981cc5a2level0_row8\" class=\"row_heading level0 row8\" >Doc 8</th>\n",
       "                        <td id=\"T_07836c98_5d97_11ea_acd4_f218981cc5a2row8_col0\" class=\"data row8 col0\" >0.014</td>\n",
       "                        <td id=\"T_07836c98_5d97_11ea_acd4_f218981cc5a2row8_col1\" class=\"data row8 col1\" >0.014</td>\n",
       "                        <td id=\"T_07836c98_5d97_11ea_acd4_f218981cc5a2row8_col2\" class=\"data row8 col2\" >0.014</td>\n",
       "                        <td id=\"T_07836c98_5d97_11ea_acd4_f218981cc5a2row8_col3\" class=\"data row8 col3\" >0.43</td>\n",
       "                        <td id=\"T_07836c98_5d97_11ea_acd4_f218981cc5a2row8_col4\" class=\"data row8 col4\" >0.455</td>\n",
       "                        <td id=\"T_07836c98_5d97_11ea_acd4_f218981cc5a2row8_col5\" class=\"data row8 col5\" >0.014</td>\n",
       "                        <td id=\"T_07836c98_5d97_11ea_acd4_f218981cc5a2row8_col6\" class=\"data row8 col6\" >0.014</td>\n",
       "                        <td id=\"T_07836c98_5d97_11ea_acd4_f218981cc5a2row8_col7\" class=\"data row8 col7\" >0.014</td>\n",
       "                        <td id=\"T_07836c98_5d97_11ea_acd4_f218981cc5a2row8_col8\" class=\"data row8 col8\" >0.014</td>\n",
       "                        <td id=\"T_07836c98_5d97_11ea_acd4_f218981cc5a2row8_col9\" class=\"data row8 col9\" >0.014</td>\n",
       "                        <td id=\"T_07836c98_5d97_11ea_acd4_f218981cc5a2row8_col10\" class=\"data row8 col10\" >4</td>\n",
       "            </tr>\n",
       "            <tr>\n",
       "                        <th id=\"T_07836c98_5d97_11ea_acd4_f218981cc5a2level0_row9\" class=\"row_heading level0 row9\" >Doc 9</th>\n",
       "                        <td id=\"T_07836c98_5d97_11ea_acd4_f218981cc5a2row9_col0\" class=\"data row9 col0\" >0.013</td>\n",
       "                        <td id=\"T_07836c98_5d97_11ea_acd4_f218981cc5a2row9_col1\" class=\"data row9 col1\" >0.013</td>\n",
       "                        <td id=\"T_07836c98_5d97_11ea_acd4_f218981cc5a2row9_col2\" class=\"data row9 col2\" >0.013</td>\n",
       "                        <td id=\"T_07836c98_5d97_11ea_acd4_f218981cc5a2row9_col3\" class=\"data row9 col3\" >0.013</td>\n",
       "                        <td id=\"T_07836c98_5d97_11ea_acd4_f218981cc5a2row9_col4\" class=\"data row9 col4\" >0.013</td>\n",
       "                        <td id=\"T_07836c98_5d97_11ea_acd4_f218981cc5a2row9_col5\" class=\"data row9 col5\" >0.493</td>\n",
       "                        <td id=\"T_07836c98_5d97_11ea_acd4_f218981cc5a2row9_col6\" class=\"data row9 col6\" >0.013</td>\n",
       "                        <td id=\"T_07836c98_5d97_11ea_acd4_f218981cc5a2row9_col7\" class=\"data row9 col7\" >0.013</td>\n",
       "                        <td id=\"T_07836c98_5d97_11ea_acd4_f218981cc5a2row9_col8\" class=\"data row9 col8\" >0.407</td>\n",
       "                        <td id=\"T_07836c98_5d97_11ea_acd4_f218981cc5a2row9_col9\" class=\"data row9 col9\" >0.013</td>\n",
       "                        <td id=\"T_07836c98_5d97_11ea_acd4_f218981cc5a2row9_col10\" class=\"data row9 col10\" >5</td>\n",
       "            </tr>\n",
       "            <tr>\n",
       "                        <th id=\"T_07836c98_5d97_11ea_acd4_f218981cc5a2level0_row10\" class=\"row_heading level0 row10\" >Doc 10</th>\n",
       "                        <td id=\"T_07836c98_5d97_11ea_acd4_f218981cc5a2row10_col0\" class=\"data row10 col0\" >0.017</td>\n",
       "                        <td id=\"T_07836c98_5d97_11ea_acd4_f218981cc5a2row10_col1\" class=\"data row10 col1\" >0.017</td>\n",
       "                        <td id=\"T_07836c98_5d97_11ea_acd4_f218981cc5a2row10_col2\" class=\"data row10 col2\" >0.017</td>\n",
       "                        <td id=\"T_07836c98_5d97_11ea_acd4_f218981cc5a2row10_col3\" class=\"data row10 col3\" >0.189</td>\n",
       "                        <td id=\"T_07836c98_5d97_11ea_acd4_f218981cc5a2row10_col4\" class=\"data row10 col4\" >0.017</td>\n",
       "                        <td id=\"T_07836c98_5d97_11ea_acd4_f218981cc5a2row10_col5\" class=\"data row10 col5\" >0.017</td>\n",
       "                        <td id=\"T_07836c98_5d97_11ea_acd4_f218981cc5a2row10_col6\" class=\"data row10 col6\" >0.017</td>\n",
       "                        <td id=\"T_07836c98_5d97_11ea_acd4_f218981cc5a2row10_col7\" class=\"data row10 col7\" >0.212</td>\n",
       "                        <td id=\"T_07836c98_5d97_11ea_acd4_f218981cc5a2row10_col8\" class=\"data row10 col8\" >0.196</td>\n",
       "                        <td id=\"T_07836c98_5d97_11ea_acd4_f218981cc5a2row10_col9\" class=\"data row10 col9\" >0.303</td>\n",
       "                        <td id=\"T_07836c98_5d97_11ea_acd4_f218981cc5a2row10_col10\" class=\"data row10 col10\" >9</td>\n",
       "            </tr>\n",
       "            <tr>\n",
       "                        <th id=\"T_07836c98_5d97_11ea_acd4_f218981cc5a2level0_row11\" class=\"row_heading level0 row11\" >Doc 11</th>\n",
       "                        <td id=\"T_07836c98_5d97_11ea_acd4_f218981cc5a2row11_col0\" class=\"data row11 col0\" >0.017</td>\n",
       "                        <td id=\"T_07836c98_5d97_11ea_acd4_f218981cc5a2row11_col1\" class=\"data row11 col1\" >0.017</td>\n",
       "                        <td id=\"T_07836c98_5d97_11ea_acd4_f218981cc5a2row11_col2\" class=\"data row11 col2\" >0.664</td>\n",
       "                        <td id=\"T_07836c98_5d97_11ea_acd4_f218981cc5a2row11_col3\" class=\"data row11 col3\" >0.017</td>\n",
       "                        <td id=\"T_07836c98_5d97_11ea_acd4_f218981cc5a2row11_col4\" class=\"data row11 col4\" >0.017</td>\n",
       "                        <td id=\"T_07836c98_5d97_11ea_acd4_f218981cc5a2row11_col5\" class=\"data row11 col5\" >0.017</td>\n",
       "                        <td id=\"T_07836c98_5d97_11ea_acd4_f218981cc5a2row11_col6\" class=\"data row11 col6\" >0.202</td>\n",
       "                        <td id=\"T_07836c98_5d97_11ea_acd4_f218981cc5a2row11_col7\" class=\"data row11 col7\" >0.017</td>\n",
       "                        <td id=\"T_07836c98_5d97_11ea_acd4_f218981cc5a2row11_col8\" class=\"data row11 col8\" >0.017</td>\n",
       "                        <td id=\"T_07836c98_5d97_11ea_acd4_f218981cc5a2row11_col9\" class=\"data row11 col9\" >0.017</td>\n",
       "                        <td id=\"T_07836c98_5d97_11ea_acd4_f218981cc5a2row11_col10\" class=\"data row11 col10\" >2</td>\n",
       "            </tr>\n",
       "            <tr>\n",
       "                        <th id=\"T_07836c98_5d97_11ea_acd4_f218981cc5a2level0_row12\" class=\"row_heading level0 row12\" >Doc 12</th>\n",
       "                        <td id=\"T_07836c98_5d97_11ea_acd4_f218981cc5a2row12_col0\" class=\"data row12 col0\" >0.013</td>\n",
       "                        <td id=\"T_07836c98_5d97_11ea_acd4_f218981cc5a2row12_col1\" class=\"data row12 col1\" >0.013</td>\n",
       "                        <td id=\"T_07836c98_5d97_11ea_acd4_f218981cc5a2row12_col2\" class=\"data row12 col2\" >0.247</td>\n",
       "                        <td id=\"T_07836c98_5d97_11ea_acd4_f218981cc5a2row12_col3\" class=\"data row12 col3\" >0.013</td>\n",
       "                        <td id=\"T_07836c98_5d97_11ea_acd4_f218981cc5a2row12_col4\" class=\"data row12 col4\" >0.013</td>\n",
       "                        <td id=\"T_07836c98_5d97_11ea_acd4_f218981cc5a2row12_col5\" class=\"data row12 col5\" >0.013</td>\n",
       "                        <td id=\"T_07836c98_5d97_11ea_acd4_f218981cc5a2row12_col6\" class=\"data row12 col6\" >0.013</td>\n",
       "                        <td id=\"T_07836c98_5d97_11ea_acd4_f218981cc5a2row12_col7\" class=\"data row12 col7\" >0.013</td>\n",
       "                        <td id=\"T_07836c98_5d97_11ea_acd4_f218981cc5a2row12_col8\" class=\"data row12 col8\" >0.278</td>\n",
       "                        <td id=\"T_07836c98_5d97_11ea_acd4_f218981cc5a2row12_col9\" class=\"data row12 col9\" >0.387</td>\n",
       "                        <td id=\"T_07836c98_5d97_11ea_acd4_f218981cc5a2row12_col10\" class=\"data row12 col10\" >9</td>\n",
       "            </tr>\n",
       "            <tr>\n",
       "                        <th id=\"T_07836c98_5d97_11ea_acd4_f218981cc5a2level0_row13\" class=\"row_heading level0 row13\" >Doc 13</th>\n",
       "                        <td id=\"T_07836c98_5d97_11ea_acd4_f218981cc5a2row13_col0\" class=\"data row13 col0\" >0.017</td>\n",
       "                        <td id=\"T_07836c98_5d97_11ea_acd4_f218981cc5a2row13_col1\" class=\"data row13 col1\" >0.447</td>\n",
       "                        <td id=\"T_07836c98_5d97_11ea_acd4_f218981cc5a2row13_col2\" class=\"data row13 col2\" >0.017</td>\n",
       "                        <td id=\"T_07836c98_5d97_11ea_acd4_f218981cc5a2row13_col3\" class=\"data row13 col3\" >0.419</td>\n",
       "                        <td id=\"T_07836c98_5d97_11ea_acd4_f218981cc5a2row13_col4\" class=\"data row13 col4\" >0.017</td>\n",
       "                        <td id=\"T_07836c98_5d97_11ea_acd4_f218981cc5a2row13_col5\" class=\"data row13 col5\" >0.017</td>\n",
       "                        <td id=\"T_07836c98_5d97_11ea_acd4_f218981cc5a2row13_col6\" class=\"data row13 col6\" >0.017</td>\n",
       "                        <td id=\"T_07836c98_5d97_11ea_acd4_f218981cc5a2row13_col7\" class=\"data row13 col7\" >0.017</td>\n",
       "                        <td id=\"T_07836c98_5d97_11ea_acd4_f218981cc5a2row13_col8\" class=\"data row13 col8\" >0.017</td>\n",
       "                        <td id=\"T_07836c98_5d97_11ea_acd4_f218981cc5a2row13_col9\" class=\"data row13 col9\" >0.017</td>\n",
       "                        <td id=\"T_07836c98_5d97_11ea_acd4_f218981cc5a2row13_col10\" class=\"data row13 col10\" >1</td>\n",
       "            </tr>\n",
       "            <tr>\n",
       "                        <th id=\"T_07836c98_5d97_11ea_acd4_f218981cc5a2level0_row14\" class=\"row_heading level0 row14\" >Doc 14</th>\n",
       "                        <td id=\"T_07836c98_5d97_11ea_acd4_f218981cc5a2row14_col0\" class=\"data row14 col0\" >0.55</td>\n",
       "                        <td id=\"T_07836c98_5d97_11ea_acd4_f218981cc5a2row14_col1\" class=\"data row14 col1\" >0.05</td>\n",
       "                        <td id=\"T_07836c98_5d97_11ea_acd4_f218981cc5a2row14_col2\" class=\"data row14 col2\" >0.05</td>\n",
       "                        <td id=\"T_07836c98_5d97_11ea_acd4_f218981cc5a2row14_col3\" class=\"data row14 col3\" >0.05</td>\n",
       "                        <td id=\"T_07836c98_5d97_11ea_acd4_f218981cc5a2row14_col4\" class=\"data row14 col4\" >0.05</td>\n",
       "                        <td id=\"T_07836c98_5d97_11ea_acd4_f218981cc5a2row14_col5\" class=\"data row14 col5\" >0.05</td>\n",
       "                        <td id=\"T_07836c98_5d97_11ea_acd4_f218981cc5a2row14_col6\" class=\"data row14 col6\" >0.05</td>\n",
       "                        <td id=\"T_07836c98_5d97_11ea_acd4_f218981cc5a2row14_col7\" class=\"data row14 col7\" >0.05</td>\n",
       "                        <td id=\"T_07836c98_5d97_11ea_acd4_f218981cc5a2row14_col8\" class=\"data row14 col8\" >0.05</td>\n",
       "                        <td id=\"T_07836c98_5d97_11ea_acd4_f218981cc5a2row14_col9\" class=\"data row14 col9\" >0.05</td>\n",
       "                        <td id=\"T_07836c98_5d97_11ea_acd4_f218981cc5a2row14_col10\" class=\"data row14 col10\" >0</td>\n",
       "            </tr>\n",
       "            <tr>\n",
       "                        <th id=\"T_07836c98_5d97_11ea_acd4_f218981cc5a2level0_row15\" class=\"row_heading level0 row15\" >Doc 15</th>\n",
       "                        <td id=\"T_07836c98_5d97_11ea_acd4_f218981cc5a2row15_col0\" class=\"data row15 col0\" >0.014</td>\n",
       "                        <td id=\"T_07836c98_5d97_11ea_acd4_f218981cc5a2row15_col1\" class=\"data row15 col1\" >0.014</td>\n",
       "                        <td id=\"T_07836c98_5d97_11ea_acd4_f218981cc5a2row15_col2\" class=\"data row15 col2\" >0.014</td>\n",
       "                        <td id=\"T_07836c98_5d97_11ea_acd4_f218981cc5a2row15_col3\" class=\"data row15 col3\" >0.014</td>\n",
       "                        <td id=\"T_07836c98_5d97_11ea_acd4_f218981cc5a2row15_col4\" class=\"data row15 col4\" >0.014</td>\n",
       "                        <td id=\"T_07836c98_5d97_11ea_acd4_f218981cc5a2row15_col5\" class=\"data row15 col5\" >0.014</td>\n",
       "                        <td id=\"T_07836c98_5d97_11ea_acd4_f218981cc5a2row15_col6\" class=\"data row15 col6\" >0.014</td>\n",
       "                        <td id=\"T_07836c98_5d97_11ea_acd4_f218981cc5a2row15_col7\" class=\"data row15 col7\" >0.654</td>\n",
       "                        <td id=\"T_07836c98_5d97_11ea_acd4_f218981cc5a2row15_col8\" class=\"data row15 col8\" >0.014</td>\n",
       "                        <td id=\"T_07836c98_5d97_11ea_acd4_f218981cc5a2row15_col9\" class=\"data row15 col9\" >0.232</td>\n",
       "                        <td id=\"T_07836c98_5d97_11ea_acd4_f218981cc5a2row15_col10\" class=\"data row15 col10\" >7</td>\n",
       "            </tr>\n",
       "            <tr>\n",
       "                        <th id=\"T_07836c98_5d97_11ea_acd4_f218981cc5a2level0_row16\" class=\"row_heading level0 row16\" >Doc 16</th>\n",
       "                        <td id=\"T_07836c98_5d97_11ea_acd4_f218981cc5a2row16_col0\" class=\"data row16 col0\" >0.22</td>\n",
       "                        <td id=\"T_07836c98_5d97_11ea_acd4_f218981cc5a2row16_col1\" class=\"data row16 col1\" >0.02</td>\n",
       "                        <td id=\"T_07836c98_5d97_11ea_acd4_f218981cc5a2row16_col2\" class=\"data row16 col2\" >0.02</td>\n",
       "                        <td id=\"T_07836c98_5d97_11ea_acd4_f218981cc5a2row16_col3\" class=\"data row16 col3\" >0.22</td>\n",
       "                        <td id=\"T_07836c98_5d97_11ea_acd4_f218981cc5a2row16_col4\" class=\"data row16 col4\" >0.02</td>\n",
       "                        <td id=\"T_07836c98_5d97_11ea_acd4_f218981cc5a2row16_col5\" class=\"data row16 col5\" >0.02</td>\n",
       "                        <td id=\"T_07836c98_5d97_11ea_acd4_f218981cc5a2row16_col6\" class=\"data row16 col6\" >0.42</td>\n",
       "                        <td id=\"T_07836c98_5d97_11ea_acd4_f218981cc5a2row16_col7\" class=\"data row16 col7\" >0.02</td>\n",
       "                        <td id=\"T_07836c98_5d97_11ea_acd4_f218981cc5a2row16_col8\" class=\"data row16 col8\" >0.02</td>\n",
       "                        <td id=\"T_07836c98_5d97_11ea_acd4_f218981cc5a2row16_col9\" class=\"data row16 col9\" >0.02</td>\n",
       "                        <td id=\"T_07836c98_5d97_11ea_acd4_f218981cc5a2row16_col10\" class=\"data row16 col10\" >6</td>\n",
       "            </tr>\n",
       "            <tr>\n",
       "                        <th id=\"T_07836c98_5d97_11ea_acd4_f218981cc5a2level0_row17\" class=\"row_heading level0 row17\" >Doc 17</th>\n",
       "                        <td id=\"T_07836c98_5d97_11ea_acd4_f218981cc5a2row17_col0\" class=\"data row17 col0\" >0.146</td>\n",
       "                        <td id=\"T_07836c98_5d97_11ea_acd4_f218981cc5a2row17_col1\" class=\"data row17 col1\" >0.404</td>\n",
       "                        <td id=\"T_07836c98_5d97_11ea_acd4_f218981cc5a2row17_col2\" class=\"data row17 col2\" >0.013</td>\n",
       "                        <td id=\"T_07836c98_5d97_11ea_acd4_f218981cc5a2row17_col3\" class=\"data row17 col3\" >0.013</td>\n",
       "                        <td id=\"T_07836c98_5d97_11ea_acd4_f218981cc5a2row17_col4\" class=\"data row17 col4\" >0.132</td>\n",
       "                        <td id=\"T_07836c98_5d97_11ea_acd4_f218981cc5a2row17_col5\" class=\"data row17 col5\" >0.244</td>\n",
       "                        <td id=\"T_07836c98_5d97_11ea_acd4_f218981cc5a2row17_col6\" class=\"data row17 col6\" >0.013</td>\n",
       "                        <td id=\"T_07836c98_5d97_11ea_acd4_f218981cc5a2row17_col7\" class=\"data row17 col7\" >0.013</td>\n",
       "                        <td id=\"T_07836c98_5d97_11ea_acd4_f218981cc5a2row17_col8\" class=\"data row17 col8\" >0.013</td>\n",
       "                        <td id=\"T_07836c98_5d97_11ea_acd4_f218981cc5a2row17_col9\" class=\"data row17 col9\" >0.013</td>\n",
       "                        <td id=\"T_07836c98_5d97_11ea_acd4_f218981cc5a2row17_col10\" class=\"data row17 col10\" >1</td>\n",
       "            </tr>\n",
       "            <tr>\n",
       "                        <th id=\"T_07836c98_5d97_11ea_acd4_f218981cc5a2level0_row18\" class=\"row_heading level0 row18\" >Doc 18</th>\n",
       "                        <td id=\"T_07836c98_5d97_11ea_acd4_f218981cc5a2row18_col0\" class=\"data row18 col0\" >0.02</td>\n",
       "                        <td id=\"T_07836c98_5d97_11ea_acd4_f218981cc5a2row18_col1\" class=\"data row18 col1\" >0.02</td>\n",
       "                        <td id=\"T_07836c98_5d97_11ea_acd4_f218981cc5a2row18_col2\" class=\"data row18 col2\" >0.02</td>\n",
       "                        <td id=\"T_07836c98_5d97_11ea_acd4_f218981cc5a2row18_col3\" class=\"data row18 col3\" >0.02</td>\n",
       "                        <td id=\"T_07836c98_5d97_11ea_acd4_f218981cc5a2row18_col4\" class=\"data row18 col4\" >0.02</td>\n",
       "                        <td id=\"T_07836c98_5d97_11ea_acd4_f218981cc5a2row18_col5\" class=\"data row18 col5\" >0.589</td>\n",
       "                        <td id=\"T_07836c98_5d97_11ea_acd4_f218981cc5a2row18_col6\" class=\"data row18 col6\" >0.02</td>\n",
       "                        <td id=\"T_07836c98_5d97_11ea_acd4_f218981cc5a2row18_col7\" class=\"data row18 col7\" >0.02</td>\n",
       "                        <td id=\"T_07836c98_5d97_11ea_acd4_f218981cc5a2row18_col8\" class=\"data row18 col8\" >0.251</td>\n",
       "                        <td id=\"T_07836c98_5d97_11ea_acd4_f218981cc5a2row18_col9\" class=\"data row18 col9\" >0.02</td>\n",
       "                        <td id=\"T_07836c98_5d97_11ea_acd4_f218981cc5a2row18_col10\" class=\"data row18 col10\" >5</td>\n",
       "            </tr>\n",
       "            <tr>\n",
       "                        <th id=\"T_07836c98_5d97_11ea_acd4_f218981cc5a2level0_row19\" class=\"row_heading level0 row19\" >Doc 19</th>\n",
       "                        <td id=\"T_07836c98_5d97_11ea_acd4_f218981cc5a2row19_col0\" class=\"data row19 col0\" >0.02</td>\n",
       "                        <td id=\"T_07836c98_5d97_11ea_acd4_f218981cc5a2row19_col1\" class=\"data row19 col1\" >0.02</td>\n",
       "                        <td id=\"T_07836c98_5d97_11ea_acd4_f218981cc5a2row19_col2\" class=\"data row19 col2\" >0.02</td>\n",
       "                        <td id=\"T_07836c98_5d97_11ea_acd4_f218981cc5a2row19_col3\" class=\"data row19 col3\" >0.02</td>\n",
       "                        <td id=\"T_07836c98_5d97_11ea_acd4_f218981cc5a2row19_col4\" class=\"data row19 col4\" >0.02</td>\n",
       "                        <td id=\"T_07836c98_5d97_11ea_acd4_f218981cc5a2row19_col5\" class=\"data row19 col5\" >0.02</td>\n",
       "                        <td id=\"T_07836c98_5d97_11ea_acd4_f218981cc5a2row19_col6\" class=\"data row19 col6\" >0.02</td>\n",
       "                        <td id=\"T_07836c98_5d97_11ea_acd4_f218981cc5a2row19_col7\" class=\"data row19 col7\" >0.619</td>\n",
       "                        <td id=\"T_07836c98_5d97_11ea_acd4_f218981cc5a2row19_col8\" class=\"data row19 col8\" >0.02</td>\n",
       "                        <td id=\"T_07836c98_5d97_11ea_acd4_f218981cc5a2row19_col9\" class=\"data row19 col9\" >0.221</td>\n",
       "                        <td id=\"T_07836c98_5d97_11ea_acd4_f218981cc5a2row19_col10\" class=\"data row19 col10\" >7</td>\n",
       "            </tr>\n",
       "    </tbody></table>"
      ],
      "text/plain": [
       "<pandas.io.formats.style.Styler at 0x13f927898>"
      ]
     },
     "execution_count": 25,
     "metadata": {},
     "output_type": "execute_result"
    }
   ],
   "source": [
    "df_dominant_topic = pd.DataFrame(\n",
    "    np.round(corpus_lda, 3),\n",
    "    columns = [\"Topic {}\".format(i) for i in range(model.n_components)],\n",
    "    index = [\"Doc {}\".format(i) for i in range(len(corpus_lda))]\n",
    ")\n",
    "df_dominant_topic[\"Dominant Topic\"] = np.argmax(df_dominant_topic.values, axis=1)\n",
    "df_dominant_topic.head(20).style.applymap(color_green).applymap(make_bold)"
   ]
  },
  {
   "cell_type": "markdown",
   "metadata": {},
   "source": [
    "#### Topic id distribution"
   ]
  },
  {
   "cell_type": "code",
   "execution_count": 26,
   "metadata": {
    "ExecuteTime": {
     "end_time": "2020-03-03T21:36:23.615436Z",
     "start_time": "2020-03-03T21:36:23.601671Z"
    }
   },
   "outputs": [
    {
     "data": {
      "text/html": [
       "<div>\n",
       "<style scoped>\n",
       "    .dataframe tbody tr th:only-of-type {\n",
       "        vertical-align: middle;\n",
       "    }\n",
       "\n",
       "    .dataframe tbody tr th {\n",
       "        vertical-align: top;\n",
       "    }\n",
       "\n",
       "    .dataframe thead th {\n",
       "        text-align: right;\n",
       "    }\n",
       "</style>\n",
       "<table border=\"1\" class=\"dataframe\">\n",
       "  <thead>\n",
       "    <tr style=\"text-align: right;\">\n",
       "      <th></th>\n",
       "      <th>Document Num</th>\n",
       "    </tr>\n",
       "    <tr>\n",
       "      <th>Topic Id</th>\n",
       "      <th></th>\n",
       "    </tr>\n",
       "  </thead>\n",
       "  <tbody>\n",
       "    <tr>\n",
       "      <th>0</th>\n",
       "      <td>14670</td>\n",
       "    </tr>\n",
       "    <tr>\n",
       "      <th>1</th>\n",
       "      <td>23871</td>\n",
       "    </tr>\n",
       "    <tr>\n",
       "      <th>2</th>\n",
       "      <td>14554</td>\n",
       "    </tr>\n",
       "    <tr>\n",
       "      <th>3</th>\n",
       "      <td>17669</td>\n",
       "    </tr>\n",
       "    <tr>\n",
       "      <th>4</th>\n",
       "      <td>19191</td>\n",
       "    </tr>\n",
       "    <tr>\n",
       "      <th>5</th>\n",
       "      <td>20957</td>\n",
       "    </tr>\n",
       "    <tr>\n",
       "      <th>6</th>\n",
       "      <td>14920</td>\n",
       "    </tr>\n",
       "    <tr>\n",
       "      <th>7</th>\n",
       "      <td>22606</td>\n",
       "    </tr>\n",
       "    <tr>\n",
       "      <th>8</th>\n",
       "      <td>14236</td>\n",
       "    </tr>\n",
       "    <tr>\n",
       "      <th>9</th>\n",
       "      <td>16945</td>\n",
       "    </tr>\n",
       "  </tbody>\n",
       "</table>\n",
       "</div>"
      ],
      "text/plain": [
       "          Document Num\n",
       "Topic Id              \n",
       "0                14670\n",
       "1                23871\n",
       "2                14554\n",
       "3                17669\n",
       "4                19191\n",
       "5                20957\n",
       "6                14920\n",
       "7                22606\n",
       "8                14236\n",
       "9                16945"
      ]
     },
     "execution_count": 26,
     "metadata": {},
     "output_type": "execute_result"
    }
   ],
   "source": [
    "df_topic_distribution = df_dominant_topic[\"Dominant Topic\"].value_counts().to_frame()\n",
    "df_topic_distribution.index.name = \"Topic Id\"\n",
    "df_topic_distribution.columns = [\"Document Num\"]\n",
    "df_topic_distribution.sort_values(by=\"Topic Id\", inplace=True)\n",
    "\n",
    "df_topic_distribution"
   ]
  },
  {
   "cell_type": "markdown",
   "metadata": {},
   "source": [
    "#### Topic assignment for new document"
   ]
  },
  {
   "cell_type": "markdown",
   "metadata": {},
   "source": [
    "- Code"
   ]
  },
  {
   "cell_type": "code",
   "execution_count": 27,
   "metadata": {
    "ExecuteTime": {
     "end_time": "2020-03-03T21:36:23.620753Z",
     "start_time": "2020-03-03T21:36:23.616798Z"
    }
   },
   "outputs": [],
   "source": [
    "def predict_for_documents(documents, lda_model=model, vectorizer=bow, \n",
    "                          lemmatizer=lemmatizer, stemmer=stemmer):\n",
    "    \n",
    "    if isinstance(documents, list):\n",
    "        documents = np.array(documents)\n",
    "    elif isinstance(documents, str):\n",
    "        documents = np.array([documents])\n",
    "        \n",
    "    documents_preprocessed = preprocess_data(documents, lemmatizer, stemmer)\n",
    "    documents_vectorized = vectorizer.transform(documents_preprocessed)\n",
    "    documents_lda = lda_model.transform(documents_vectorized)\n",
    "    predictions = np.argmax(documents_lda, axis=1)\n",
    "    return predictions, documents_lda, documents_preprocessed"
   ]
  },
  {
   "cell_type": "markdown",
   "metadata": {},
   "source": [
    "- Predict topic for document"
   ]
  },
  {
   "cell_type": "code",
   "execution_count": 28,
   "metadata": {
    "ExecuteTime": {
     "end_time": "2020-03-03T21:36:23.994844Z",
     "start_time": "2020-03-03T21:36:23.622048Z"
    }
   },
   "outputs": [
    {
     "name": "stderr",
     "output_type": "stream",
     "text": [
      "100%|██████████| 8/8 [00:00<00:00, 584.58it/s]\n"
     ]
    },
    {
     "name": "stdout",
     "output_type": "stream",
     "text": [
      "-------\n",
      "Text: the catalan election has been like a movie\n",
      "Keywords: ['catalan', 'elect', 'like', 'movi']\n",
      "Keywords out of dictionary: []\n",
      "Topic LDA: [0.02, 0.02, 0.02, 0.247, 0.02, 0.272, 0.341, 0.02, 0.02, 0.02]\n",
      "Assigned topic: 6\n",
      "-------\n",
      "Text: mav questions coroners call for dangerous trees inventory\n",
      "Keywords: ['question', 'coron', 'call', 'danger', 'tree']\n",
      "Keywords out of dictionary: ['inventori']\n",
      "Topic LDA: [0.017, 0.017, 0.017, 0.017, 0.017, 0.017, 0.017, 0.85, 0.017, 0.017]\n",
      "Assigned topic: 7\n",
      "-------\n",
      "Text: pilot walks away after small plane crash in riverland\n",
      "Keywords: ['pilot', 'walk', 'away', 'small', 'plane', 'crash', 'riverland']\n",
      "Keywords out of dictionary: []\n",
      "Topic LDA: [0.013, 0.013, 0.013, 0.125, 0.013, 0.013, 0.013, 0.775, 0.013, 0.013]\n",
      "Assigned topic: 7\n",
      "-------\n",
      "Text: the battle over a 3 billion dollar stonehenge tunnel\n",
      "Keywords: ['battl', 'billion', 'dollar', 'tunnel']\n",
      "Keywords out of dictionary: ['stoneheng']\n",
      "Topic LDA: [0.52, 0.02, 0.02, 0.02, 0.02, 0.02, 0.02, 0.32, 0.02, 0.02]\n",
      "Assigned topic: 0\n",
      "-------\n",
      "Text: pest animal review in nsw calls for a more local approach\n",
      "Keywords: ['pest', 'anim', 'review', 'call', 'local', 'approach']\n",
      "Keywords out of dictionary: []\n",
      "Topic LDA: [0.014, 0.693, 0.014, 0.014, 0.014, 0.014, 0.192, 0.014, 0.014, 0.014]\n",
      "Assigned topic: 1\n",
      "-------\n",
      "Text: aftershocks rattles quake hit papua new guinea\n",
      "Keywords: ['rattl', 'quak', 'papua', 'guinea']\n",
      "Keywords out of dictionary: ['aftershock']\n",
      "Topic LDA: [0.22, 0.02, 0.02, 0.02, 0.42, 0.02, 0.02, 0.02, 0.22, 0.02]\n",
      "Assigned topic: 4\n",
      "-------\n",
      "Text: ipswich council meeting paul tully resigning wendt replaces\n",
      "Keywords: ['ipswich', 'council', 'meet', 'paul', 'tulli', 'resign', 'replac']\n",
      "Keywords out of dictionary: ['wendt']\n",
      "Topic LDA: [0.013, 0.013, 0.013, 0.013, 0.013, 0.307, 0.013, 0.013, 0.013, 0.593]\n",
      "Assigned topic: 9\n",
      "-------\n",
      "Text: tampon tax labor promises to axe if wins election\n",
      "Keywords: ['tampon', 'labor', 'promis', 'win', 'elect']\n",
      "Keywords out of dictionary: []\n",
      "Topic LDA: [0.183, 0.017, 0.017, 0.017, 0.184, 0.017, 0.516, 0.017, 0.017, 0.017]\n",
      "Assigned topic: 6\n"
     ]
    }
   ],
   "source": [
    "test_documents = df_test[\"headline_text\"].iloc[[23, 4, 502, 1252, 3039, 1900, 12, 2712]]\n",
    "\n",
    "predictions, documents_lda, keywords = predict_for_documents(test_documents.values)\n",
    "\n",
    "for document, prediction, documents_lda, keyword_list in zip(\n",
    "    test_documents.values, predictions, documents_lda, keywords):\n",
    "    \n",
    "    print(\"-------\")\n",
    "    print(\"Text: {}\".format(document))\n",
    "    print(\"Keywords: {}\".format([k for k in keyword_list if k in bow.get_feature_names()]))\n",
    "    print(\"Keywords out of dictionary: {}\".format(\n",
    "        [k for k in keyword_list if k not in bow.get_feature_names()]))\n",
    "    print(\"Topic LDA: {}\".format([np.round(lda, 3) for lda in documents_lda]))\n",
    "    print(\"Assigned topic: {}\".format(prediction))"
   ]
  },
  {
   "cell_type": "markdown",
   "metadata": {},
   "source": [
    "#### Topic assignment for custom text"
   ]
  },
  {
   "cell_type": "markdown",
   "metadata": {},
   "source": [
    "- list"
   ]
  },
  {
   "cell_type": "code",
   "execution_count": 29,
   "metadata": {
    "ExecuteTime": {
     "end_time": "2020-03-03T21:36:24.099138Z",
     "start_time": "2020-03-03T21:36:23.996194Z"
    }
   },
   "outputs": [
    {
     "name": "stderr",
     "output_type": "stream",
     "text": [
      "100%|██████████| 3/3 [00:00<00:00, 947.58it/s]"
     ]
    },
    {
     "name": "stdout",
     "output_type": "stream",
     "text": [
      "-------\n",
      "Text: the catalan election has been like a movie\n",
      "Keywords: ['sport', 'championship', 'australia']\n",
      "Keywords out of dictionary: []\n",
      "Topic LDA: [0.025, 0.025, 0.025, 0.025, 0.775, 0.025, 0.025, 0.025, 0.025, 0.025]\n",
      "Assigned topic: 4\n",
      "-------\n",
      "Text: mav questions coroners call for dangerous trees inventory\n",
      "Keywords: ['olymp', 'japan', 'might', 'cancel']\n",
      "Keywords out of dictionary: []\n",
      "Topic LDA: [0.39, 0.212, 0.02, 0.02, 0.258, 0.02, 0.02, 0.02, 0.02, 0.02]\n",
      "Assigned topic: 0\n",
      "-------\n",
      "Text: pilot walks away after small plane crash in riverland\n",
      "Keywords: ['like', 'machin', 'learn']\n",
      "Keywords out of dictionary: []\n",
      "Topic LDA: [0.025, 0.025, 0.775, 0.025, 0.025, 0.025, 0.025, 0.025, 0.025, 0.025]\n",
      "Assigned topic: 2\n"
     ]
    },
    {
     "name": "stderr",
     "output_type": "stream",
     "text": [
      "\n"
     ]
    }
   ],
   "source": [
    "my_documents = [\n",
    "    \"sport championships in australia\",\n",
    "    \"olympics in japan might be cancelled\",\n",
    "    \"i like machine learning\"\n",
    "]\n",
    "\n",
    "predictions, documents_lda, keywords = predict_for_documents(my_documents)\n",
    "\n",
    "for document, prediction, documents_lda, keyword_list in zip(\n",
    "    test_documents.values, predictions, documents_lda, keywords):\n",
    "    \n",
    "    print(\"-------\")\n",
    "    print(\"Text: {}\".format(document))\n",
    "    print(\"Keywords: {}\".format([k for k in keyword_list if k in bow.get_feature_names()]))\n",
    "    print(\"Keywords out of dictionary: {}\".format(\n",
    "        [k for k in keyword_list if k not in bow.get_feature_names()]))\n",
    "    print(\"Topic LDA: {}\".format([np.round(lda, 3) for lda in documents_lda]))\n",
    "    print(\"Assigned topic: {}\".format(prediction))"
   ]
  },
  {
   "cell_type": "markdown",
   "metadata": {},
   "source": [
    "- string"
   ]
  },
  {
   "cell_type": "code",
   "execution_count": 30,
   "metadata": {
    "ExecuteTime": {
     "end_time": "2020-03-03T21:36:24.154941Z",
     "start_time": "2020-03-03T21:36:24.100821Z"
    }
   },
   "outputs": [
    {
     "name": "stderr",
     "output_type": "stream",
     "text": [
      "100%|██████████| 1/1 [00:00<00:00, 506.56it/s]"
     ]
    },
    {
     "name": "stdout",
     "output_type": "stream",
     "text": [
      "-------\n",
      "Text: military conflict between israel and iran\n",
      "Keywords: ['militari', 'conflict', 'israel', 'iran']\n",
      "Keywords out of dictionary: []\n",
      "Topic LDA: [0.61, 0.02, 0.02, 0.02, 0.02, 0.23, 0.02, 0.02, 0.02, 0.02]\n",
      "Assigned topic: 0\n"
     ]
    },
    {
     "name": "stderr",
     "output_type": "stream",
     "text": [
      "\n"
     ]
    }
   ],
   "source": [
    "document = \"military conflict between israel and iran\"\n",
    "\n",
    "predictions, documents_lda, keywords = predict_for_documents(document)\n",
    "\n",
    "for document, prediction, documents_lda, keyword_list in zip(\n",
    "    [document], predictions, documents_lda, keywords):\n",
    "    \n",
    "    print(\"-------\")\n",
    "    print(\"Text: {}\".format(document))\n",
    "    print(\"Keywords: {}\".format([k for k in keyword_list if k in bow.get_feature_names()]))\n",
    "    print(\"Keywords out of dictionary: {}\".format(\n",
    "        [k for k in keyword_list if k not in bow.get_feature_names()]))\n",
    "    print(\"Topic LDA: {}\".format([np.round(lda, 3) for lda in documents_lda]))\n",
    "    print(\"Assigned topic: {}\".format(prediction))"
   ]
  },
  {
   "cell_type": "markdown",
   "metadata": {},
   "source": [
    "#### Get documents with similar topic to given document"
   ]
  },
  {
   "cell_type": "markdown",
   "metadata": {},
   "source": [
    "- Code"
   ]
  },
  {
   "cell_type": "code",
   "execution_count": 31,
   "metadata": {
    "ExecuteTime": {
     "end_time": "2020-03-03T21:36:24.161779Z",
     "start_time": "2020-03-03T21:36:24.156654Z"
    }
   },
   "outputs": [],
   "source": [
    "def recommend_similar_documents(text, corpus_lda, corpus, similarity_metric, top_n=10):\n",
    "    prediction, prediction_lda, keywords = predict_for_documents(text)\n",
    "    distances = similarity_metric(prediction_lda.reshape(1, -1), corpus_lda)[0]\n",
    "    doc_ids = np.argsort(distances)[:top_n]\n",
    "    \n",
    "    print(\"Document: {}\".format(text))\n",
    "    print(\"------------------------\")\n",
    "    for i, doc_id in enumerate(doc_ids):\n",
    "        print(\"{}. {} | {}\".format(i, np.round(distances[doc_id], 7), corpus.iloc[doc_id]))"
   ]
  },
  {
   "cell_type": "markdown",
   "metadata": {},
   "source": [
    "- Euclidean Distance Based"
   ]
  },
  {
   "cell_type": "code",
   "execution_count": 32,
   "metadata": {
    "ExecuteTime": {
     "end_time": "2020-03-03T21:36:24.206956Z",
     "start_time": "2020-03-03T21:36:24.163513Z"
    }
   },
   "outputs": [
    {
     "name": "stderr",
     "output_type": "stream",
     "text": [
      "100%|██████████| 1/1 [00:00<00:00, 284.34it/s]\n"
     ]
    },
    {
     "name": "stdout",
     "output_type": "stream",
     "text": [
      "Document: islamic council federation drops legal case former president\n",
      "------------------------\n",
      "0. 0.0121814 | apple faces lawsuits after saying it slows down ageing iphones\n",
      "1. 0.0266976 | victorian chief justice urges more diversity in judicial system\n",
      "2. 0.0291075 | banking royal commission anz financial advice clients interest\n",
      "3. 0.0333595 | aung san suu kyi defends myanmar against genocide charges\n",
      "4. 0.0415976 | mali government halves death toll from attacks\n",
      "5. 0.0459213 | trach mommas louisiana fight for federal funding obamacare\n",
      "6. 0.0461341 | man charged over cleaning employment scam\n",
      "7. 0.0525933 | us demands russia stop syria bombing after talks suspended\n",
      "8. 0.0552632 | phillipines malcolm turnbull must condemn extrajudicial killing\n",
      "9. 0.0552794 | police build trust with multicultural youth\n"
     ]
    }
   ],
   "source": [
    "test_document = df_test[\"headline_text\"].iloc[1132]\n",
    "\n",
    "recommend_similar_documents(test_document, corpus_lda, df_data[\"headline_text\"], \n",
    "                            similarity_metric=euclidean_distances, top_n=10)"
   ]
  },
  {
   "cell_type": "markdown",
   "metadata": {},
   "source": [
    "- Cosine Similarity Based"
   ]
  },
  {
   "cell_type": "code",
   "execution_count": 33,
   "metadata": {
    "ExecuteTime": {
     "end_time": "2020-03-03T21:36:24.265817Z",
     "start_time": "2020-03-03T21:36:24.209413Z"
    }
   },
   "outputs": [
    {
     "name": "stderr",
     "output_type": "stream",
     "text": [
      "100%|██████████| 1/1 [00:00<00:00, 288.01it/s]"
     ]
    },
    {
     "name": "stdout",
     "output_type": "stream",
     "text": [
      "Document: islamic council federation drops legal case former president\n",
      "------------------------\n",
      "0. 0.000214 | apple faces lawsuits after saying it slows down ageing iphones\n",
      "1. 0.0011956 | victorian chief justice urges more diversity in judicial system\n",
      "2. 0.001407 | aung san suu kyi defends myanmar against genocide charges\n",
      "3. 0.0014628 | banking royal commission anz financial advice clients interest\n",
      "4. 0.0015578 | trach mommas louisiana fight for federal funding obamacare\n",
      "5. 0.0020564 | mali government halves death toll from attacks\n",
      "6. 0.0021412 | man charged over cleaning employment scam\n",
      "7. 0.0032698 | ita buttrose statement in full on afp raids on abc\n",
      "8. 0.0045816 | police build trust with multicultural youth\n",
      "9. 0.0047345 | us demands russia stop syria bombing after talks suspended\n"
     ]
    },
    {
     "name": "stderr",
     "output_type": "stream",
     "text": [
      "\n"
     ]
    }
   ],
   "source": [
    "test_document = df_test[\"headline_text\"].iloc[1132]\n",
    "\n",
    "recommend_similar_documents(test_document, corpus_lda, df_data[\"headline_text\"], \n",
    "                            similarity_metric=cosine_distances, top_n=10)"
   ]
  },
  {
   "cell_type": "markdown",
   "metadata": {},
   "source": [
    "### Analyzing topics"
   ]
  },
  {
   "cell_type": "markdown",
   "metadata": {},
   "source": [
    "#### Previewing LDA model"
   ]
  },
  {
   "cell_type": "code",
   "execution_count": 34,
   "metadata": {
    "ExecuteTime": {
     "end_time": "2020-03-03T21:38:36.358872Z",
     "start_time": "2020-03-03T21:36:24.267614Z"
    }
   },
   "outputs": [
    {
     "name": "stderr",
     "output_type": "stream",
     "text": [
      "/Users/kamilkrzyk/.pyenv/versions/3.6.6/envs/udacity-workspace/lib/python3.6/site-packages/pyLDAvis/_prepare.py:257: FutureWarning: Sorting because non-concatenation axis is not aligned. A future version\n",
      "of pandas will change to not sort by default.\n",
      "\n",
      "To accept the future behavior, pass 'sort=False'.\n",
      "\n",
      "To retain the current behavior and silence the warning, pass 'sort=True'.\n",
      "\n",
      "  return pd.concat([default_term_info] + list(topic_dfs))\n"
     ]
    },
    {
     "data": {
      "text/html": [
       "\n",
       "<link rel=\"stylesheet\" type=\"text/css\" href=\"https://cdn.rawgit.com/bmabey/pyLDAvis/files/ldavis.v1.0.0.css\">\n",
       "\n",
       "\n",
       "<div id=\"ldavis_el4258654137893926382345088\"></div>\n",
       "<script type=\"text/javascript\">\n",
       "\n",
       "var ldavis_el4258654137893926382345088_data = {\"mdsDat\": {\"x\": [18.70798683166504, -166.14952087402344, 248.73471069335938, 95.80680084228516, -130.85841369628906, 38.91704559326172, 226.086669921875, 96.42257690429688, -239.0580291748047, -75.63301849365234], \"y\": [96.18746948242188, -198.25111389160156, -139.85458374023438, -57.16500473022461, 196.0850372314453, -234.32960510253906, 83.70680236816406, 253.09254455566406, 24.431337356567383, -46.93961715698242], \"topics\": [1, 2, 3, 4, 5, 6, 7, 8, 9, 10], \"cluster\": [1, 1, 1, 1, 1, 1, 1, 1, 1, 1], \"Freq\": [12.231546716155956, 12.096570504781297, 11.241595157760164, 10.448636769314017, 10.036195233714524, 9.712836528421258, 8.916679676402179, 8.471516549855611, 8.429895511555387, 8.414527352039624]}, \"tinfo\": {\"Category\": [\"Default\", \"Default\", \"Default\", \"Default\", \"Default\", \"Default\", \"Default\", \"Default\", \"Default\", \"Default\", \"Default\", \"Default\", \"Default\", \"Default\", \"Default\", \"Default\", \"Default\", \"Default\", \"Default\", \"Default\", \"Default\", \"Default\", \"Default\", \"Default\", \"Default\", \"Default\", \"Default\", \"Default\", \"Default\", \"Default\", \"Topic1\", \"Topic1\", \"Topic1\", \"Topic1\", \"Topic1\", \"Topic1\", \"Topic1\", \"Topic1\", \"Topic1\", \"Topic1\", \"Topic1\", \"Topic1\", \"Topic1\", \"Topic1\", \"Topic1\", \"Topic1\", \"Topic1\", \"Topic1\", \"Topic1\", \"Topic1\", \"Topic1\", \"Topic1\", \"Topic1\", \"Topic1\", \"Topic1\", \"Topic1\", \"Topic1\", \"Topic1\", \"Topic1\", \"Topic1\", \"Topic1\", \"Topic1\", \"Topic1\", \"Topic1\", \"Topic1\", \"Topic1\", \"Topic1\", \"Topic1\", \"Topic1\", \"Topic1\", \"Topic1\", \"Topic1\", \"Topic1\", \"Topic1\", \"Topic1\", \"Topic1\", \"Topic1\", \"Topic1\", \"Topic1\", \"Topic1\", \"Topic1\", \"Topic1\", \"Topic1\", \"Topic1\", \"Topic1\", \"Topic1\", \"Topic1\", \"Topic2\", \"Topic2\", \"Topic2\", \"Topic2\", \"Topic2\", \"Topic2\", \"Topic2\", \"Topic2\", \"Topic2\", \"Topic2\", \"Topic2\", \"Topic2\", \"Topic2\", \"Topic2\", \"Topic2\", \"Topic2\", \"Topic2\", \"Topic2\", \"Topic2\", \"Topic2\", \"Topic2\", \"Topic2\", \"Topic2\", \"Topic2\", \"Topic2\", \"Topic2\", \"Topic2\", \"Topic2\", \"Topic2\", \"Topic2\", \"Topic2\", \"Topic2\", \"Topic2\", \"Topic2\", \"Topic2\", \"Topic2\", \"Topic2\", \"Topic2\", \"Topic2\", \"Topic2\", \"Topic2\", \"Topic2\", \"Topic2\", \"Topic2\", \"Topic2\", \"Topic2\", \"Topic2\", \"Topic2\", \"Topic2\", \"Topic2\", \"Topic2\", \"Topic2\", \"Topic2\", \"Topic2\", \"Topic2\", \"Topic2\", \"Topic2\", \"Topic2\", \"Topic2\", \"Topic2\", \"Topic2\", \"Topic2\", \"Topic2\", \"Topic2\", \"Topic2\", \"Topic2\", \"Topic2\", \"Topic3\", \"Topic3\", \"Topic3\", \"Topic3\", \"Topic3\", \"Topic3\", \"Topic3\", \"Topic3\", \"Topic3\", \"Topic3\", \"Topic3\", \"Topic3\", \"Topic3\", \"Topic3\", \"Topic3\", \"Topic3\", \"Topic3\", \"Topic3\", \"Topic3\", \"Topic3\", \"Topic3\", \"Topic3\", \"Topic3\", \"Topic3\", \"Topic3\", \"Topic3\", \"Topic3\", \"Topic3\", \"Topic3\", \"Topic3\", \"Topic3\", \"Topic3\", \"Topic3\", \"Topic3\", \"Topic3\", \"Topic3\", \"Topic3\", \"Topic3\", \"Topic3\", \"Topic3\", \"Topic3\", \"Topic3\", \"Topic3\", \"Topic3\", \"Topic3\", \"Topic3\", \"Topic3\", \"Topic3\", \"Topic3\", \"Topic3\", \"Topic3\", \"Topic3\", \"Topic3\", \"Topic3\", \"Topic3\", \"Topic3\", \"Topic3\", \"Topic3\", \"Topic3\", \"Topic3\", \"Topic4\", \"Topic4\", \"Topic4\", \"Topic4\", \"Topic4\", \"Topic4\", \"Topic4\", \"Topic4\", \"Topic4\", \"Topic4\", \"Topic4\", \"Topic4\", \"Topic4\", \"Topic4\", \"Topic4\", \"Topic4\", \"Topic4\", \"Topic4\", \"Topic4\", \"Topic4\", \"Topic4\", \"Topic4\", \"Topic4\", \"Topic4\", \"Topic4\", \"Topic4\", \"Topic4\", \"Topic4\", \"Topic4\", \"Topic4\", \"Topic4\", \"Topic4\", \"Topic4\", \"Topic4\", \"Topic4\", \"Topic4\", \"Topic4\", \"Topic4\", \"Topic4\", \"Topic4\", \"Topic4\", \"Topic4\", \"Topic4\", \"Topic4\", \"Topic4\", \"Topic4\", \"Topic4\", \"Topic4\", \"Topic4\", \"Topic4\", \"Topic4\", \"Topic4\", \"Topic4\", \"Topic4\", \"Topic4\", \"Topic4\", \"Topic4\", \"Topic4\", \"Topic4\", \"Topic4\", \"Topic4\", \"Topic4\", \"Topic4\", \"Topic5\", \"Topic5\", \"Topic5\", \"Topic5\", \"Topic5\", \"Topic5\", \"Topic5\", \"Topic5\", \"Topic5\", \"Topic5\", \"Topic5\", \"Topic5\", \"Topic5\", \"Topic5\", \"Topic5\", \"Topic5\", \"Topic5\", \"Topic5\", \"Topic5\", \"Topic5\", \"Topic5\", \"Topic5\", \"Topic5\", \"Topic5\", \"Topic5\", \"Topic5\", \"Topic5\", \"Topic5\", \"Topic5\", \"Topic5\", \"Topic5\", \"Topic5\", \"Topic5\", \"Topic5\", \"Topic5\", \"Topic5\", \"Topic5\", \"Topic5\", \"Topic5\", \"Topic5\", \"Topic5\", \"Topic5\", \"Topic5\", \"Topic5\", \"Topic5\", \"Topic5\", \"Topic5\", \"Topic5\", \"Topic5\", \"Topic5\", \"Topic5\", \"Topic5\", \"Topic5\", \"Topic5\", \"Topic5\", \"Topic5\", \"Topic5\", \"Topic5\", \"Topic5\", \"Topic5\", \"Topic5\", \"Topic5\", \"Topic6\", \"Topic6\", \"Topic6\", \"Topic6\", \"Topic6\", \"Topic6\", \"Topic6\", \"Topic6\", \"Topic6\", \"Topic6\", \"Topic6\", \"Topic6\", \"Topic6\", \"Topic6\", \"Topic6\", \"Topic6\", \"Topic6\", \"Topic6\", \"Topic6\", \"Topic6\", \"Topic6\", \"Topic6\", \"Topic6\", \"Topic6\", \"Topic6\", \"Topic6\", \"Topic6\", \"Topic6\", \"Topic6\", \"Topic6\", \"Topic6\", \"Topic6\", \"Topic6\", \"Topic6\", \"Topic6\", \"Topic6\", \"Topic6\", \"Topic6\", \"Topic6\", \"Topic6\", \"Topic6\", \"Topic6\", \"Topic6\", \"Topic6\", \"Topic6\", \"Topic6\", \"Topic6\", \"Topic6\", \"Topic6\", \"Topic6\", \"Topic6\", \"Topic6\", \"Topic6\", \"Topic6\", \"Topic6\", \"Topic6\", \"Topic6\", \"Topic6\", \"Topic6\", \"Topic6\", \"Topic6\", \"Topic6\", \"Topic6\", \"Topic6\", \"Topic7\", \"Topic7\", \"Topic7\", \"Topic7\", \"Topic7\", \"Topic7\", \"Topic7\", \"Topic7\", \"Topic7\", \"Topic7\", \"Topic7\", \"Topic7\", \"Topic7\", \"Topic7\", \"Topic7\", \"Topic7\", \"Topic7\", \"Topic7\", \"Topic7\", \"Topic7\", \"Topic7\", \"Topic7\", \"Topic7\", \"Topic7\", \"Topic7\", \"Topic7\", \"Topic7\", \"Topic7\", \"Topic7\", \"Topic7\", \"Topic7\", \"Topic7\", \"Topic7\", \"Topic7\", \"Topic7\", \"Topic7\", \"Topic7\", \"Topic7\", \"Topic7\", \"Topic7\", \"Topic7\", \"Topic7\", \"Topic7\", \"Topic7\", \"Topic7\", \"Topic7\", \"Topic7\", \"Topic7\", \"Topic7\", \"Topic7\", \"Topic7\", \"Topic7\", \"Topic7\", \"Topic7\", \"Topic7\", \"Topic7\", \"Topic7\", \"Topic7\", \"Topic7\", \"Topic7\", \"Topic7\", \"Topic7\", \"Topic7\", \"Topic7\", \"Topic7\", \"Topic8\", \"Topic8\", \"Topic8\", \"Topic8\", \"Topic8\", \"Topic8\", \"Topic8\", \"Topic8\", \"Topic8\", \"Topic8\", \"Topic8\", \"Topic8\", \"Topic8\", \"Topic8\", \"Topic8\", \"Topic8\", \"Topic8\", \"Topic8\", \"Topic8\", \"Topic8\", \"Topic8\", \"Topic8\", \"Topic8\", \"Topic8\", \"Topic8\", \"Topic8\", \"Topic8\", \"Topic8\", \"Topic8\", \"Topic8\", \"Topic8\", \"Topic8\", \"Topic8\", \"Topic8\", \"Topic8\", \"Topic8\", \"Topic8\", \"Topic8\", \"Topic8\", \"Topic8\", \"Topic8\", \"Topic8\", \"Topic8\", \"Topic8\", \"Topic8\", \"Topic8\", \"Topic8\", \"Topic8\", \"Topic8\", \"Topic8\", \"Topic8\", \"Topic8\", \"Topic8\", \"Topic8\", \"Topic8\", \"Topic8\", \"Topic8\", \"Topic9\", \"Topic9\", \"Topic9\", \"Topic9\", \"Topic9\", \"Topic9\", \"Topic9\", \"Topic9\", \"Topic9\", \"Topic9\", \"Topic9\", \"Topic9\", \"Topic9\", \"Topic9\", \"Topic9\", \"Topic9\", \"Topic9\", \"Topic9\", \"Topic9\", \"Topic9\", \"Topic9\", \"Topic9\", \"Topic9\", \"Topic9\", \"Topic9\", \"Topic9\", \"Topic9\", \"Topic9\", \"Topic9\", \"Topic9\", \"Topic9\", \"Topic9\", \"Topic9\", \"Topic9\", \"Topic9\", \"Topic9\", \"Topic9\", \"Topic9\", \"Topic9\", \"Topic9\", \"Topic9\", \"Topic9\", \"Topic9\", \"Topic9\", \"Topic9\", \"Topic9\", \"Topic9\", \"Topic9\", \"Topic9\", \"Topic9\", \"Topic9\", \"Topic9\", \"Topic9\", \"Topic9\", \"Topic9\", \"Topic10\", \"Topic10\", \"Topic10\", \"Topic10\", \"Topic10\", \"Topic10\", \"Topic10\", \"Topic10\", \"Topic10\", \"Topic10\", \"Topic10\", \"Topic10\", \"Topic10\", \"Topic10\", \"Topic10\", \"Topic10\", \"Topic10\", \"Topic10\", \"Topic10\", \"Topic10\", \"Topic10\", \"Topic10\", \"Topic10\", \"Topic10\", \"Topic10\", \"Topic10\", \"Topic10\", \"Topic10\", \"Topic10\", \"Topic10\", \"Topic10\", \"Topic10\", \"Topic10\", \"Topic10\", \"Topic10\", \"Topic10\", \"Topic10\", \"Topic10\", \"Topic10\", \"Topic10\", \"Topic10\", \"Topic10\", \"Topic10\", \"Topic10\", \"Topic10\", \"Topic10\", \"Topic10\", \"Topic10\", \"Topic10\", \"Topic10\", \"Topic10\", \"Topic10\", \"Topic10\", \"Topic10\", \"Topic10\", \"Topic10\"], \"Freq\": [4839.0, 4882.0, 5554.0, 4229.0, 4509.0, 2461.0, 2347.0, 2129.0, 2318.0, 2248.0, 3142.0, 1906.0, 1913.0, 2866.0, 1876.0, 1870.0, 1736.0, 1699.0, 1688.0, 2622.0, 1411.0, 1395.0, 1992.0, 1864.0, 3025.0, 1515.0, 1723.0, 2608.0, 1368.0, 1160.0, 1869.7958386463679, 1367.2718528933306, 625.5890636045045, 990.0905084878424, 999.6696389729832, 549.0969654210487, 538.4461728768936, 637.9052190261964, 636.847517877454, 451.30328330225285, 499.54318408751976, 371.90642331831197, 364.16039344210526, 341.8099166850197, 296.38259904991935, 277.9853754304322, 267.33497073414856, 306.81381398791433, 235.38258639895358, 225.70003942288173, 233.3483236087847, 406.72998697626184, 186.96845779149814, 170.50953609147984, 160.82431411684271, 153.080975079705, 144.36667299228506, 138.55711737617185, 126.93806299072709, 124.03329609388264, 695.1277772691179, 723.9476082585367, 1273.5175984636003, 550.801217440683, 1050.5652377856638, 974.0182100260114, 881.5843857350904, 1721.138411484935, 511.35687531916255, 1257.476159977962, 402.3965215612872, 643.5728517092982, 689.0304841390906, 1647.0968087701222, 592.8195937933933, 1118.8236543466367, 700.1316559751549, 926.8345611177726, 640.2510157227143, 641.3614752826372, 905.8080189516985, 1057.8074686062012, 833.5634242198225, 795.1892884933377, 702.6106266443461, 737.5962119579567, 639.5396492131181, 1004.3692524857256, 662.0936534891457, 4831.164069901815, 926.9864515856636, 348.25846275076566, 343.355024540107, 333.54222684519476, 315.8944417380265, 290.3953358993521, 289.4146102658059, 288.43389076923063, 272.72718182603484, 247.2430564149275, 233.51278322124261, 215.85954941201197, 183.49511265449883, 180.53989988885482, 390.298785414475, 257.5664721958482, 163.8806535497649, 216.42301407510664, 142.3044683753801, 134.45844626586336, 131.51642776019816, 127.59347777067502, 127.59347438849719, 245.39490887533756, 200.5604520976478, 121.69432465672456, 115.82467344562755, 403.14215431346935, 513.1056072777347, 345.62003550563156, 713.7178126022803, 162.37032605209242, 223.95881663767636, 243.9746398761379, 266.0428982101005, 424.09113366730867, 572.0627605562174, 1038.8050835340196, 807.245751831431, 490.84672957383924, 982.6333190846227, 409.89568211343567, 462.66075751783353, 366.92868155420257, 1085.5086322184445, 1462.3926437083448, 810.4308794187575, 555.3327363384782, 641.633422470884, 704.013467078357, 766.6621993660636, 490.208031153904, 911.0961809074907, 460.34037565875457, 730.3423217433505, 855.9490989025793, 606.6178646440792, 695.7859868775826, 564.166677637925, 563.1630975431319, 810.2344702761966, 494.0610395683391, 533.6221206428137, 512.6519851462069, 1104.1660497878825, 981.4918323308045, 957.9383850726655, 741.0490180393937, 569.3064555977294, 492.75775023563017, 523.0687157014966, 798.1227214888119, 872.3658164665633, 2312.369611357447, 1081.2602942241406, 265.991079475326, 226.8000292951425, 196.3768500120392, 190.45474331221396, 256.86367074191344, 178.71176337359833, 264.5980160710093, 169.87923071580403, 158.1024874575675, 129.61674205505412, 123.75370181972674, 123.73924922993099, 118.84671059032686, 115.90250816898676, 119.78577912946156, 109.03251805629024, 108.0151036802709, 609.0025582740503, 100.20026524526922, 938.2352219747668, 321.7469213009275, 218.39362467166103, 167.19911413230093, 201.97508444271415, 215.2898782599438, 166.42517028622035, 4348.673807262615, 1047.8383561501598, 3195.6886682316217, 1579.8638848784765, 1068.1201549056416, 836.6896861444955, 913.2404486650646, 391.2937083513839, 421.16591547055543, 1606.0208687981142, 868.0787604973751, 604.3303681229414, 697.17677192193, 1094.6641637604152, 392.4777718615012, 476.9806768679112, 866.5359423778218, 559.2515104938553, 793.6466091464332, 606.0001591166448, 567.7832081226413, 548.3683396613179, 530.3212728850434, 534.6808977420368, 343.97051967815247, 325.19589808496363, 274.8004744576553, 252.07378541892584, 232.31098124343563, 299.22178594241797, 205.63132680054176, 201.67873784498246, 366.8726682933035, 192.78551247121294, 223.25134807644895, 186.85667358993533, 175.98719914147324, 165.1176700227336, 164.12953277592806, 152.27188702593276, 362.4933194247941, 151.28375080208454, 1251.0697826603316, 593.0588735114767, 132.50912113628004, 131.52105114799613, 131.52104806016703, 126.5803603329142, 153.0499584757774, 122.59797789425063, 116.69896862888844, 114.72266729399125, 109.78199360050924, 1669.1824531698514, 431.96726294671305, 172.43072647202516, 625.4398906394961, 647.5338874546362, 177.6816267166695, 239.53846185258385, 713.4297178711857, 372.47736969774695, 204.95140025367806, 3392.5867046575268, 1320.6831467536426, 508.0950729884295, 449.6404186550003, 449.93573257859885, 3601.4421823706393, 648.1983820165042, 819.3900139676285, 1226.3020359652, 455.34255789575167, 456.11054384316355, 464.676496677412, 330.9029999293129, 448.173805295072, 439.3589441291754, 1009.5124703143933, 590.0570855367033, 830.52112058798, 451.0188455629417, 398.37241544000324, 441.710624797089, 403.8039343800465, 391.9939574315512, 2345.8611483753575, 409.13895911901704, 491.5212297703985, 389.2343876542798, 379.27828625968533, 449.69157632301125, 328.5253991350773, 288.7161787044453, 260.8497306945674, 252.88790213517086, 234.96284508664021, 226.01671213231015, 208.1025637089038, 202.10003368542465, 190.15101163182925, 330.6846372051401, 616.678277743474, 164.31239876664978, 159.3362855079401, 158.34107291576723, 155.35535499478107, 191.96159822905912, 157.32844726422232, 152.36967462567338, 151.37446290913243, 148.38875618589333, 148.38866068790483, 144.4078132333897, 137.44119544863523, 414.3065843605675, 1065.2176530156353, 202.68624516596373, 656.7118532369374, 596.2233021912344, 191.18426832129316, 1440.1718690697019, 1068.3686804923502, 304.8138544079825, 1119.994379821564, 339.99197123056746, 805.1195075851854, 1338.595198645457, 311.42809180042843, 1571.5927746687169, 664.913666875028, 1059.0327417517492, 323.7947607682561, 1389.2989195769503, 352.1787086796806, 1256.449922204335, 787.2304853372157, 1164.8811599044443, 482.20856459907696, 671.6544384697293, 492.8386070111483, 846.7798847342629, 733.9347298506727, 482.5131922848152, 504.3050278757671, 574.6389141201417, 470.07279497798874, 431.4610347474574, 1213.7052749600073, 734.4622082268294, 2458.171846412911, 569.5656894630575, 392.943680883212, 324.8374005103702, 346.48688001614886, 276.47205398508976, 253.76978529785399, 282.2400300314918, 185.66365253860408, 185.6636454200192, 183.6895632344832, 182.69982466850294, 228.81856519447507, 167.8935360943013, 161.97449371662407, 236.56596910328122, 159.0133891081983, 136.31126300056917, 134.33715309790074, 129.4018788411793, 120.51656533521256, 118.54443117281602, 117.55736463323899, 117.55735470133686, 117.55729429234665, 111.63505382637608, 107.68686824545902, 93.8682025207086, 306.416600806441, 969.0409651771747, 131.83467192111345, 326.92789421172114, 240.59892614040686, 389.765890162025, 158.8972269249196, 991.5393786574996, 167.25276630119663, 495.5652719390571, 362.02538491705695, 447.75879282117666, 821.637322712515, 575.997337454881, 276.057715475937, 878.8567483648741, 396.4774103392292, 397.965053651083, 431.91324731745124, 353.7566857714476, 472.49267979702444, 506.6998408104535, 424.4179646859128, 437.8819655000279, 645.5773320246622, 364.0933819021719, 1109.1002962121768, 675.2902096478609, 420.0067640563818, 370.3269296907781, 369.90666174555923, 392.78080234038686, 409.58664546978014, 375.7186158093404, 923.5274569229724, 749.4914983658663, 405.80304824856347, 391.6739981718354, 307.90975228992386, 394.3303870560556, 229.19136606079758, 229.18882705874344, 756.8941564024249, 217.08089263506034, 816.9402142837318, 164.60199567980732, 156.52833210618002, 115.15076451107579, 113.13231932183037, 111.11389371481407, 117.11635088798376, 115.10464425833152, 157.0973225010192, 91.93891388382262, 89.9205119486728, 125.86731058161506, 85.88369376515553, 82.8560339682157, 81.84684045944387, 91.82219880560592, 184.56566851690832, 73.77315446785249, 68.72179749038024, 66.70871201273422, 969.1136007939533, 228.67667035065105, 186.34919444141372, 353.2521188507149, 862.0450008052388, 261.68532217682264, 568.3675425472148, 254.1030008738323, 325.8861143994517, 609.986283054638, 474.8685954707524, 413.1481761889568, 300.5535808119365, 2192.301776179401, 912.8210707851573, 762.8576731663694, 365.6572452033448, 907.3615300478815, 638.0768545336574, 661.0549023591208, 541.3971728344465, 808.0248741192037, 446.2083233150417, 336.1047889018258, 843.7843002830674, 356.7692913082591, 467.9247956827981, 383.1907464243744, 381.5304014182143, 721.7088396289975, 845.9373114215828, 433.80096349369455, 517.6836479318332, 427.94438855918514, 420.57907278629784, 1410.4862374192242, 997.9865435571048, 861.496756726741, 855.4314507780205, 551.1117824354378, 397.43533854859845, 402.30916333519764, 297.3435502343447, 274.08724883206355, 268.02371130479264, 172.9854443421423, 162.87574861976293, 166.89421652993923, 146.70020519903446, 889.3364118227182, 114.34696800816756, 161.4465123530531, 109.29217292119954, 109.29214939278035, 458.2462686543148, 106.25907914420796, 194.46242391917679, 105.2480555109248, 182.30136037916887, 97.15983519872272, 91.09365437090985, 90.0826270845812, 89.07159230818321, 86.03851480352697, 260.0635467532528, 731.6786032394028, 364.17892475620533, 214.57502416309097, 483.9156729411663, 172.17755887871743, 194.09404602400863, 309.7363204632575, 316.59940643288166, 424.96779448394443, 513.1554052496133, 993.3695648199134, 978.5256509716965, 424.26551907048656, 946.1334697344568, 409.9934422122327, 772.6265449612171, 574.9670826974442, 266.8453300333736, 760.1381425793597, 609.3229361367083, 697.4419380639221, 474.36777522417316, 509.0900497626069, 777.6630131313565, 451.89348312796545, 334.1648866951813, 336.03195003891926, 1394.600276283833, 1159.6411611389872, 677.5168582411789, 808.4173687127795, 495.44880258773196, 443.5746793429881, 430.3465452890696, 418.1461937377154, 413.0604941292905, 347.9635194646152, 325.5864199220025, 1907.6663719705493, 303.20939367301577, 292.02081309094405, 246.24926953479496, 226.92387224842588, 219.80390994322585, 209.63247123428357, 191.32380176789763, 185.22113632720385, 181.1525497667646, 166.91263077969677, 164.87835107467095, 156.7412261247838, 340.5817006285548, 138.43270323616815, 133.34699480023596, 132.3298371163799, 251.46302159625162, 130.14684520198355, 221.78591184716726, 196.8795242636646, 1610.3935896684934, 604.8350349315556, 1541.017887370065, 1992.2500939299618, 1050.9255986517503, 547.7901777067689, 395.3750524313182, 290.18167766652397, 301.0183342125987, 485.95252492488976, 570.6046334117295, 1029.3242787405325, 288.3393150812888, 463.5625494488256, 451.91845240202645, 436.2198872289716, 586.7345806175234, 418.06497070757246, 375.7358536622721, 474.1070166340188, 428.020146945112, 445.54499129588567, 376.3655029467381, 1905.853298192545, 1116.1826758196323, 976.2923686962343, 886.0732827339476, 873.9089082326703, 514.0461678678652, 440.0462173135512, 417.7448649341018, 397.4708412214145, 386.2548398380137, 295.0874302461522, 286.97783503620144, 283.9367709051352, 283.9367383276665, 271.772377588043, 270.7586703132896, 260.6216232088062, 229.1970613995513, 224.12857433876385, 224.12855272039624, 213.99158963016677, 196.74996649176737, 2119.2953102521847, 192.67294733367643, 178.51215328615618, 245.0626219524913, 208.7242866477851, 167.3614809683481, 163.30666571626392, 160.26422487651615, 351.9535486723909, 227.5307254956608, 204.58800683416968, 792.9356941600273, 272.6916300498331, 1626.092358637013, 295.0125584041833, 1083.4315811521565, 442.0235106043222, 807.0086175744786, 317.5506686817631, 292.1474262416998, 526.6623047321382, 448.79290953341047, 640.8706148519864, 447.7651714354671, 693.5932896768718, 1032.205043531193, 690.3786285714604, 628.2773549081686, 800.2763345438175, 576.481298885538, 367.91195324122197, 362.6510292705116, 411.9499959257584, 358.12650953541777], \"Term\": [\"say\", \"polic\", \"australia\", \"trump\", \"australian\", \"world\", \"murder\", \"market\", \"attack\", \"nation\", \"elect\", \"north\", \"school\", \"charg\", \"china\", \"crash\", \"live\", \"coast\", \"open\", \"court\", \"miss\", \"rural\", \"donald\", \"home\", \"sydney\", \"jail\", \"news\", \"fire\", \"hospit\", \"student\", \"crash\", \"hospit\", \"mental\", \"train\", \"road\", \"truck\", \"plane\", \"caus\", \"doctor\", \"patient\", \"safeti\", \"nurs\", \"spring\", \"prompt\", \"palmer\", \"accid\", \"alic\", \"pilot\", \"highway\", \"clive\", \"passeng\", \"rail\", \"traffic\", \"asbesto\", \"spike\", \"nickel\", \"ambul\", \"forest\", \"petrol\", \"sound\", \"emerg\", \"resid\", \"indigen\", \"damag\", \"commun\", \"servic\", \"bushfir\", \"home\", \"light\", \"health\", \"flight\", \"near\", \"hobart\", \"fire\", \"care\", \"canberra\", \"driver\", \"warn\", \"park\", \"flood\", \"kill\", \"sydney\", \"adelaid\", \"queensland\", \"die\", \"melbourn\", \"perth\", \"industri\", \"energi\", \"say\", \"budget\", \"commonwealth\", \"reef\", \"solar\", \"barrier\", \"growth\", \"pas\", \"invest\", \"reserv\", \"renew\", \"plu\", \"pictur\", \"agricultur\", \"beef\", \"plant\", \"analysi\", \"coral\", \"sheep\", \"neg\", \"enough\", \"emiss\", \"livestock\", \"gear\", \"dutton\", \"meat\", \"incom\", \"batteri\", \"territori\", \"marriag\", \"product\", \"food\", \"beer\", \"recycl\", \"must\", \"electr\", \"wast\", \"cost\", \"power\", \"need\", \"cut\", \"farmer\", \"expert\", \"polici\", \"dairi\", \"plan\", \"govern\", \"bank\", \"futur\", \"talk\", \"council\", \"feder\", \"compani\", \"chang\", \"northern\", \"could\", \"call\", \"price\", \"report\", \"minist\", \"labor\", \"australia\", \"bill\", \"back\", \"water\", \"shoot\", \"commiss\", \"assault\", \"sexual\", \"shot\", \"terror\", \"social\", \"medium\", \"presid\", \"attack\", \"abus\", \"commission\", \"execut\", \"sieg\", \"harass\", \"director\", \"republican\", \"journalist\", \"gunman\", \"terrorist\", \"impeach\", \"mosqu\", \"actor\", \"recognit\", \"porn\", \"christchurch\", \"sue\", \"palestinian\", \"suspect\", \"nightclub\", \"offic\", \"phone\", \"offenc\", \"paedophil\", \"mobil\", \"harvey\", \"violent\", \"polic\", \"arrest\", \"trump\", \"donald\", \"alleg\", \"victim\", \"royal\", \"lawyer\", \"chief\", \"charg\", \"former\", \"john\", \"dead\", \"child\", \"bomb\", \"hear\", \"court\", \"investig\", \"woman\", \"kill\", \"die\", \"accus\", \"call\", \"award\", \"nick\", \"press\", \"heart\", \"kyrgio\", \"capit\", \"pakistan\", \"tenni\", \"anthoni\", \"origin\", \"ever\", \"gender\", \"barnett\", \"studio\", \"lanka\", \"jeff\", \"colin\", \"third\", \"evan\", \"win\", \"india\", \"singl\", \"barti\", \"wimbledon\", \"tomic\", \"warner\", \"serena\", \"horn\", \"hamilton\", \"guinea\", \"open\", \"shorten\", \"wide\", \"team\", \"olymp\", \"word\", \"plastic\", \"cricket\", \"ash\", \"medal\", \"australian\", \"test\", \"club\", \"intern\", \"domest\", \"australia\", \"violenc\", \"game\", \"first\", \"challeng\", \"sport\", \"celebr\", \"footbal\", \"play\", \"name\", \"year\", \"final\", \"woman\", \"bill\", \"player\", \"south\", \"make\", \"take\", \"murder\", \"escap\", \"georg\", \"joyc\", \"convict\", \"stand\", \"scorecentr\", \"barnabi\", \"cannabi\", \"eagl\", \"bash\", \"bulldog\", \"pell\", \"manslaught\", \"steal\", \"spot\", \"plead\", \"oyster\", \"knight\", \"rooster\", \"cat\", \"medicin\", \"sleep\", \"dragon\", \"bronco\", \"warrior\", \"climb\", \"ipswich\", \"opera\", \"killer\", \"guilti\", \"restor\", \"shark\", \"appeal\", \"fraser\", \"jail\", \"sentenc\", \"caught\", \"trial\", \"tiger\", \"prison\", \"found\", \"diseas\", \"court\", \"leagu\", \"perth\", \"attempt\", \"sydney\", \"point\", \"charg\", \"accus\", \"year\", \"mother\", \"final\", \"bodi\", \"death\", \"melbourn\", \"case\", \"brisban\", \"woman\", \"adelaid\", \"citi\", \"busi\", \"town\", \"world\", \"bring\", \"princ\", \"socceroo\", \"prime\", \"darl\", \"surf\", \"anzac\", \"wed\", \"turtl\", \"matilda\", \"collect\", \"assist\", \"theresa\", \"realiti\", \"ocean\", \"meghan\", \"fifa\", \"mosul\", \"worth\", \"netbal\", \"markl\", \"arabia\", \"oldest\", \"advertis\", \"qualifi\", \"virtual\", \"shield\", \"harri\", \"deal\", \"mcgowan\", \"cross\", \"heritag\", \"england\", \"basin\", \"countri\", \"britain\", \"murray\", \"franc\", \"film\", \"speak\", \"river\", \"camp\", \"life\", \"outback\", \"hour\", \"rain\", \"artist\", \"mark\", \"break\", \"action\", \"festiv\", \"record\", \"zealand\", \"australia\", \"chang\", \"climat\", \"rugbi\", \"brexit\", \"announc\", \"minist\", \"weather\", \"campaign\", \"scott\", \"check\", \"drone\", \"fact\", \"donat\", \"curiou\", \"bulli\", \"port\", \"mike\", \"video\", \"macquari\", \"addict\", \"breast\", \"cell\", \"assang\", \"woolworth\", \"julian\", \"parramatta\", \"flower\", \"cruelti\", \"kidnap\", \"coroni\", \"bolt\", \"overdos\", \"pill\", \"nasa\", \"charli\", \"antoni\", \"moresbi\", \"liber\", \"seiz\", \"man\", \"space\", \"parti\", \"prevent\", \"cancer\", \"poll\", \"happen\", \"morrison\", \"anti\", \"suicid\", \"veteran\", \"elect\", \"drug\", \"releas\", \"candid\", \"find\", \"victorian\", \"polit\", \"parliament\", \"labor\", \"debat\", \"onlin\", \"show\", \"anim\", \"launch\", \"footag\", \"crime\", \"death\", \"woman\", \"investig\", \"polic\", \"feder\", \"call\", \"miss\", \"drum\", \"program\", \"interview\", \"extend\", \"full\", \"boat\", \"sunday\", \"earthquak\", \"episod\", \"rush\", \"employ\", \"unemploy\", \"superannu\", \"search\", \"reward\", \"aleppo\", \"barack\", \"cours\", \"islam\", \"pension\", \"bori\", \"agenda\", \"villag\", \"rescuer\", \"tsunami\", \"wagga\", \"wildfir\", \"civilian\", \"bishop\", \"build\", \"hunter\", \"trap\", \"disabl\", \"fisherman\", \"ndi\", \"firefight\", \"johnson\", \"juli\", \"malcolm\", \"high\", \"fund\", \"syria\", \"peopl\", \"super\", \"turnbul\", \"rescu\", \"role\", \"state\", \"rise\", \"tasmania\", \"public\", \"rate\", \"govern\", \"young\", \"indonesia\", \"work\", \"rural\", \"student\", \"cyclon\", \"stori\", \"univers\", \"america\", \"blog\", \"hong\", \"kong\", \"learn\", \"ride\", \"school\", \"planet\", \"card\", \"sunshin\", \"hurrican\", \"paulin\", \"languag\", \"teach\", \"tropic\", \"email\", \"debbi\", \"hillari\", \"primari\", \"clinton\", \"afford\", \"audio\", \"read\", \"bike\", \"war\", \"garden\", \"cabinet\", \"live\", \"studi\", \"coast\", \"nation\", \"gold\", \"kid\", \"teacher\", \"watch\", \"book\", \"parent\", \"research\", \"news\", \"hanson\", \"free\", \"senat\", \"race\", \"help\", \"aborigin\", \"move\", \"child\", \"make\", \"queensland\", \"year\", \"north\", \"street\", \"share\", \"wall\", \"korea\", \"financ\", \"quiz\", \"alan\", \"welcom\", \"ralli\", \"brief\", \"manu\", \"kohler\", \"stock\", \"exchang\", \"korean\", \"declar\", \"missil\", \"morn\", \"summit\", \"jong\", \"recov\", \"market\", \"tension\", \"volcano\", \"surg\", \"tech\", \"julia\", \"erupt\", \"marcu\", \"profit\", \"jump\", \"gain\", \"trade\", \"thai\", \"china\", \"philippin\", \"island\", \"decis\", \"fall\", \"asylum\", \"seeker\", \"white\", \"christma\", \"price\", \"drought\", \"news\", \"trump\", \"hous\", \"south\", \"australian\", \"fire\", \"dollar\", \"week\", \"donald\", \"sydney\"], \"Total\": [4839.0, 4882.0, 5554.0, 4229.0, 4509.0, 2461.0, 2347.0, 2129.0, 2318.0, 2248.0, 3142.0, 1906.0, 1913.0, 2866.0, 1876.0, 1870.0, 1736.0, 1699.0, 1688.0, 2622.0, 1411.0, 1395.0, 1992.0, 1864.0, 3025.0, 1515.0, 1723.0, 2608.0, 1368.0, 1160.0, 1870.694241675853, 1368.1702601728937, 626.4874662312478, 991.5373757597305, 1001.2141836524914, 549.995376785514, 539.34457955447, 639.0874973910162, 638.1139229931049, 452.20169256321486, 500.6231048929214, 372.8048401268146, 365.0588055151455, 342.7923667789183, 297.2810043519492, 278.8841899919283, 268.2333753495838, 307.9411641452498, 236.28098324969008, 226.59844034667353, 234.34879256579313, 408.64331064857487, 187.86832912402258, 171.4079455388091, 161.72551746115397, 153.97936762096847, 145.2650792051884, 139.45555432273042, 127.83650299877623, 124.93174016097613, 701.2782046265626, 733.3330839976162, 1306.5379325010822, 564.7718394195523, 1100.3227192906577, 1027.6379883382303, 931.760142178491, 1864.106384657544, 536.8356024582638, 1481.3931520206706, 432.1067440093935, 769.5961847908158, 859.8121878411257, 2608.2157041210053, 731.9630463041321, 1760.9114508308064, 993.6573441290872, 1621.7726433019989, 943.241862607346, 1000.5971662242267, 2127.0123834958276, 3025.3393075240947, 1952.780910232027, 2543.2207107178037, 1651.7923968160185, 2320.42325762631, 1799.715480674684, 1005.2670512489748, 662.9907978257983, 4839.943417986707, 928.801848909817, 349.1558438896673, 344.2521707620195, 334.444863635643, 316.79161235066795, 291.29252339105415, 290.31178840987013, 289.33105393608514, 273.63980889096496, 248.14021586555475, 234.40993637693464, 216.75672034608579, 184.39249357927176, 181.45049814226738, 392.3053176931471, 258.9417836365164, 164.7778055798468, 217.75113841583675, 143.20165346847432, 135.35578361533817, 132.41357563412186, 128.4906387619001, 128.49063892135834, 247.1677710092304, 202.0627818275667, 122.60634497812339, 116.7218277550862, 406.9838744690284, 521.8390127624236, 350.2416546237281, 728.7330252071923, 163.80252588632732, 227.52799740035113, 250.27697782934246, 274.55958538103204, 449.3197851904005, 624.614857834611, 1231.4726879504635, 998.8655696512789, 566.3829862413269, 1363.2315141490178, 471.95507773759044, 548.6720109471551, 421.2768434006773, 1733.9079951398005, 2691.0730474430457, 1241.5148014287377, 746.1956088548516, 959.237811530797, 1130.2617321394068, 1445.77621740701, 694.9758609798738, 1959.0524845149657, 653.4014070996379, 1662.673093326076, 2803.8865332998575, 1276.818276162881, 1942.6635875302593, 1182.1604007766798, 1383.3477376645608, 5554.749441258575, 945.8782690111472, 1822.0524601092866, 1384.6334793356605, 1105.063137676795, 982.3889209357402, 958.8354714123735, 741.9475059656166, 570.2035532087358, 493.6548420657058, 524.0797302029749, 799.855390331739, 874.4436692485317, 2318.105048486116, 1084.5235688217126, 266.9545474053123, 227.69714067030995, 197.27393450913422, 191.3868011918666, 258.13120398560824, 179.6088474934028, 265.9844261829821, 170.77630357511887, 158.99957904198416, 130.53999495365787, 124.65079856843708, 124.65088184103965, 119.74383002154535, 116.79965035420392, 120.72546753228282, 109.9299001841838, 108.94952762993553, 614.4311843988496, 101.09734856052754, 947.1704983933843, 324.85389317467593, 220.84904912210655, 168.82362956330215, 205.1342990712852, 218.95193278625626, 168.85578292892626, 4882.245776534913, 1238.8660629523222, 4229.344328123645, 1992.609585443149, 1310.9542911671551, 1006.1578398779299, 1213.917630444392, 462.2302162786313, 509.64825728029024, 2866.5569380924194, 1356.346320987309, 901.1209985324057, 1213.255564979513, 2470.517852112818, 533.5918382744682, 787.42874564778, 2622.035859311374, 1198.2358149357126, 3848.065034687151, 2127.0123834958276, 1651.7923968160185, 1480.1009555683434, 2803.8865332998575, 535.5774041090128, 344.866928108575, 326.0923216460523, 275.69733392936956, 252.97016964650967, 233.20742641600458, 300.400443944465, 206.52772195396474, 202.57517350455947, 368.57620714109174, 193.68193898093298, 224.31294508654912, 187.75311571629294, 176.88360661903337, 166.01409752859016, 165.025960572551, 153.16831422449917, 364.6372608456312, 152.1801775365564, 1258.8862762599642, 596.7939104880461, 133.4055711983572, 132.41743300097235, 132.4174330423921, 127.47674706495351, 154.1553730101846, 123.52441254164316, 117.59537525986109, 115.61910119264172, 110.678415553795, 1688.913448786153, 437.71520295862643, 173.93657228441182, 643.6769819179663, 670.9907799711573, 179.85712848766266, 246.2111160079188, 773.6529883653524, 394.1311838103391, 210.47688327750794, 4509.965567422454, 1610.0528479374725, 568.745075152673, 501.9883246727028, 508.22081600649244, 5554.749441258575, 806.9363597080264, 1135.0112186017286, 1904.251671443222, 591.208634319106, 602.4739990332973, 641.3135434092542, 410.0495917609689, 679.4745091912922, 680.5747006203777, 3293.914990259949, 1414.8708994085064, 3848.065034687151, 945.8782690111472, 627.8964487890208, 2041.8340226677856, 1578.786827825618, 1687.9931241474244, 2347.734174940406, 410.0347120286643, 492.6357159933525, 390.13011206339473, 380.17775898690223, 450.8358052449541, 329.42108273877307, 289.6118833641061, 261.7454437239678, 253.7836038830305, 235.86931049320017, 226.91239417408306, 208.99825424998704, 203.02644135551182, 191.08463951057308, 332.4110141860615, 619.994118084355, 165.20813491009275, 160.23198508022088, 159.23675509492506, 156.25106532124866, 193.07302633308808, 158.2418003583455, 153.26537518363267, 152.27014523368285, 149.2844551518857, 149.28445508153828, 145.30353493707145, 138.33692550298844, 417.01904940743356, 1074.7269033002133, 204.02166509481322, 669.6886561585246, 615.8894144231186, 193.06883095189457, 1515.6791955843564, 1127.7659723896802, 312.4088015274688, 1244.033853008925, 360.54550928357617, 952.9980654744147, 1833.9403491706773, 341.15688031715996, 2622.035859311374, 939.1673391382612, 1799.715480674684, 377.9210749831121, 3025.3393075240947, 427.0460352489555, 2866.5569380924194, 1480.1009555683434, 3293.914990259949, 743.1413593347694, 1414.8708994085064, 833.9455082512072, 2466.192183043933, 2320.42325762631, 1078.5029646536607, 1473.135665547904, 3848.065034687151, 1952.780910232027, 947.2123246670321, 1215.061116512113, 735.3587457486934, 2461.708245915351, 570.5206310462493, 393.8402091293889, 325.7339113021089, 347.450551540131, 277.3685696780841, 254.66646845184965, 283.29213554951525, 186.56017267438096, 186.5601728656717, 184.58607703050663, 183.59906853666322, 229.9915741219654, 168.79329407650937, 162.8710259608888, 237.89599344372704, 159.90988207778236, 137.2077830321902, 135.23368811990258, 130.29844923637623, 121.41504114826591, 119.44092254412058, 118.4538748448563, 118.45387500460477, 118.45387549066962, 112.5315882564648, 108.58339739044037, 94.76472788360338, 310.02126718308665, 995.8877665248641, 133.2562123171665, 336.82969069745366, 247.83223389940102, 407.5872702861921, 161.87060767051992, 1097.7587028400528, 170.82614571695188, 554.7933082327721, 394.8624694023467, 530.9276155101933, 1106.9974733713818, 736.3666755507572, 310.78277518472214, 1262.3077119436898, 496.5434499586705, 502.3816244632018, 560.2047276263017, 451.2838339701369, 678.2303664642106, 786.0251895154196, 633.0623504615539, 678.4312566266083, 1346.1277175259129, 502.2434917062172, 5554.749441258575, 1959.0524845149657, 770.9975755163339, 576.2736798443742, 601.3158913240095, 857.5262233154572, 1182.1604007766798, 704.3465238521165, 924.4217714405223, 750.8250059722797, 406.6973582790317, 392.5684224438209, 308.80404852580637, 395.586812452169, 230.0857164909636, 230.08567346233664, 759.8796848876626, 217.97520379521745, 820.404803385329, 165.4963158523574, 157.4226409478012, 116.0450565182815, 114.02663733746316, 112.00821799935086, 118.06133212691988, 116.04405139077775, 158.41398627746318, 92.83324043690449, 90.81482175572243, 127.13575675627915, 86.77798448034989, 83.7503555654131, 82.74114657622717, 92.83002291816996, 186.69937660350948, 74.6674713521707, 69.62143067404419, 67.60300616886379, 994.3611099464662, 232.04850883713564, 189.7061077293166, 362.29018351027287, 915.2444609263334, 273.5064993735173, 614.6913400191984, 271.02964505746564, 353.44438342515025, 697.8521125337788, 538.5929360384122, 465.09069213897004, 333.3194140560884, 3142.87953782199, 1197.9616796779444, 985.7468049260715, 429.1754818657079, 1341.3908591876623, 920.4464805258348, 969.9893546189336, 767.2938564225375, 1383.3477376645608, 628.0193870999634, 415.7525814610459, 1751.7993754178433, 469.20134363179545, 756.205692899249, 534.6254004975011, 544.9014012041531, 2466.192183043933, 3848.065034687151, 1198.2358149357126, 4882.245776534913, 1445.77621740701, 2803.8865332998575, 1411.3803915001156, 998.8806337807439, 862.3917472930685, 856.3255694980438, 552.0058944222751, 398.32951255552433, 403.37797283262773, 298.23766043255904, 274.9839298735108, 268.9178244749083, 173.8810784499465, 163.77078640035117, 167.8151032147688, 147.59436533006593, 895.5937411792343, 115.24143318148465, 162.749855638493, 110.18629909852375, 110.18629890097033, 462.01994488006085, 107.15321261491145, 196.10126085917366, 106.14218407909306, 183.96755481305337, 98.05395352834208, 91.98778035547765, 90.97675148982154, 89.96572257737654, 86.93263627393806, 262.79500174378416, 742.0822999206297, 368.94001840621246, 218.37399447265585, 499.0708326371844, 175.85892642051073, 198.98046765839356, 336.72546213276485, 347.0458710582879, 479.35265905971437, 605.7896825275274, 1296.8355607135513, 1292.4329250930296, 495.66439727826565, 1383.7991965493213, 506.5865748847121, 1157.875803959777, 825.7888679483798, 302.72882569467, 1477.6946390959163, 1214.4292651351777, 1581.5454024967173, 816.3673830791516, 999.9240809222267, 2691.0730474430457, 865.5771895746333, 462.8107322968422, 1197.3456966563297, 1395.4939912854104, 1160.5346781034625, 678.4103632838169, 809.6125565246692, 496.3423199931721, 444.4681851987786, 431.245214707892, 419.0396878615394, 413.9539883180796, 348.85703380661994, 326.4799552416353, 1913.189954593267, 304.1028787737738, 292.9143385642155, 247.1430340527627, 227.81738517693856, 220.69740628571068, 210.5260060951341, 192.21748005114094, 186.11464904698497, 182.04608868944965, 167.8061309595439, 165.77185128563372, 157.6347318650755, 342.7092462015758, 139.3262134527631, 134.2405137543919, 133.22337326956676, 253.2031392543695, 131.1848531808542, 224.7496966858404, 199.2911842827833, 1736.4765460353103, 636.2337479927028, 1699.2081438441942, 2248.3995998161895, 1153.4819048457437, 602.1567259722592, 430.9975418373046, 311.6919393427899, 328.7493695595379, 582.4724100638442, 745.1990870477474, 1723.7096921834925, 316.1458831629822, 635.245146455051, 857.4167215075082, 831.73412017399, 1828.071473657743, 803.554186588323, 788.2784757172899, 2470.517852112818, 1578.786827825618, 2543.2207107178037, 3293.914990259949, 1906.7471669039076, 1117.0765325055731, 977.1862277867492, 886.9671183629134, 874.8027440098837, 514.9400029959751, 440.94005900378625, 418.6387060028072, 398.3647470934212, 387.2124236117335, 295.9812649380768, 287.871681595986, 284.8305886963707, 284.8305879873013, 272.6662139888688, 271.6525159117194, 261.5155358040613, 230.09090367988577, 225.02241423956607, 225.0224138834564, 214.88543554176601, 197.65235128166194, 2129.4494477838984, 193.59680147601156, 179.40601038948304, 246.3091380849387, 209.81076536446534, 168.25533380645896, 164.20054179537053, 161.15945338587952, 355.70923154566833, 229.04852465220242, 205.75831528543125, 816.2702566811369, 276.7125153903016, 1876.0981873611565, 306.81564758674557, 1386.1359498317115, 500.62282446975604, 1028.9697633304936, 348.69064372931683, 315.50034624773565, 685.0631526295527, 595.8619405318238, 1276.818276162881, 676.2445034929435, 1723.7096921834925, 4229.344328123645, 1959.7350043499619, 2041.8340226677856, 4509.965567422454, 2608.2157041210053, 667.5791055152358, 809.9686504747356, 1992.609585443149, 3025.3393075240947], \"loglift\": [30.0, 29.0, 28.0, 27.0, 26.0, 25.0, 24.0, 23.0, 22.0, 21.0, 20.0, 19.0, 18.0, 17.0, 16.0, 15.0, 14.0, 13.0, 12.0, 11.0, 10.0, 9.0, 8.0, 7.0, 6.0, 5.0, 4.0, 3.0, 2.0, 1.0, 2.1007, 2.1005, 2.0997, 2.0997, 2.0996, 2.0995, 2.0995, 2.0993, 2.0992, 2.0992, 2.099, 2.0987, 2.0987, 2.0983, 2.0981, 2.0979, 2.0978, 2.0975, 2.0973, 2.0972, 2.0969, 2.0965, 2.0964, 2.0959, 2.0956, 2.0953, 2.0949, 2.0947, 2.0941, 2.0939, 2.0923, 2.0883, 2.0756, 2.0761, 2.0549, 2.0476, 2.0458, 2.0214, 2.0525, 1.9373, 2.0299, 1.9223, 1.8797, 1.6415, 1.8903, 1.6476, 1.751, 1.5417, 1.7137, 1.6564, 1.2475, 1.0503, 1.2499, 0.9385, 1.2463, 0.955, 1.0665, 2.1114, 2.1109, 2.1104, 2.1103, 2.1097, 2.1096, 2.1095, 2.1094, 2.1092, 2.1092, 2.1091, 2.1089, 2.1086, 2.1084, 2.1081, 2.1074, 2.1072, 2.1071, 2.1069, 2.1068, 2.1061, 2.106, 2.1056, 2.1054, 2.1052, 2.1052, 2.105, 2.1048, 2.1048, 2.1045, 2.1028, 2.0954, 2.099, 2.0914, 2.1035, 2.0964, 2.0867, 2.0807, 2.0545, 2.0244, 1.9421, 1.8993, 1.9691, 1.7849, 1.9713, 1.9417, 1.9741, 1.6439, 1.5024, 1.6857, 1.8168, 1.7101, 1.6388, 1.4779, 1.7632, 1.3467, 1.762, 1.2896, 0.9257, 1.368, 1.0855, 1.3725, 1.2136, 0.1872, 1.4628, 0.8842, 1.1187, 2.1847, 2.1846, 2.1846, 2.1843, 2.184, 2.1837, 2.1836, 2.1834, 2.1832, 2.1831, 2.1825, 2.1819, 2.1816, 2.181, 2.1807, 2.1806, 2.1805, 2.1803, 2.1803, 2.1799, 2.1785, 2.1783, 2.1782, 2.178, 2.1778, 2.1777, 2.1774, 2.1769, 2.1767, 2.1766, 2.1761, 2.1759, 2.1744, 2.1759, 2.17, 2.1687, 2.1711, 2.0698, 2.0181, 1.9053, 1.9534, 1.9807, 2.0011, 1.9009, 2.0189, 1.9949, 1.6062, 1.7393, 1.786, 1.6315, 1.3716, 1.8784, 1.6843, 1.0783, 1.4235, 0.6069, 0.93, 1.1177, 1.1926, 0.5203, 2.257, 2.2561, 2.2559, 2.2554, 2.2551, 2.2548, 2.2548, 2.2543, 2.2543, 2.2541, 2.2541, 2.254, 2.2539, 2.2536, 2.2533, 2.2533, 2.2528, 2.2528, 2.2528, 2.2525, 2.2524, 2.252, 2.2519, 2.2519, 2.2516, 2.2515, 2.2512, 2.251, 2.2509, 2.2506, 2.2469, 2.2455, 2.25, 2.23, 2.2231, 2.2465, 2.2312, 2.1777, 2.2022, 2.2321, 1.974, 2.0606, 2.1459, 2.1486, 2.1369, 1.8254, 2.0397, 1.9329, 1.8186, 1.9976, 1.9804, 1.9365, 2.0442, 1.8426, 1.8211, 1.0761, 1.3841, 0.7254, 1.5181, 1.8037, 0.7277, 0.8952, 0.7986, 2.2982, 2.2968, 2.2967, 2.2967, 2.2966, 2.2964, 2.2962, 2.2959, 2.2955, 2.2954, 2.2951, 2.295, 2.2947, 2.2944, 2.2941, 2.2938, 2.2936, 2.2935, 2.2934, 2.2933, 2.2932, 2.2932, 2.2932, 2.2931, 2.2931, 2.293, 2.293, 2.2928, 2.2925, 2.2924, 2.2901, 2.2924, 2.2794, 2.2665, 2.2892, 2.2479, 2.2449, 2.2744, 2.1939, 2.2403, 2.1303, 1.9841, 2.2078, 1.7871, 1.9536, 1.7687, 2.1444, 1.5207, 2.1062, 1.4742, 1.6676, 1.2595, 1.8665, 1.5539, 1.773, 1.23, 1.1479, 1.4947, 1.227, 0.3974, 0.8748, 1.5126, 2.3306, 2.3305, 2.3303, 2.33, 2.3294, 2.329, 2.3289, 2.3285, 2.3282, 2.328, 2.3269, 2.3269, 2.3269, 2.3268, 2.3266, 2.3264, 2.3262, 2.3261, 2.3261, 2.3252, 2.3251, 2.3248, 2.3243, 2.3242, 2.3241, 2.3241, 2.3241, 2.3237, 2.3234, 2.3222, 2.32, 2.3044, 2.321, 2.3019, 2.3021, 2.287, 2.3132, 2.23, 2.3106, 2.2188, 2.2449, 2.1614, 2.0336, 2.0861, 2.2132, 1.9696, 2.1067, 2.0987, 2.0716, 2.0882, 1.9703, 1.8927, 1.9319, 1.8939, 1.5969, 2.01, 0.7206, 1.2666, 1.7243, 1.8895, 1.8459, 1.5509, 1.2718, 1.7033, 2.4163, 2.4155, 2.415, 2.415, 2.4143, 2.4141, 2.4134, 2.4133, 2.4133, 2.4131, 2.413, 2.4118, 2.4115, 2.4095, 2.4094, 2.4092, 2.4092, 2.4091, 2.4089, 2.4076, 2.4074, 2.4072, 2.4069, 2.4065, 2.4064, 2.4063, 2.4058, 2.4052, 2.4042, 2.4039, 2.3915, 2.4026, 2.3994, 2.392, 2.3574, 2.3731, 2.3389, 2.3528, 2.3361, 2.2827, 2.2913, 2.2988, 2.3138, 2.0571, 2.1454, 2.1609, 2.2571, 2.0263, 2.0508, 2.0338, 2.0685, 1.8796, 2.0755, 2.2046, 1.6867, 2.1433, 1.9372, 2.0842, 2.0608, 1.1884, 0.9024, 1.4012, 0.1733, 1.1998, 0.5201, 2.4678, 2.4676, 2.4674, 2.4674, 2.4668, 2.4662, 2.4658, 2.4655, 2.4652, 2.4651, 2.4633, 2.463, 2.463, 2.4624, 2.4614, 2.4607, 2.4604, 2.4603, 2.4603, 2.4603, 2.4601, 2.4601, 2.46, 2.4594, 2.4593, 2.4587, 2.4586, 2.4585, 2.4581, 2.458, 2.4543, 2.4555, 2.4509, 2.4376, 2.4473, 2.4436, 2.3849, 2.3766, 2.348, 2.3025, 2.2019, 2.1902, 2.3129, 2.0883, 2.2569, 2.0639, 2.1064, 2.3423, 1.8037, 1.7788, 1.6497, 1.9256, 1.7934, 1.2271, 1.8185, 2.1428, 1.1978, 2.4727, 2.4726, 2.4721, 2.4719, 2.4716, 2.4714, 2.4713, 2.4713, 2.4712, 2.4708, 2.4706, 2.4705, 2.4704, 2.4703, 2.4698, 2.4695, 2.4693, 2.4691, 2.4687, 2.4686, 2.4685, 2.468, 2.468, 2.4677, 2.4672, 2.467, 2.4667, 2.4667, 2.4665, 2.4654, 2.4601, 2.4612, 2.398, 2.4228, 2.3757, 2.3524, 2.3803, 2.3788, 2.3871, 2.4019, 2.3853, 2.2922, 2.2064, 1.9578, 2.3813, 2.1583, 1.833, 1.828, 1.3369, 1.82, 1.7324, 0.8226, 1.1681, 0.7315, 0.3041, 2.4747, 2.4744, 2.4743, 2.4742, 2.4742, 2.4735, 2.4732, 2.4731, 2.473, 2.4727, 2.4722, 2.4721, 2.4721, 2.4721, 2.4719, 2.4719, 2.4718, 2.4713, 2.4712, 2.4712, 2.471, 2.4706, 2.4704, 2.4704, 2.4702, 2.4701, 2.47, 2.4699, 2.4698, 2.4696, 2.4646, 2.4686, 2.4695, 2.4462, 2.4606, 2.3322, 2.436, 2.2288, 2.3507, 2.2322, 2.3817, 2.3983, 2.2123, 2.1918, 1.7859, 2.0629, 1.5649, 1.0649, 1.4319, 1.2966, 0.7461, 0.9657, 1.8794, 1.6717, 0.8989, 0.3413], \"logprob\": [30.0, 29.0, 28.0, 27.0, 26.0, 25.0, 24.0, 23.0, 22.0, 21.0, 20.0, 19.0, 18.0, 17.0, 16.0, 15.0, 14.0, 13.0, 12.0, 11.0, 10.0, 9.0, 8.0, 7.0, 6.0, 5.0, 4.0, 3.0, 2.0, 1.0, -4.1079, -4.4209, -5.2028, -4.7437, -4.734, -5.3332, -5.3528, -5.1833, -5.1849, -5.5293, -5.4278, -5.7228, -5.7439, -5.8072, -5.9498, -6.0139, -6.053, -5.9152, -6.1803, -6.2223, -6.1889, -5.6333, -6.4105, -6.5027, -6.5612, -6.6105, -6.6691, -6.7102, -6.7978, -6.8209, -5.0974, -5.0567, -4.4919, -5.3301, -4.6844, -4.76, -4.8597, -4.1907, -5.4044, -4.5046, -5.644, -5.1744, -5.1062, -4.2347, -5.2566, -4.6214, -5.0902, -4.8097, -5.1796, -5.1779, -4.8326, -4.6775, -4.9158, -4.9629, -5.0867, -5.0381, -5.1807, -4.7183, -5.135, -3.1475, -4.7984, -5.7774, -5.7916, -5.8206, -5.875, -5.9591, -5.9625, -5.9659, -6.0219, -6.12, -6.1771, -6.2557, -6.4182, -6.4344, -5.6635, -6.0791, -6.5312, -6.2531, -6.6724, -6.7291, -6.7512, -6.7815, -6.7815, -6.1275, -6.3293, -6.8289, -6.8783, -5.6311, -5.3899, -5.785, -5.0599, -6.5405, -6.2189, -6.1333, -6.0467, -5.5804, -5.2811, -4.6845, -4.9367, -5.4342, -4.7401, -5.6145, -5.4934, -5.7252, -4.6406, -4.3425, -4.9328, -5.3108, -5.1663, -5.0736, -4.9883, -5.4355, -4.8157, -5.4984, -5.0369, -4.8782, -5.2225, -5.0853, -5.295, -5.2968, -4.933, -5.4277, -5.3507, -5.3908, -4.5502, -4.668, -4.6923, -4.949, -5.2126, -5.357, -5.2974, -4.8748, -4.7859, -3.811, -4.5712, -5.9736, -6.133, -6.277, -6.3077, -6.0085, -6.3713, -5.9789, -6.422, -6.4938, -6.6925, -6.7388, -6.7389, -6.7792, -6.8043, -6.7714, -6.8654, -6.8748, -5.1452, -6.9499, -4.7131, -5.7833, -6.1708, -6.4379, -6.2489, -6.1851, -6.4425, -3.1794, -4.6026, -3.4875, -4.192, -4.5834, -4.8276, -4.7401, -5.5876, -5.514, -4.1756, -4.7908, -5.1529, -5.01, -4.5589, -5.5846, -5.3896, -4.7926, -5.2305, -4.8804, -5.1502, -5.2153, -5.2501, -5.2836, -5.2022, -5.6434, -5.6995, -5.8679, -5.9542, -6.0358, -5.7827, -6.1578, -6.1772, -5.5789, -6.2223, -6.0756, -6.2536, -6.3135, -6.3773, -6.3833, -6.4582, -5.5909, -6.4648, -4.3522, -5.0986, -6.5973, -6.6047, -6.6047, -6.643, -6.4532, -6.675, -6.7243, -6.7414, -6.7854, -4.0638, -5.4156, -6.3339, -5.0455, -5.0107, -6.3039, -6.0052, -4.9138, -5.5637, -6.1611, -3.3546, -4.298, -5.2532, -5.3755, -5.3748, -3.2948, -5.0097, -4.7754, -4.3722, -5.3629, -5.3612, -5.3426, -5.6821, -5.3787, -5.3986, -4.5667, -5.1037, -4.7619, -5.3724, -5.4965, -5.3933, -5.483, -5.5127, -3.6832, -5.4296, -5.2461, -5.4795, -5.5054, -5.3351, -5.649, -5.7782, -5.8797, -5.9107, -5.9842, -6.023, -6.1056, -6.1349, -6.1958, -5.6425, -5.0193, -6.3419, -6.3726, -6.3789, -6.3979, -6.1863, -6.3853, -6.4173, -6.4239, -6.4438, -6.4438, -6.471, -6.5204, -5.417, -4.4727, -6.132, -4.9564, -5.053, -6.1904, -4.1711, -4.4698, -5.7239, -4.4226, -5.6147, -4.7527, -4.2443, -5.7025, -4.0838, -4.944, -4.4785, -5.6635, -4.2071, -5.5795, -4.3076, -4.7751, -4.3833, -5.2653, -4.9339, -5.2435, -4.7022, -4.8452, -5.2646, -5.2205, -5.0899, -5.2908, -5.3765, -4.3095, -4.8118, -3.6037, -5.066, -5.4372, -5.6276, -5.563, -5.7888, -5.8745, -5.7681, -6.187, -6.187, -6.1976, -6.203, -5.978, -6.2876, -6.3235, -5.9447, -6.3419, -6.496, -6.5105, -6.548, -6.6191, -6.6356, -6.644, -6.644, -6.644, -6.6957, -6.7317, -6.869, -5.6859, -4.5346, -6.5293, -5.6212, -5.9278, -5.4453, -6.3426, -4.5116, -6.2914, -5.2052, -5.5192, -5.3066, -4.6996, -5.0548, -5.7903, -4.6323, -5.4283, -5.4245, -5.3427, -5.5423, -5.2529, -5.183, -5.3602, -5.3289, -4.9407, -5.5135, -4.3996, -4.8958, -5.3706, -5.4965, -5.4976, -5.4376, -5.3957, -5.4821, -4.4972, -4.706, -5.3195, -5.3549, -5.5956, -5.3482, -5.8908, -5.8908, -4.6961, -5.9451, -4.6198, -6.2218, -6.2721, -6.5791, -6.5968, -6.6148, -6.5622, -6.5795, -6.2685, -6.8042, -6.8264, -6.4901, -6.8724, -6.9083, -6.9205, -6.8055, -6.1074, -7.0244, -7.0953, -7.125, -4.449, -5.8931, -6.0977, -5.4582, -4.5661, -5.7582, -4.9826, -5.7876, -5.5388, -4.9119, -5.1623, -5.3016, -5.6197, -3.6327, -4.5088, -4.6883, -5.4237, -4.5148, -4.8669, -4.8315, -5.0312, -4.6308, -5.2246, -5.5079, -4.5875, -5.4483, -5.1771, -5.3768, -5.3812, -4.7437, -4.5849, -5.2528, -5.076, -5.2664, -5.2837, -4.0225, -4.3684, -4.5155, -4.5225, -4.9622, -5.2891, -5.2769, -5.5793, -5.6607, -5.6831, -6.1209, -6.1812, -6.1568, -6.2858, -4.4837, -6.5349, -6.19, -6.5801, -6.5801, -5.1467, -6.6083, -6.0039, -6.6178, -6.0685, -6.6978, -6.7623, -6.7734, -6.7847, -6.8194, -5.7132, -4.6788, -5.3765, -5.9055, -5.0922, -6.1256, -6.0058, -5.5384, -5.5165, -5.2221, -5.0336, -4.3731, -4.3881, -5.2238, -4.4218, -5.258, -4.6244, -4.9198, -5.6875, -4.6407, -4.8618, -4.7267, -5.1122, -5.0415, -4.6179, -5.1607, -5.4625, -5.4569, -4.0289, -4.2134, -4.7508, -4.5742, -5.0638, -5.1744, -5.2046, -5.2334, -5.2456, -5.4171, -5.4836, -3.7156, -5.5548, -5.5924, -5.7629, -5.8446, -5.8765, -5.9239, -6.0153, -6.0477, -6.0699, -6.1518, -6.164, -6.2146, -5.4386, -6.3388, -6.3763, -6.3839, -5.7419, -6.4006, -5.8675, -5.9866, -3.885, -4.8643, -3.929, -3.6722, -4.3118, -4.9633, -5.2894, -5.5987, -5.5621, -5.0831, -4.9225, -4.3326, -5.6051, -5.1303, -5.1557, -5.1911, -4.8947, -5.2336, -5.3403, -5.1078, -5.2101, -5.1699, -5.3387, -3.7147, -4.2497, -4.3836, -4.4806, -4.4944, -5.0251, -5.1805, -5.2325, -5.2823, -5.3109, -5.5801, -5.608, -5.6187, -5.6187, -5.6624, -5.6662, -5.7043, -5.8328, -5.8552, -5.8552, -5.9015, -5.9855, -3.6086, -6.0064, -6.0827, -5.7659, -5.9264, -6.1472, -6.1718, -6.1906, -5.4039, -5.8401, -5.9464, -4.5917, -5.6591, -3.8735, -5.5804, -4.2795, -5.176, -4.5741, -5.5068, -5.5901, -5.0008, -5.1608, -4.8046, -5.1631, -4.7255, -4.328, -4.7302, -4.8244, -4.5824, -4.9105, -5.3596, -5.374, -5.2465, -5.3865]}, \"token.table\": {\"Topic\": [1, 3, 4, 6, 7, 8, 9, 3, 5, 9, 1, 1, 3, 5, 7, 8, 1, 2, 6, 8, 10, 3, 7, 1, 3, 4, 5, 6, 7, 9, 10, 6, 9, 8, 2, 10, 6, 8, 1, 3, 7, 1, 9, 2, 7, 1, 6, 7, 2, 4, 6, 7, 8, 4, 6, 7, 10, 7, 6, 3, 5, 8, 6, 3, 7, 1, 6, 7, 9, 10, 1, 3, 4, 7, 3, 6, 2, 10, 3, 4, 5, 6, 7, 9, 2, 4, 6, 7, 9, 10, 4, 7, 10, 4, 1, 2, 3, 4, 5, 6, 7, 9, 10, 2, 3, 8, 9, 10, 8, 5, 4, 2, 4, 5, 2, 6, 2, 2, 2, 1, 9, 2, 4, 2, 8, 9, 8, 1, 5, 7, 8, 10, 7, 1, 3, 5, 7, 8, 4, 5, 6, 9, 3, 8, 1, 3, 5, 6, 7, 8, 9, 10, 7, 2, 3, 6, 7, 8, 10, 10, 6, 1, 3, 4, 5, 6, 7, 9, 10, 6, 7, 5, 2, 9, 1, 8, 9, 5, 7, 1, 10, 2, 6, 6, 9, 1, 2, 3, 4, 6, 7, 8, 9, 10, 6, 7, 8, 9, 10, 7, 1, 3, 4, 5, 7, 1, 7, 3, 7, 9, 5, 4, 9, 1, 3, 8, 1, 3, 5, 7, 8, 9, 5, 3, 5, 1, 2, 4, 9, 7, 4, 6, 8, 10, 1, 2, 3, 4, 5, 6, 7, 8, 9, 10, 3, 5, 7, 7, 7, 2, 3, 6, 7, 8, 9, 10, 1, 3, 4, 5, 8, 9, 2, 10, 3, 1, 7, 9, 10, 1, 2, 3, 5, 6, 7, 8, 9, 10, 8, 2, 6, 8, 10, 5, 3, 9, 1, 1, 3, 4, 5, 9, 4, 6, 3, 3, 2, 1, 8, 9, 10, 1, 2, 4, 5, 7, 8, 9, 5, 2, 7, 2, 8, 9, 1, 2, 3, 4, 5, 6, 7, 9, 10, 1, 2, 3, 5, 6, 9, 6, 9, 8, 1, 3, 5, 7, 8, 9, 1, 4, 6, 3, 5, 7, 8, 6, 9, 10, 7, 7, 1, 2, 9, 9, 2, 7, 1, 2, 6, 8, 10, 6, 1, 3, 5, 8, 2, 6, 10, 1, 3, 4, 5, 7, 8, 9, 4, 7, 9, 9, 8, 9, 10, 10, 1, 3, 5, 6, 8, 10, 3, 3, 4, 8, 9, 4, 5, 1, 1, 2, 4, 8, 10, 4, 8, 3, 10, 7, 5, 1, 3, 4, 5, 7, 2, 6, 10, 5, 7, 8, 2, 3, 5, 8, 2, 3, 4, 7, 8, 9, 1, 2, 4, 9, 1, 10, 2, 8, 2, 3, 4, 6, 2, 8, 10, 5, 4, 4, 10, 3, 1, 2, 4, 8, 7, 1, 4, 8, 9, 10, 2, 6, 7, 10, 1, 2, 3, 4, 7, 8, 9, 1, 3, 4, 6, 6, 3, 4, 6, 4, 5, 6, 7, 10, 1, 2, 3, 7, 8, 9, 1, 3, 5, 7, 8, 9, 10, 8, 10, 1, 2, 3, 4, 5, 6, 7, 8, 9, 10, 5, 8, 1, 7, 8, 1, 6, 8, 9, 10, 7, 1, 2, 4, 6, 7, 9, 10, 1, 3, 7, 3, 4, 6, 7, 8, 1, 2, 3, 4, 5, 7, 8, 1, 3, 5, 6, 7, 8, 10, 4, 6, 5, 6, 2, 4, 7, 9, 10, 8, 1, 2, 8, 2, 8, 9, 10, 2, 4, 7, 7, 9, 2, 4, 5, 4, 9, 1, 2, 6, 7, 8, 9, 2, 3, 5, 4, 3, 4, 8, 9, 2, 7, 3, 6, 9, 3, 9, 1, 2, 1, 3, 5, 7, 4, 1, 2, 3, 4, 5, 6, 7, 8, 9, 10, 5, 6, 10, 4, 8, 9, 1, 9, 1, 5, 6, 7, 9, 10, 1, 7, 8, 10, 9, 4, 1, 1, 6, 1, 2, 3, 4, 5, 6, 7, 8, 9, 10, 5, 8, 9, 3, 2, 1, 4, 6, 1, 7, 3, 7, 8, 2, 2, 4, 7, 9, 8, 2, 1, 3, 5, 7, 5, 7, 8, 6, 8, 9, 10, 3, 5, 4, 1, 2, 3, 4, 5, 6, 3, 5, 8, 10, 3, 8, 5, 8, 10, 10, 7, 1, 10, 1, 4, 5, 8, 9, 7, 1, 3, 4, 5, 8, 5, 7, 5, 10, 9, 10, 10, 4, 2, 3, 4, 6, 7, 8, 9, 9, 4, 1, 4, 6, 7, 8, 9, 10, 2, 3, 5, 3, 5, 6, 8, 9, 2, 3, 7, 1, 2, 4, 5, 6, 1, 2, 4, 9, 2, 4, 6, 9, 2, 7, 1, 2, 3, 4, 5, 6, 7, 8, 9, 10, 2, 8, 1, 7, 10, 5, 10, 10, 3, 4, 6, 8, 9, 2, 10, 6, 2, 4, 9, 6, 2, 6, 2, 7, 4, 6, 5, 3, 4, 6, 1, 2, 3, 4, 5, 6, 7, 8, 9, 10, 1, 7, 1, 2, 3, 6, 7, 8, 9, 8, 10, 2, 3, 7, 10, 2, 7, 3, 6, 1, 3, 5, 7, 8, 1, 2, 3, 7, 9, 10, 3, 5, 4, 6, 2, 4, 9, 2, 3, 4, 5, 6, 7, 7, 9, 3, 4, 5, 7, 8, 9, 1, 8, 1, 6, 7, 8, 1, 2, 4, 5, 6, 8, 2, 6, 9, 10, 4, 1, 3, 10, 1, 2, 6, 1, 6, 3, 5, 3, 5, 6, 4, 6, 7, 2, 4, 7, 8, 9, 1, 4, 5, 7, 10, 5, 2, 4, 1, 6, 7, 5, 3, 5, 4, 3, 1, 1, 3, 5, 7, 8, 9, 1, 3, 5, 2, 6, 7, 8, 1, 7, 5, 7, 9, 2, 1, 1, 9, 5, 8, 1, 3, 4, 7, 8, 9, 1, 5, 6, 8, 1, 3, 8, 10, 2, 3, 2, 7, 1, 1, 2, 3, 5, 6, 7, 8, 9, 10, 1, 9, 1, 2, 4, 9, 10, 4, 5, 6, 7, 8, 9, 3, 4, 5, 6, 8, 3, 5, 2, 2, 5, 7, 8, 9, 10, 3, 5, 7, 8, 2, 6, 7, 2, 7, 8, 9, 10, 2, 3, 7, 10, 3, 2, 5, 7, 1, 2, 5, 6, 8, 3, 4, 4, 2, 7, 9, 1, 2, 8, 10, 9, 6, 6, 1, 3, 5, 7, 2, 7, 2, 8, 10, 8, 1, 1, 2, 3, 5, 7, 8, 9, 6, 1, 2, 4, 5, 6, 7, 8, 9, 10, 10, 1, 2, 4, 5, 6, 7, 9, 10, 1, 2, 1, 6, 10, 10, 2, 8, 9, 10, 9, 6, 3, 1, 4, 6, 7, 8, 9, 10, 10, 1, 2, 4, 2, 3, 7, 2, 1, 2, 3, 4, 5, 6, 7, 8, 9, 10, 3, 1, 8, 10, 8, 2, 9, 2, 1, 6, 10, 5, 8, 9, 2, 8, 10, 1, 5, 6, 7, 1, 6, 3, 5, 8, 5, 1, 3, 6, 3, 5, 6, 8, 9, 8, 1, 2, 3, 8, 9, 5, 2, 7, 3, 8, 2, 10, 6, 7, 2, 3, 7, 8, 9, 10, 3, 5, 4, 1, 7, 8, 3, 10, 5, 6, 2, 6, 3, 2, 4, 3, 1, 2, 3, 4, 6, 7, 8, 9, 10, 3, 4, 5, 6, 3, 2, 1, 1, 2, 3, 4, 5, 6, 7, 9, 10, 6, 7, 9, 3, 5, 6, 7, 9, 1, 1, 4, 6, 9, 10, 5, 6, 1, 5, 2, 4, 6, 7, 8, 9, 10, 5, 10, 9, 10, 9, 1, 4, 7, 9, 4, 3, 1, 7, 10, 8, 9, 2, 8, 8, 6, 10, 3, 5, 1, 2, 3, 5, 6, 10, 6, 8, 10, 1, 2, 3, 4, 5, 6, 7, 8, 10, 2, 4, 10, 1, 5, 6, 7, 8, 9, 10, 9, 3, 9, 4, 8, 10, 4, 10, 1, 2, 3, 3, 1, 2, 4, 7, 9, 10, 8, 10, 6, 4, 5, 5, 7, 4, 6, 2, 10, 1, 1, 8, 10, 1, 3, 5, 7, 9, 1, 2, 3, 10, 8, 2, 4, 8, 6, 8, 9, 4, 6, 7, 1, 3, 4, 7, 8, 1, 2, 6, 7, 8, 9, 3, 7, 2, 8, 4, 7, 8, 9, 3, 7, 6, 10, 8, 10, 9, 1, 2, 3, 4, 6, 8, 9, 10, 4, 5, 1, 2, 4, 4, 6, 7, 9, 1, 2, 5, 6, 7, 10, 1, 6, 10, 6, 1, 3, 4, 6, 7, 8, 9, 10, 10, 5, 6, 9, 10, 4, 9, 8, 4, 4, 6, 1, 3, 4, 5, 6, 7, 8, 9, 7, 4, 5, 1, 2, 3, 4, 7, 8, 9, 10, 4, 6, 6, 1, 2, 3, 4, 5, 6, 7, 8, 9, 2, 4, 5, 7, 8, 9, 4, 6, 10], \"Freq\": [0.2227603352550328, 0.0012444711466761608, 0.05226778816039875, 0.2003598546148619, 0.0012444711466761608, 0.0012444711466761608, 0.5201889393106353, 0.9967510444927068, 0.0009220638709460747, 0.0018441277418921494, 0.9968295442206535, 0.0006756295888046437, 0.37024501466494475, 0.5317204863892546, 0.0959394016102594, 0.0006756295888046437, 0.1105736266719452, 0.1342679752445049, 0.6697602529843538, 0.07740153867036165, 0.006318492952682583, 0.9947783615211829, 0.9973152467443274, 0.42708324094632055, 0.05479365321493561, 0.135703907494934, 0.24068240197214708, 0.0005120902169620151, 0.13467972706100997, 0.0035846315187341056, 0.00307254130177209, 0.9961683356598546, 0.9904812352256114, 0.9892391127146777, 0.9924482089685873, 0.9984743264450971, 0.006144398691334285, 0.9892481893048197, 0.9954018572521918, 0.8146737130317102, 0.18459835070568714, 0.9912912365992553, 0.9989466395697834, 0.9963629522308443, 0.0038618719078714896, 0.06393843582754619, 0.17476505792862623, 0.7608673863477996, 0.25421963092527444, 0.08046401162313732, 0.45829502272308653, 0.07813172143116233, 0.12827596055862472, 0.9971606910431868, 0.11140138680860981, 0.8819276455681611, 0.005570069340430491, 0.9910741467386153, 0.9954388583819709, 0.02435502161382325, 0.9677061921225771, 0.006494672430352867, 0.9961683410909878, 0.8459348684574729, 0.15336605439591589, 0.008863601349975887, 0.7844287194728661, 0.13960172126212023, 0.06426110978732519, 0.002215900337493972, 0.997620031337948, 0.05328175202220351, 0.9438481786790336, 0.9909987140465291, 0.9991286602996207, 0.9956886502222921, 0.08603614848722049, 0.9119831739645372, 0.9973663624562212, 0.0021569341748620702, 0.8573218628108485, 0.11907248094595117, 0.021168441057057986, 0.9907590211054945, 0.14582115873375437, 0.6482740649385796, 0.199648969179918, 0.0005400783656805717, 0.0014402089751481913, 0.00414060080355105, 0.7523339035023221, 0.07006705378919358, 0.17738494630175589, 0.9989219035295684, 0.06531096255750089, 0.2930760840815586, 0.08452006919205997, 0.14983103174956086, 0.031283402233424795, 0.1822120972192462, 0.007134811035693375, 0.08781305890084153, 0.09933852288157699, 0.652428790271248, 0.23278014862764282, 0.0008054676423101827, 0.0008054676423101827, 0.11276546992342558, 0.9892336968549691, 0.9978872297745571, 0.9959887977708399, 0.9975011574807995, 0.9968475978463555, 0.996314440011791, 0.012355547611651072, 0.9822660351262602, 0.9938158288901988, 0.9975172394295982, 0.9889957381513261, 0.0039493981115115385, 0.9912989259893962, 0.5222659365210326, 0.4768055412368132, 0.0076104948219294115, 0.9893643268508235, 0.9971125135643871, 0.9965839165114763, 0.0011991191152249394, 0.5911657238058952, 0.33695247137820794, 0.0011991191152249394, 0.06834978956782155, 0.9910405686000099, 0.10494913149551363, 0.7346439204685954, 0.0018740916338484577, 0.06559320718469602, 0.09183049005857442, 0.0790876041369603, 0.003041830928344627, 0.003041830928344627, 0.9155911094317327, 0.0050994062741806165, 0.9892848171910397, 0.03180559647892756, 0.038166715774713075, 0.11068347574666793, 0.645017496592651, 0.12213349047908184, 0.0012722238591571025, 0.021627805605670743, 0.029261148760613358, 0.9909943900271455, 0.023282271767629575, 0.008315097059867705, 0.6153171824302102, 0.026608310591576655, 0.1696279800213012, 0.15632382472551287, 0.9966847059110918, 0.9990874457155133, 0.28374847597253244, 0.07534947567691651, 0.11540009788356582, 0.3421273490195128, 0.11404244967317093, 0.000678824105197446, 0.05430592841579568, 0.01357648210394892, 0.9776021070961142, 0.01756171449873259, 0.9916586062768009, 0.998060028722023, 0.0010766559101639947, 0.001347559428525591, 0.9864135016807326, 0.01212803485673032, 0.9959790906203956, 0.9952814382312493, 0.946595545434955, 0.052588641413053056, 0.0008230038690321558, 0.9991266970050372, 0.010035566837528093, 0.9885033334965172, 0.10414116139583901, 0.3052905279275281, 0.1890233408897078, 0.021042220966967472, 0.05563705882791399, 0.1501487292727679, 0.11876372172881641, 0.05528041101491454, 0.00035664781299944866, 0.888080106228384, 0.003217681544305739, 0.08365972015194921, 0.019306089265834433, 0.006435363088611478, 0.9995437456650712, 0.6354663657119445, 0.1788846337795018, 0.0005678877262841327, 0.015900856335955716, 0.16866265470638742, 0.07483430626916479, 0.924040999149687, 0.14446305210743665, 0.8527980172793841, 0.002330049227539301, 0.9971520278887683, 0.9948225215870667, 0.9968784779581044, 0.8101501885842571, 0.18853410796733133, 0.0013661891881690676, 0.039870080481242416, 0.20769530297205355, 0.44784299703349045, 0.06212314865681958, 0.23643884936550738, 0.005563267043894291, 0.9919932365345702, 0.022406539014825158, 0.976284914217382, 0.9982983591519851, 0.25884374609888305, 0.7250743490119315, 0.015592996752944762, 0.9909965130829491, 0.7696098696596723, 0.1995911310326183, 0.0033829005259765816, 0.027063204207812653, 0.0040836067758443385, 0.46502072159927405, 0.0005104508469805423, 0.009188115245649761, 0.0025522542349027113, 0.34455432171186606, 0.025012091502046575, 0.08422438975178947, 0.05870184740276237, 0.006125410163766508, 0.5602540032115076, 0.43815630637213804, 0.0010465516871945972, 0.9910607478720881, 0.9982853139691328, 0.15108459393328694, 0.8260599226742052, 0.001962137583549181, 0.001962137583549181, 0.001962137583549181, 0.011772825501295086, 0.005886412750647543, 0.2121012805278329, 0.44322691255339125, 0.0004047734361218185, 0.0680019372684655, 0.08419287471333824, 0.19186260872174196, 0.13218924343657446, 0.8666923783381858, 0.9939907664297194, 0.15607642253001566, 0.003356482204946573, 0.08559029622613762, 0.7535302550105056, 0.24915216351619968, 0.04328490976340757, 0.01794740160921777, 0.45501941726899175, 0.19214277016927261, 0.0010557295064245748, 0.020058860622066924, 0.01900313111564235, 0.0021114590128491497, 0.9892717359795787, 0.438393077661292, 0.5447487947270492, 0.0012970209398263078, 0.014267230338089385, 0.9913959220949247, 0.0029179253582549006, 0.995012547164921, 0.9973590270711573, 0.003516513966231924, 0.10197890502072579, 0.8931945474229087, 0.0923959790145614, 0.9068930169518415, 0.9923723504406612, 0.9967370829196577, 0.998586180171477, 0.9964243073789523, 0.9966896046281483, 0.9551743152931946, 0.00272647283147439, 0.034535322532008944, 0.0063617699401069105, 0.05323925919935153, 0.7050604596670879, 0.0014388988972797712, 0.0014388988972797712, 0.021583483459196567, 0.20720144120828707, 0.010072292280958399, 0.9969020834095064, 0.9952796702376892, 0.9910347712612978, 0.9157643191245658, 0.001600986571896094, 0.0816503151667008, 0.11367237538072926, 0.43905203189382197, 0.02405764558322312, 0.10224499372869827, 0.009021617093708672, 0.00300720569790289, 0.047513850026865666, 0.10645508170576232, 0.15457037287220857, 0.14332963365340132, 0.622864580814781, 0.0008847508250209959, 0.17518066335415716, 0.05131554785121776, 0.006193255775146971, 0.9036594266422662, 0.09564943527967536, 0.9892336986285699, 0.026696812612770335, 0.3306590933610269, 0.5995341346753567, 0.000762766074650581, 0.03890106980717963, 0.0034324473359276146, 0.9996288855439941, 0.9216018172520657, 0.07626158095073195, 0.2514216327894365, 0.0311983047986892, 0.7010442607705456, 0.01651674959930605, 0.97081703018193, 0.0029688594195166054, 0.02671973477564945, 0.9910276567198009, 0.9952812521023823, 0.04413974396707583, 0.8669045715133693, 0.08827948793415166, 0.9993951105318756, 0.8711611040318813, 0.12818174282757927, 0.9756152158122714, 0.014165012207800674, 0.005311879577925253, 0.0035412530519501684, 0.0017706265259750842, 0.9950658804648541, 0.2802377420009948, 0.5744873711020394, 0.015660344405937946, 0.12857966985928, 0.02309497191662286, 0.9730012081394588, 0.004016516855064845, 0.14354112482956233, 0.1471904754608224, 0.0004054834034733399, 0.34344444274191893, 0.29275901730775145, 0.05676767648626759, 0.015408369331986917, 0.004776922594465197, 0.7101691590438259, 0.283430740604935, 0.9951960577665767, 0.10586812548176551, 0.009987559007713727, 0.8829002162818935, 0.998028660888248, 0.4255982781825955, 0.3438688791005893, 0.11078874097783069, 0.1180535764517868, 0.0006054029561630092, 0.0012108059123260185, 0.9956177170053749, 0.024044683069514874, 0.0020037235891262398, 0.9698022171370999, 0.0040074471782524795, 0.08500488095986766, 0.9116040682247877, 0.9982543509035503, 0.11534213603131212, 0.20671707496520875, 0.002995899637176938, 0.121333935305666, 0.5512455332405567, 0.885441890271278, 0.1121559727676952, 0.7929300408582617, 0.20676403597063533, 0.9959887124590109, 0.9917438940000859, 0.7044681993605456, 0.0010063831419436365, 0.13586172416239092, 0.15699577014320729, 0.9985520423668253, 0.18484438594968092, 0.15231177402253707, 0.6624822792436564, 0.23706935273284327, 0.76212788396157, 0.9991183793628967, 0.99122955634394, 0.004045834923852816, 0.9969123147790443, 0.9964218640923366, 0.14095354106603722, 0.038181546112696314, 0.007636309222539263, 0.697449575658586, 0.000318179550939136, 0.11549917699090635, 0.021853179854104305, 0.9688243068652909, 0.007284393284701434, 0.9942537151059908, 0.9910474836018812, 0.007129838011524325, 0.9968766372168317, 0.9952935049205484, 0.9985055632309717, 0.031895009848742086, 0.009813849184228333, 0.9568502954622626, 0.9899835560836387, 0.9965869704743431, 0.9926885637389269, 0.9974765257713305, 0.9922448668699121, 0.9964790780982417, 0.997556668356073, 0.9969382985299786, 0.12924958937281808, 0.8687267482435314, 0.0021188457274232473, 0.9981777469544454, 0.997396250050332, 0.1564671827468351, 0.01360584197798566, 0.0437330635006682, 0.0009718458555704043, 0.7842796054453163, 0.7210807480588701, 0.060884742715041934, 0.06455249830028542, 0.15331218346317788, 0.029741808920553562, 0.5305108707456879, 0.006916699748965945, 0.11550888580773128, 0.2960347492557424, 0.0006916699748965944, 0.02144176922179443, 0.27563588524772253, 0.013265898220478625, 0.06485550241122884, 0.6456070467299597, 0.9911974160248122, 0.056504877733985624, 0.09982528399670794, 0.843806174160852, 0.41699917656561625, 0.47495499432558325, 0.10177607021262498, 0.00565422612292361, 0.9981745387996542, 0.13568006577159625, 0.002236484600630707, 0.0007454948668769024, 0.6761638442573504, 0.0007454948668769024, 0.1841372321185949, 0.6314661772021863, 0.12268923904353347, 0.005367654208154589, 0.00038340387201104214, 0.017636578112507937, 0.0011502116160331264, 0.22084063027836026, 0.9206313001592156, 0.07721423807786969, 0.04148611298848241, 0.0015754220122208512, 0.0031508440244417024, 0.6438224623275879, 0.012078235427026527, 0.14073769975839603, 0.021005626829611348, 0.11868179158730412, 0.015754220122208513, 0.0015754220122208512, 0.017059128365349244, 0.97805669294669, 0.9303256789513589, 0.0138854578947964, 0.053227588596719534, 0.6406174448992558, 0.23286094330971385, 0.007995225521363567, 0.0009994031901704459, 0.11693017324994215, 0.9910243310156688, 0.012350201910282759, 0.9797826848824321, 0.0013722446566980843, 0.0013722446566980843, 0.0013722446566980843, 0.0027444893133961685, 0.0013722446566980843, 0.0018704685543736602, 0.28057028315604904, 0.7163894563251119, 0.012193647062364742, 0.8072194355285459, 0.1707110588731064, 0.0024387294124729483, 0.007316188237418845, 0.9967333368330661, 0.004423648965724692, 0.6399545503748387, 0.000737274827620782, 0.23961431897675414, 0.08404933034876914, 0.030228267932452063, 0.09814932098603832, 0.019629864197207664, 0.7301218933350295, 0.0005452740054779907, 0.038169180383459345, 0.10960007510107612, 0.004362192043823925, 0.08104087493661868, 0.9167748977204989, 0.98928449019091, 0.005179499948643508, 0.10389689770682894, 0.017316149617804824, 0.1464001740414408, 0.7304266747874034, 0.0015741954198004384, 0.9966622795609728, 0.24063144319664725, 0.001547469088081333, 0.7574861186158124, 0.74377280355714, 0.017421705308545622, 0.23720321843173656, 0.9963145339502838, 0.2766492479138935, 0.721578770832735, 0.0008810485602353296, 0.008898788427713163, 0.9877655154761611, 0.9961815201054558, 0.994146815351907, 0.9987095617051016, 0.08842791514240578, 0.9111543021045929, 0.0594558368276275, 0.5432777090124463, 0.02155274085001497, 0.07692098889574307, 0.2891040065743387, 0.009661573484489469, 0.9955627992919031, 0.008374220439037385, 0.9909494186194238, 0.9938703897196174, 0.9954542664358735, 0.9946453381296384, 0.08540361092123008, 0.9109718498264543, 0.07639108517823669, 0.9223516210409318, 0.992753935050744, 0.9870290602331102, 0.009676755492481473, 0.9819506832574335, 0.013701637440801398, 0.8485255911203649, 0.1505339751947823, 0.049528290928618005, 0.6057690967423279, 0.3403482556120417, 0.003809868532970616, 0.9974706540704227, 0.1569960497363644, 0.09080607754786235, 0.025163129922901616, 0.05470245635413394, 0.015863712342698844, 0.07548938976870484, 0.13402101806762817, 0.09955847056452377, 0.32110341879876625, 0.026257179049984293, 0.020174938188345502, 0.9724320206782532, 0.0040349876376691, 0.002313323362562116, 0.7657100330080605, 0.23056122846869093, 0.9945785596789378, 0.9953438941554451, 0.8013377918379915, 0.008141312834348245, 0.0314022066467718, 0.07210877081851302, 0.07908703896224009, 0.008141312834348245, 0.9232305699742378, 0.006973850906255137, 0.0670562587139917, 0.0021458002788477346, 0.9975188797346496, 0.9949370861010016, 0.9991446531130228, 0.20701394106745985, 0.792226428315856, 0.2015578632433625, 0.054088945579231454, 0.05459921865073364, 0.003061638429013101, 0.08827724136987775, 0.0005102730715021835, 0.013777372930558954, 0.0494964879357118, 0.18318803266928388, 0.35208841933650664, 0.00813140307456949, 0.9866102397144314, 0.9964121035964674, 0.9958633754057554, 0.9950545383419465, 0.0033512406290547437, 0.9936428465147316, 0.0016756203145273719, 0.9750960674836318, 0.024492208916386357, 0.15341044415206279, 0.12316049741785323, 0.7216773006589996, 0.9987395874087382, 0.009960391017579957, 0.8964351915821961, 0.08167520634415565, 0.011952469221095949, 0.9984520262558306, 0.9953995469273783, 0.0634265801878719, 0.4665191884871104, 0.10682371400062635, 0.3621991552833737, 0.9910288835186564, 0.006493226176153049, 0.9912991962260321, 0.08368587512219373, 0.13274311226279006, 0.0007214299579499459, 0.7813086444597914, 0.049482766682090944, 0.9500691202961462, 0.9937830352934078, 0.0011097288839441448, 0.00665837330366487, 0.6702762459022635, 0.04549888424170994, 0.1953122835741695, 0.07990047964397844, 0.05186634246680555, 0.03169609817415894, 0.9134239201098533, 0.9958794995131538, 0.9962989329972844, 0.003759618615084092, 0.9971032431784935, 0.8866123760190856, 0.11265192542360146, 0.9925391143444942, 0.9910029736271279, 0.004365887104134135, 0.9954222597425827, 0.05314231099608146, 0.013285577749020365, 0.008303486093137727, 0.01494627496764791, 0.910062075807895, 0.9910665827989178, 0.4259495652352309, 0.2849066628394591, 0.0009402860159718121, 0.1932287762822074, 0.09449874460516712, 0.9927604040829225, 0.004795943981076921, 0.9923112412318672, 0.9970839203044443, 0.9976954242621126, 0.9990823714084343, 0.997597975820215, 0.9961648851804726, 0.40698371397959976, 0.0014457680780802834, 0.0014457680780802834, 0.0007228840390401417, 0.5840903035444345, 0.003614420195200708, 0.002168652117120425, 0.9975014673726513, 0.9938914975072192, 0.02380304746316976, 0.00396717457719496, 0.1507526339334085, 0.6188792340424137, 0.0568628356064611, 0.03570457119475464, 0.10975849663572723, 0.0021634241224013843, 0.8458988318589413, 0.14927626444569553, 0.03300796216832268, 0.70807402715918, 0.2534159676148644, 0.005323864865858496, 0.9975433093686882, 0.02413610081883844, 0.0010056708674516016, 0.9744950705606019, 0.04277879275319589, 0.008714198523799163, 0.07129798792199314, 0.18062156940238264, 0.696343682038133, 0.9518742752158053, 0.035392585575538746, 0.007451070647481841, 0.0037255353237409207, 0.006334666612753848, 0.030521575497813994, 0.03512860576163497, 0.9271648405939722, 0.9961815213417277, 0.9970010459157279, 0.059539387042810185, 0.14821506987252747, 0.001900193203493942, 0.2558926847371842, 0.02850289805240913, 0.06650676212228797, 0.12161236502361229, 0.002533590937991923, 0.27109423036513575, 0.04433784141485865, 0.15186788856513658, 0.8468285525425552, 0.0052713115669784155, 0.9804639514579853, 0.010542623133956831, 0.9949442971631737, 0.9969719786567637, 0.9928055515111278, 0.11795402263844448, 0.10910747094056114, 0.6959287335668225, 0.001474425282980556, 0.0737212641490278, 0.00422644454385439, 0.9950928876030501, 0.9963084465966201, 0.9830618015398405, 0.013414098656489052, 0.0019162998080698645, 0.9968249120413899, 0.007504340567776867, 0.9905729549465464, 0.9947403385326365, 0.00494895690812257, 0.973978694513987, 0.023755577914975293, 0.99444238092981, 0.9976803427792498, 0.0012502259934577065, 0.9943100322133952, 0.31804542450369216, 0.004309558597611006, 0.14867977161757967, 0.03749315979921575, 0.3163216010646478, 0.053869482470137564, 0.04352654183587115, 0.00043095585976110054, 0.02240970470757723, 0.05516235004942087, 0.9992219058520352, 0.9955260792134245, 0.023685449099465683, 0.4770926175749516, 0.010996815653323352, 0.3468226475278903, 0.04990862488815983, 0.08459088964094887, 0.007613180067685398, 0.9990219564417723, 0.9952588143970981, 0.009749710355872715, 0.9847207459431442, 0.9910801870650907, 0.9954563893422742, 0.12466824766656968, 0.8741107020299713, 0.9947790260799672, 0.9908773609811724, 0.13590953959339738, 0.0807383403525133, 0.6485980008318568, 0.1305269835698965, 0.0026912780117504436, 0.07992099485232484, 0.1966310190811167, 0.0012685872198781721, 0.16237916414440604, 0.4769887946741927, 0.08372675651195936, 0.0004259426006035729, 0.999261341015982, 0.10454343832075423, 0.8940266449498983, 0.9749198752366964, 0.003995573259166789, 0.019977866295833945, 0.005877385680592888, 0.15134268127526687, 0.6450430784450695, 0.024978889142519778, 0.1395879099140811, 0.03232562124326089, 0.9908977917632878, 0.005356204279801556, 0.009784737553679755, 0.10273974431363742, 0.0004447607978945343, 0.0008895215957890686, 0.0004447607978945343, 0.8859635094059123, 0.020102475620205774, 0.9749700675799801, 0.8368024851566096, 0.035083334005013136, 0.00519753096370565, 0.12214197764708278, 0.008009085749940243, 0.8079165250252219, 0.1551760364050922, 0.0050056785937126515, 0.015017035781137954, 0.007007950031197712, 0.991608662055436, 0.9965816331787173, 0.5969682741045125, 0.40262000216572563, 0.9974861952889201, 0.9936396178520537, 0.989145624725553, 0.9996081457904454, 0.15763663634763708, 0.7040082788341073, 0.13621029742659904, 0.9978411221095176, 0.9962336757725221, 0.9870995635551443, 0.009055959298671049, 0.9903180067274693, 0.008446209012601017, 0.996168339747542, 0.9657360717055672, 0.029806668879801455, 0.004471000331970219, 0.0384844273095611, 0.002405276706847569, 0.8081729735007831, 0.002405276706847569, 0.14672187911770168, 0.0035525799171723625, 0.9882093136267788, 0.0005920966528620604, 0.0011841933057241208, 0.005920966528620604, 0.9903357292485183, 0.0027131431183706274, 0.9957235244420203, 0.19937832229634728, 0.7975132891853891, 0.9910425875529248, 0.9926871947876524, 0.9891980194477553, 0.005923341433818894, 0.9953380763154801, 0.9912847017275673, 0.9956909310275586, 0.017168195140614316, 0.06867278056245726, 0.012017736598430022, 0.012017736598430022, 0.05322140493590438, 0.8343742838338558, 0.6785110217976194, 0.17386844933563997, 0.14736411254667045, 0.1603036424317018, 0.07298377216402684, 0.7050753703703307, 0.059950955706164905, 0.006312573930489276, 0.9910741070868163, 0.025129898056658367, 0.9418248749930223, 0.03277812789998917, 0.9954814497301153, 0.9942445081494735, 0.9973425739377416, 0.996839988754522, 0.9952236239792079, 0.9892377224464945, 0.0014452964020988403, 0.1365805099983404, 0.020234149629383764, 0.016620908624136663, 0.6836251981927515, 0.1401937510035875, 0.35561176578870923, 0.5884263437035049, 0.053897408252351245, 0.0016669301521345745, 0.9934564621281589, 0.032592861800416206, 0.006518572360083241, 0.961489423112278, 0.00615661391789012, 0.9912148407803093, 0.9965088955725222, 0.991058680240749, 0.9969436884222278, 0.14475969930559235, 0.6263308105413279, 0.004037123088203771, 0.0005767318697433958, 0.11823003329739615, 0.04383162210049808, 0.024222738529222625, 0.038064303403064124, 0.0005767318697433958, 0.997507012018957, 0.9963733366214061, 0.0025490350369968186, 0.9941236644287593, 0.9747732104519642, 0.016246220174199404, 0.008123110087099702, 0.659333049201813, 0.05739729669390783, 0.07358627781270234, 0.0029434511125080937, 0.16483326230045325, 0.039736590018859264, 0.02548190873010679, 0.6338624796614064, 0.27552313814427964, 0.04140810168642353, 0.02229667013884344, 0.004838755582503488, 0.9951707314682174, 0.998251198804664, 0.014050007504465353, 0.824267106928634, 0.002341667917410892, 0.07025003752232677, 0.002341667917410892, 0.086641712944203, 0.8907785881862395, 0.002457885274369941, 0.1060987143436358, 0.0006144713185924853, 0.8438556929498514, 0.0018225824901724652, 0.15491951166465956, 0.0907226451310606, 0.681450777632171, 0.0010309391492165977, 0.2226828562307851, 0.004123756596866391, 0.051654866009331266, 0.003689633286380805, 0.9371668547407244, 0.003689633286380805, 0.9931536579794639, 0.0013159978084528417, 0.0013159978084528417, 0.9962103409988012, 0.15103867249346736, 0.8437052726920032, 0.003248143494483169, 0.0008120358736207923, 0.0008120358736207923, 0.9972054583565895, 0.001143584241234621, 0.9966502687320619, 0.007312440488913856, 0.9579297040477152, 0.03290598220011235, 0.003915984046708743, 0.47540046327044144, 0.01801352661486022, 0.5020291547880609, 0.9959734009277931, 0.9958251568929702, 0.9978666243062225, 0.004197280293542619, 0.012591840880627859, 0.8447026590754522, 0.13851024968690645, 0.9878893484891595, 0.011420686109701267, 0.005622569848157642, 0.002811284924078821, 0.989572293275745, 0.9983861773985697, 0.9976884935147073, 0.1984400692112085, 0.0024498773976692405, 0.007349632193007722, 0.03797309966387323, 0.08697064761725803, 0.58062094324761, 0.0845207702195888, 0.9952760974522702, 0.3125957557083662, 0.10301897861080747, 0.015334886129089662, 0.09476173223360534, 0.11756746032302073, 0.0668443754344934, 0.00039320220843819644, 0.17536818496343562, 0.11402864044707697, 0.9978680571551831, 0.060115364738842894, 0.001202307294776858, 0.07213843768661148, 0.07334074498138833, 0.11061227111947093, 0.1394676461941155, 0.5242059805227101, 0.01803460942165287, 0.995978618502364, 0.0024471219127822214, 0.03213111048931979, 0.7711466517436749, 0.19457172462976985, 0.9968688411378317, 0.4300326476820244, 0.5090386457445358, 0.003000227774525752, 0.05700432771598928, 0.9908171273587904, 0.9946520508743036, 0.9937881557537327, 0.08394448649173199, 0.15006005549849433, 0.4798950289704324, 0.006685844056863609, 0.13297400957539846, 0.008171587180611077, 0.13891698207038833, 0.9966995015367548, 0.008790127029865528, 0.9844942273449391, 0.004395063514932764, 0.9963626351019146, 0.2252099615140517, 0.7740324352937903, 0.9954049533584168, 0.11993841934115664, 0.358270986529807, 0.22597839523934662, 0.0010295143291086408, 0.0010295143291086408, 0.0010295143291086408, 0.09265628961977766, 0.040665815999791306, 0.1034661900754184, 0.0555937737718666, 0.996610147540615, 0.04843853138802594, 0.6963038887028729, 0.25430228978713615, 0.9892512898213999, 0.2334946499858651, 0.7662381904708562, 0.9976618574119094, 0.9872730629487779, 0.002727273654554635, 0.009545457790941222, 0.99499236958811, 0.9892275447535469, 0.9985299090068789, 0.2577342369669921, 0.5014701287952019, 0.2396187314932738, 0.20913493930835125, 0.0067900954320893265, 0.7822189937766905, 0.0013580190864178653, 0.9987872888016208, 0.0009987872888016208, 0.0033032863577008437, 0.11231173616182868, 0.8819774575061253, 0.9922332309887387, 0.1606369288240869, 0.7521103385455965, 0.08649680782835448, 0.0017352866094284495, 0.008676433047142247, 0.6420560454885264, 0.3453220352762615, 0.9996460097366988, 0.9949328675793777, 0.9987553413199843, 0.9981521647642677, 0.0016529118853475762, 0.0026134362602081352, 0.9972872768954245, 0.9987217492721709, 0.0013318682676332172, 0.9975693324572796, 0.005582888501896481, 0.9926375756371943, 0.07290007847389192, 0.9255140397554974, 0.01292833130035567, 0.9868626225938162, 0.32422973919988524, 0.12246087271938111, 0.003498882077696603, 0.009330352207190942, 0.5271648997062882, 0.012829234284887544, 0.05231581856915041, 0.9470049869805531, 0.9957545838036965, 0.9478045878539707, 0.000973105326338779, 0.050601476969616505, 0.9987229474349624, 0.9987860780749684, 0.981052902655826, 0.01791877447773198, 0.9919580745773525, 0.991930247670392, 0.9990379394257689, 0.011422952564141595, 0.9869431015418337, 0.9978892569119169, 0.10731822527060657, 0.08962213493343209, 0.10218065065658817, 0.08105951057673474, 0.08448456031941369, 0.48179033047016995, 0.0005708416237798222, 0.021691981703633244, 0.03139628930789022, 0.9935423069839202, 0.9969598631098086, 0.9921525137129799, 0.9977468993044811, 0.9979397596572629, 0.9986698446171156, 0.9925420060604649, 0.1988408438162546, 0.0004897557729464398, 0.017141452053125398, 0.21647205164232644, 0.07836092367143038, 0.17631207826071837, 0.0009795115458928797, 0.003428290410625079, 0.3075666254103643, 0.005520436630718948, 0.9743570653218943, 0.016561309892156845, 0.2520330955682312, 0.0009033444285599686, 0.7425491202762942, 0.0018066888571199372, 0.0027100332856799057, 0.9955138961832153, 0.006639290668839186, 0.7568791362476672, 0.05311432535071349, 0.006639290668839186, 0.17594120272423844, 0.995755212294886, 0.003008323904214157, 0.9970996302536755, 0.9981460983461596, 0.09609563183289241, 0.21249315771498745, 0.03518994968528455, 0.02639246226396341, 0.5143146492464664, 0.003383649008200437, 0.11166041727061443, 0.9943237744627136, 0.9970839227866273, 0.9980082367650135, 0.9990362947620441, 0.9995392829584927, 0.04558073206819675, 0.0015717493816619571, 0.0015717493816619571, 0.950908375905484, 0.9950045872767822, 0.991540971267819, 0.10965603238682123, 0.8879988505050425, 0.9954563909176357, 0.9958500867034568, 0.9953750100335879, 0.18950364016623905, 0.8093384632099794, 0.9959729808876054, 0.9973829752464028, 0.9946849796352775, 0.9911606302922866, 0.0065100862416570555, 0.34971283960404953, 0.00033054143629872355, 0.07205803311312174, 0.45912205501892706, 0.00033054143629872355, 0.11833383419494303, 0.06859479959968241, 0.8554175008901571, 0.07262978781142844, 0.09360227701152694, 0.10841276388043943, 0.10722792493092644, 0.23222843410454785, 0.04620871903100697, 0.1800955203259759, 0.11670663652703042, 0.04265420218246797, 0.07286759539504946, 0.6692813734849193, 0.18139401711273515, 0.14907669222483405, 0.23015463193492197, 0.0006322929448761593, 0.06322929448761593, 0.030350061354055644, 0.440708182578683, 0.13910444787275503, 0.0961085276211762, 0.9936661324931686, 0.0812069596749858, 0.9164785449034112, 0.9709839213726201, 0.02641076266133527, 0.9961357303899209, 0.9974447887723161, 0.9969172968176051, 0.007371299425349347, 0.9902112228052623, 0.9986734819353426, 0.9937133227143939, 0.002484390500053538, 0.0006210976250133845, 0.8204699626426809, 0.11738745112752966, 0.013664147750294458, 0.04534012662597706, 0.01084157684652794, 0.9865834930340426, 0.9953002038330397, 0.9927674400594302, 0.002742451491876879, 0.9430154897105744, 0.055471499394739665, 0.9962601252704496, 0.9981522681867202, 0.026951857941571372, 0.971491970348459, 0.9953779909148532, 0.9984495029664893, 0.9845494676195139, 0.013737899548179264, 0.01848824285960568, 0.04983787205632836, 0.9002970435981896, 0.02974195590458305, 0.9940109547921531, 0.9981902088135147, 0.00023644326931490382, 0.7556726887304327, 0.24400945393298076, 0.9892618307381646, 0.33164178635288216, 0.000863650485293964, 0.6676018251322341, 0.9969973609207844, 0.9951428494864039, 0.9972955761797814, 0.0030001252787265724, 0.09300388364052374, 0.9030377088966982, 0.04870011250515608, 0.8318774319758293, 0.02981639541132005, 0.002981639541132005, 0.08646754669282813, 0.002172858544537468, 0.002172858544537468, 0.14992723957308526, 0.6931418757074522, 0.14992723957308526, 0.002172858544537468, 0.00365673139360077, 0.9958498495239431, 0.005435741106719571, 0.9893048814229619, 0.8030373054877161, 0.0012392551010612903, 0.19456305086662257, 0.0012392551010612903, 0.9830874437381377, 0.011844427032989612, 0.9946271952760641, 0.9977369186873861, 0.9892637242611282, 0.9989096344803644, 0.9909680641314533, 0.5715967671723627, 0.15538552894005978, 0.010482357111035779, 0.008015920143733243, 0.05179517631335326, 0.011098966352861414, 0.053645004038830164, 0.13812047016894202, 0.9925051395379629, 0.9913959216277484, 0.006676759178830155, 0.9436486306079952, 0.04896290064475447, 0.003208295992859246, 0.05133273588574794, 0.012833183971436984, 0.9304058379291813, 0.2534966872015892, 0.37049515821770723, 0.053443746019708256, 0.17188664260392655, 0.020944170737453235, 0.12927608834496998, 0.46426011760747526, 0.5338281474630296, 0.0014197557113378447, 0.9969973619430623, 0.03580385485660789, 0.0024692313694212337, 0.1753154272289076, 0.0012346156847106169, 0.08642309792974319, 0.06543463128966269, 0.18642696839130316, 0.44816549354995394, 0.9965741268438566, 0.16494829646910616, 0.061308216386747424, 0.004379158313339102, 0.7692721437099023, 0.9888662156613892, 0.005749222184077844, 0.9892656608571564, 0.9968475975345447, 0.9937355133591624, 0.00556047049841258, 0.09147454547337652, 0.20633746905074135, 0.21595269116015878, 0.1494257489977031, 0.06834603823721029, 0.21985075417749014, 0.04651688534015454, 0.0023388378103988312, 0.9910103324450134, 0.9896744237869335, 0.0055599686729603005, 0.1703768598907434, 0.24220239886429207, 0.0008351806857389381, 0.010022168228867258, 0.16118987234761506, 0.28062071040828324, 0.0743310810307655, 0.060133009373203546, 0.0012186659426346815, 0.9984936289986824, 0.9900348066766267, 0.0003035901056818355, 0.05494980912841223, 0.0009107703170455065, 0.30662600673865387, 0.35368247311933837, 0.09046985149318698, 0.002428720845454684, 0.07680829673750438, 0.11414987973637014, 0.0011552984667854123, 0.15249939761567444, 0.036969550937133194, 0.11899574207889747, 0.5221949069870063, 0.1686735761506702, 0.2210083392477855, 0.7247480674431885, 0.0517677191030849], \"Term\": [\"aborigin\", \"aborigin\", \"aborigin\", \"aborigin\", \"aborigin\", \"aborigin\", \"aborigin\", \"abus\", \"abus\", \"abus\", \"accid\", \"accus\", \"accus\", \"accus\", \"accus\", \"accus\", \"action\", \"action\", \"action\", \"action\", \"action\", \"actor\", \"addict\", \"adelaid\", \"adelaid\", \"adelaid\", \"adelaid\", \"adelaid\", \"adelaid\", \"adelaid\", \"adelaid\", \"advertis\", \"afford\", \"agenda\", \"agricultur\", \"alan\", \"aleppo\", \"aleppo\", \"alic\", \"alleg\", \"alleg\", \"ambul\", \"america\", \"analysi\", \"analysi\", \"anim\", \"anim\", \"anim\", \"announc\", \"announc\", \"announc\", \"announc\", \"announc\", \"anthoni\", \"anti\", \"anti\", \"anti\", \"antoni\", \"anzac\", \"appeal\", \"appeal\", \"appeal\", \"arabia\", \"arrest\", \"arrest\", \"artist\", \"artist\", \"artist\", \"artist\", \"artist\", \"asbesto\", \"ash\", \"ash\", \"assang\", \"assault\", \"assist\", \"asylum\", \"asylum\", \"attack\", \"attack\", \"attempt\", \"attempt\", \"attempt\", \"audio\", \"australia\", \"australia\", \"australia\", \"australia\", \"australia\", \"australia\", \"australian\", \"australian\", \"australian\", \"award\", \"back\", \"back\", \"back\", \"back\", \"back\", \"back\", \"back\", \"back\", \"back\", \"bank\", \"bank\", \"bank\", \"bank\", \"bank\", \"barack\", \"barnabi\", \"barnett\", \"barrier\", \"barti\", \"bash\", \"basin\", \"basin\", \"batteri\", \"beef\", \"beer\", \"bike\", \"bike\", \"bill\", \"bill\", \"bishop\", \"bishop\", \"blog\", \"boat\", \"bodi\", \"bodi\", \"bodi\", \"bodi\", \"bodi\", \"bolt\", \"bomb\", \"bomb\", \"bomb\", \"bomb\", \"bomb\", \"book\", \"book\", \"book\", \"book\", \"bori\", \"bori\", \"break\", \"break\", \"break\", \"break\", \"break\", \"break\", \"break\", \"break\", \"breast\", \"brexit\", \"brexit\", \"brexit\", \"brexit\", \"brexit\", \"brexit\", \"brief\", \"bring\", \"brisban\", \"brisban\", \"brisban\", \"brisban\", \"brisban\", \"brisban\", \"brisban\", \"brisban\", \"britain\", \"britain\", \"bronco\", \"budget\", \"budget\", \"build\", \"build\", \"build\", \"bulldog\", \"bulli\", \"bushfir\", \"bushfir\", \"busi\", \"busi\", \"cabinet\", \"cabinet\", \"call\", \"call\", \"call\", \"call\", \"call\", \"call\", \"call\", \"call\", \"call\", \"camp\", \"camp\", \"camp\", \"camp\", \"camp\", \"campaign\", \"canberra\", \"canberra\", \"canberra\", \"canberra\", \"canberra\", \"cancer\", \"cancer\", \"candid\", \"candid\", \"candid\", \"cannabi\", \"capit\", \"card\", \"care\", \"care\", \"care\", \"case\", \"case\", \"case\", \"case\", \"case\", \"case\", \"cat\", \"caught\", \"caught\", \"caus\", \"celebr\", \"celebr\", \"celebr\", \"cell\", \"challeng\", \"challeng\", \"challeng\", \"challeng\", \"chang\", \"chang\", \"chang\", \"chang\", \"chang\", \"chang\", \"chang\", \"chang\", \"chang\", \"chang\", \"charg\", \"charg\", \"charg\", \"charli\", \"check\", \"chief\", \"chief\", \"chief\", \"chief\", \"chief\", \"chief\", \"chief\", \"child\", \"child\", \"child\", \"child\", \"child\", \"child\", \"china\", \"china\", \"christchurch\", \"christma\", \"christma\", \"christma\", \"christma\", \"citi\", \"citi\", \"citi\", \"citi\", \"citi\", \"citi\", \"citi\", \"citi\", \"citi\", \"civilian\", \"climat\", \"climat\", \"climat\", \"climat\", \"climb\", \"clinton\", \"clinton\", \"clive\", \"club\", \"club\", \"club\", \"coast\", \"coast\", \"colin\", \"collect\", \"commiss\", \"commission\", \"commonwealth\", \"commun\", \"commun\", \"commun\", \"commun\", \"compani\", \"compani\", \"compani\", \"compani\", \"compani\", \"compani\", \"compani\", \"convict\", \"coral\", \"coroni\", \"cost\", \"cost\", \"cost\", \"could\", \"could\", \"could\", \"could\", \"could\", \"could\", \"could\", \"could\", \"could\", \"council\", \"council\", \"council\", \"council\", \"council\", \"council\", \"countri\", \"countri\", \"cours\", \"court\", \"court\", \"court\", \"court\", \"court\", \"court\", \"crash\", \"cricket\", \"cricket\", \"crime\", \"crime\", \"crime\", \"crime\", \"cross\", \"cross\", \"cross\", \"cruelti\", \"curiou\", \"cut\", \"cut\", \"cut\", \"cyclon\", \"dairi\", \"dairi\", \"damag\", \"damag\", \"damag\", \"damag\", \"damag\", \"darl\", \"dead\", \"dead\", \"dead\", \"dead\", \"deal\", \"deal\", \"deal\", \"death\", \"death\", \"death\", \"death\", \"death\", \"death\", \"death\", \"debat\", \"debat\", \"debat\", \"debbi\", \"decis\", \"decis\", \"decis\", \"declar\", \"die\", \"die\", \"die\", \"die\", \"die\", \"die\", \"director\", \"disabl\", \"disabl\", \"disabl\", \"disabl\", \"diseas\", \"diseas\", \"doctor\", \"dollar\", \"dollar\", \"dollar\", \"dollar\", \"dollar\", \"domest\", \"domest\", \"donald\", \"donald\", \"donat\", \"dragon\", \"driver\", \"driver\", \"driver\", \"driver\", \"drone\", \"drought\", \"drought\", \"drought\", \"drug\", \"drug\", \"drum\", \"dutton\", \"dutton\", \"eagl\", \"earthquak\", \"elect\", \"elect\", \"elect\", \"elect\", \"elect\", \"elect\", \"electr\", \"electr\", \"electr\", \"email\", \"emerg\", \"emerg\", \"emiss\", \"employ\", \"energi\", \"england\", \"england\", \"england\", \"enough\", \"episod\", \"erupt\", \"escap\", \"evan\", \"ever\", \"exchang\", \"execut\", \"expert\", \"expert\", \"expert\", \"extend\", \"fact\", \"fall\", \"fall\", \"fall\", \"fall\", \"fall\", \"farmer\", \"farmer\", \"farmer\", \"farmer\", \"feder\", \"feder\", \"feder\", \"feder\", \"feder\", \"feder\", \"feder\", \"festiv\", \"festiv\", \"festiv\", \"festiv\", \"fifa\", \"film\", \"film\", \"film\", \"final\", \"final\", \"final\", \"final\", \"financ\", \"find\", \"find\", \"find\", \"find\", \"find\", \"find\", \"fire\", \"fire\", \"fire\", \"fire\", \"fire\", \"fire\", \"fire\", \"firefight\", \"firefight\", \"first\", \"first\", \"first\", \"first\", \"first\", \"first\", \"first\", \"first\", \"first\", \"first\", \"fisherman\", \"fisherman\", \"flight\", \"flight\", \"flight\", \"flood\", \"flood\", \"flood\", \"flood\", \"flood\", \"flower\", \"food\", \"food\", \"food\", \"food\", \"food\", \"food\", \"food\", \"footag\", \"footag\", \"footag\", \"footbal\", \"footbal\", \"footbal\", \"footbal\", \"footbal\", \"forest\", \"former\", \"former\", \"former\", \"former\", \"former\", \"former\", \"found\", \"found\", \"found\", \"found\", \"found\", \"found\", \"found\", \"franc\", \"franc\", \"fraser\", \"fraser\", \"free\", \"free\", \"free\", \"free\", \"free\", \"full\", \"fund\", \"fund\", \"fund\", \"futur\", \"futur\", \"futur\", \"gain\", \"game\", \"game\", \"game\", \"garden\", \"garden\", \"gear\", \"gender\", \"georg\", \"gold\", \"gold\", \"govern\", \"govern\", \"govern\", \"govern\", \"govern\", \"govern\", \"growth\", \"guilti\", \"guilti\", \"guinea\", \"gunman\", \"hamilton\", \"hanson\", \"hanson\", \"happen\", \"happen\", \"harass\", \"harri\", \"harri\", \"harvey\", \"harvey\", \"health\", \"health\", \"hear\", \"hear\", \"hear\", \"hear\", \"heart\", \"help\", \"help\", \"help\", \"help\", \"help\", \"help\", \"help\", \"help\", \"help\", \"help\", \"heritag\", \"heritag\", \"heritag\", \"high\", \"high\", \"high\", \"highway\", \"hillari\", \"hobart\", \"hobart\", \"hobart\", \"hobart\", \"hobart\", \"hobart\", \"home\", \"home\", \"home\", \"home\", \"hong\", \"horn\", \"hospit\", \"hour\", \"hour\", \"hous\", \"hous\", \"hous\", \"hous\", \"hous\", \"hous\", \"hous\", \"hous\", \"hous\", \"hous\", \"hunter\", \"hunter\", \"hurrican\", \"impeach\", \"incom\", \"india\", \"india\", \"india\", \"indigen\", \"indigen\", \"indonesia\", \"indonesia\", \"indonesia\", \"industri\", \"intern\", \"intern\", \"intern\", \"intern\", \"interview\", \"invest\", \"investig\", \"investig\", \"investig\", \"investig\", \"ipswich\", \"islam\", \"islam\", \"island\", \"island\", \"island\", \"island\", \"jail\", \"jail\", \"jeff\", \"john\", \"john\", \"john\", \"john\", \"john\", \"john\", \"johnson\", \"johnson\", \"johnson\", \"jong\", \"journalist\", \"journalist\", \"joyc\", \"juli\", \"juli\", \"julia\", \"julian\", \"jump\", \"jump\", \"kid\", \"kid\", \"kid\", \"kid\", \"kid\", \"kidnap\", \"kill\", \"kill\", \"kill\", \"kill\", \"kill\", \"killer\", \"killer\", \"knight\", \"kohler\", \"kong\", \"korea\", \"korean\", \"kyrgio\", \"labor\", \"labor\", \"labor\", \"labor\", \"labor\", \"labor\", \"labor\", \"languag\", \"lanka\", \"launch\", \"launch\", \"launch\", \"launch\", \"launch\", \"launch\", \"launch\", \"lawyer\", \"lawyer\", \"lawyer\", \"leagu\", \"leagu\", \"leagu\", \"leagu\", \"learn\", \"liber\", \"liber\", \"liber\", \"life\", \"life\", \"life\", \"life\", \"life\", \"light\", \"light\", \"light\", \"light\", \"live\", \"live\", \"live\", \"live\", \"livestock\", \"macquari\", \"make\", \"make\", \"make\", \"make\", \"make\", \"make\", \"make\", \"make\", \"make\", \"make\", \"malcolm\", \"malcolm\", \"man\", \"man\", \"man\", \"manslaught\", \"manu\", \"marcu\", \"mark\", \"mark\", \"mark\", \"mark\", \"mark\", \"market\", \"market\", \"markl\", \"marriag\", \"marriag\", \"marriag\", \"matilda\", \"mcgowan\", \"mcgowan\", \"meat\", \"meat\", \"medal\", \"medal\", \"medicin\", \"medium\", \"medium\", \"meghan\", \"melbourn\", \"melbourn\", \"melbourn\", \"melbourn\", \"melbourn\", \"melbourn\", \"melbourn\", \"melbourn\", \"melbourn\", \"melbourn\", \"mental\", \"mike\", \"minist\", \"minist\", \"minist\", \"minist\", \"minist\", \"minist\", \"minist\", \"miss\", \"missil\", \"mobil\", \"mobil\", \"moresbi\", \"morn\", \"morrison\", \"morrison\", \"mosqu\", \"mosul\", \"mother\", \"mother\", \"mother\", \"mother\", \"mother\", \"move\", \"move\", \"move\", \"move\", \"move\", \"move\", \"murder\", \"murder\", \"murray\", \"murray\", \"must\", \"must\", \"must\", \"name\", \"name\", \"name\", \"name\", \"name\", \"name\", \"nasa\", \"nasa\", \"nation\", \"nation\", \"nation\", \"nation\", \"nation\", \"nation\", \"ndi\", \"ndi\", \"near\", \"near\", \"near\", \"near\", \"need\", \"need\", \"need\", \"need\", \"need\", \"need\", \"neg\", \"netbal\", \"news\", \"news\", \"nick\", \"nickel\", \"nightclub\", \"north\", \"northern\", \"northern\", \"northern\", \"nurs\", \"ocean\", \"offenc\", \"offenc\", \"offic\", \"offic\", \"oldest\", \"olymp\", \"olymp\", \"olymp\", \"onlin\", \"onlin\", \"onlin\", \"onlin\", \"onlin\", \"open\", \"open\", \"open\", \"open\", \"open\", \"opera\", \"origin\", \"origin\", \"outback\", \"outback\", \"overdos\", \"oyster\", \"paedophil\", \"paedophil\", \"pakistan\", \"palestinian\", \"palmer\", \"parent\", \"parent\", \"parent\", \"parent\", \"parent\", \"parent\", \"park\", \"park\", \"park\", \"parliament\", \"parliament\", \"parliament\", \"parliament\", \"parramatta\", \"parramatta\", \"parti\", \"parti\", \"parti\", \"pas\", \"passeng\", \"patient\", \"paulin\", \"pell\", \"pension\", \"peopl\", \"peopl\", \"peopl\", \"peopl\", \"peopl\", \"peopl\", \"perth\", \"perth\", \"perth\", \"perth\", \"petrol\", \"philippin\", \"philippin\", \"philippin\", \"phone\", \"phone\", \"pictur\", \"pill\", \"pilot\", \"plan\", \"plan\", \"plan\", \"plan\", \"plan\", \"plan\", \"plan\", \"plan\", \"plan\", \"plane\", \"planet\", \"plant\", \"plant\", \"plastic\", \"plastic\", \"plastic\", \"play\", \"play\", \"play\", \"play\", \"play\", \"play\", \"player\", \"player\", \"player\", \"player\", \"player\", \"plead\", \"plead\", \"plu\", \"point\", \"point\", \"point\", \"point\", \"point\", \"point\", \"polic\", \"polic\", \"polic\", \"polic\", \"polici\", \"polici\", \"polici\", \"polit\", \"polit\", \"polit\", \"polit\", \"polit\", \"poll\", \"poll\", \"poll\", \"poll\", \"porn\", \"port\", \"port\", \"port\", \"power\", \"power\", \"power\", \"power\", \"power\", \"presid\", \"presid\", \"press\", \"prevent\", \"prevent\", \"prevent\", \"price\", \"price\", \"price\", \"price\", \"primari\", \"prime\", \"princ\", \"prison\", \"prison\", \"prison\", \"prison\", \"product\", \"product\", \"profit\", \"profit\", \"profit\", \"program\", \"prompt\", \"public\", \"public\", \"public\", \"public\", \"public\", \"public\", \"public\", \"qualifi\", \"queensland\", \"queensland\", \"queensland\", \"queensland\", \"queensland\", \"queensland\", \"queensland\", \"queensland\", \"queensland\", \"quiz\", \"race\", \"race\", \"race\", \"race\", \"race\", \"race\", \"race\", \"race\", \"rail\", \"rail\", \"rain\", \"rain\", \"rain\", \"ralli\", \"rate\", \"rate\", \"rate\", \"rate\", \"read\", \"realiti\", \"recognit\", \"record\", \"record\", \"record\", \"record\", \"record\", \"record\", \"record\", \"recov\", \"recycl\", \"recycl\", \"recycl\", \"reef\", \"releas\", \"releas\", \"renew\", \"report\", \"report\", \"report\", \"report\", \"report\", \"report\", \"report\", \"report\", \"report\", \"report\", \"republican\", \"rescu\", \"rescu\", \"rescu\", \"rescuer\", \"research\", \"research\", \"reserv\", \"resid\", \"resid\", \"resid\", \"restor\", \"reward\", \"ride\", \"rise\", \"rise\", \"rise\", \"river\", \"river\", \"river\", \"river\", \"road\", \"road\", \"role\", \"role\", \"role\", \"rooster\", \"royal\", \"royal\", \"royal\", \"rugbi\", \"rugbi\", \"rugbi\", \"rugbi\", \"rural\", \"rush\", \"safeti\", \"say\", \"say\", \"school\", \"school\", \"scorecentr\", \"scott\", \"scott\", \"search\", \"search\", \"seeker\", \"seeker\", \"seiz\", \"seiz\", \"senat\", \"senat\", \"senat\", \"senat\", \"senat\", \"senat\", \"sentenc\", \"sentenc\", \"serena\", \"servic\", \"servic\", \"servic\", \"sexual\", \"share\", \"shark\", \"shark\", \"sheep\", \"shield\", \"shoot\", \"shorten\", \"shorten\", \"shot\", \"show\", \"show\", \"show\", \"show\", \"show\", \"show\", \"show\", \"show\", \"show\", \"sieg\", \"singl\", \"sleep\", \"socceroo\", \"social\", \"solar\", \"sound\", \"south\", \"south\", \"south\", \"south\", \"south\", \"south\", \"south\", \"south\", \"south\", \"space\", \"space\", \"space\", \"speak\", \"speak\", \"speak\", \"speak\", \"speak\", \"spike\", \"sport\", \"sport\", \"sport\", \"sport\", \"sport\", \"spot\", \"spot\", \"spring\", \"stand\", \"state\", \"state\", \"state\", \"state\", \"state\", \"state\", \"state\", \"steal\", \"stock\", \"stori\", \"street\", \"student\", \"studi\", \"studi\", \"studi\", \"studi\", \"studio\", \"sue\", \"suicid\", \"suicid\", \"summit\", \"sunday\", \"sunshin\", \"super\", \"super\", \"superannu\", \"surf\", \"surg\", \"suspect\", \"suspect\", \"sydney\", \"sydney\", \"sydney\", \"sydney\", \"sydney\", \"sydney\", \"syria\", \"syria\", \"syria\", \"take\", \"take\", \"take\", \"take\", \"take\", \"take\", \"take\", \"take\", \"take\", \"talk\", \"talk\", \"talk\", \"tasmania\", \"tasmania\", \"tasmania\", \"tasmania\", \"tasmania\", \"tasmania\", \"tasmania\", \"teach\", \"teacher\", \"teacher\", \"team\", \"team\", \"tech\", \"tenni\", \"tension\", \"territori\", \"territori\", \"terror\", \"terrorist\", \"test\", \"test\", \"test\", \"test\", \"test\", \"test\", \"thai\", \"thai\", \"theresa\", \"third\", \"third\", \"tiger\", \"tiger\", \"tomic\", \"town\", \"trade\", \"trade\", \"traffic\", \"train\", \"trap\", \"trap\", \"trial\", \"trial\", \"trial\", \"trial\", \"tropic\", \"truck\", \"trump\", \"trump\", \"trump\", \"tsunami\", \"turnbul\", \"turnbul\", \"turnbul\", \"turtl\", \"unemploy\", \"univers\", \"veteran\", \"veteran\", \"veteran\", \"victim\", \"victim\", \"victim\", \"victim\", \"victim\", \"victorian\", \"victorian\", \"victorian\", \"victorian\", \"victorian\", \"victorian\", \"video\", \"video\", \"villag\", \"villag\", \"violenc\", \"violenc\", \"violenc\", \"violenc\", \"violent\", \"violent\", \"virtual\", \"volcano\", \"wagga\", \"wall\", \"war\", \"warn\", \"warn\", \"warn\", \"warn\", \"warn\", \"warn\", \"warn\", \"warn\", \"warner\", \"warrior\", \"wast\", \"wast\", \"wast\", \"watch\", \"watch\", \"watch\", \"watch\", \"water\", \"water\", \"water\", \"water\", \"water\", \"water\", \"weather\", \"weather\", \"weather\", \"wed\", \"week\", \"week\", \"week\", \"week\", \"week\", \"week\", \"week\", \"week\", \"welcom\", \"white\", \"white\", \"white\", \"white\", \"wide\", \"wide\", \"wildfir\", \"wimbledon\", \"win\", \"win\", \"woman\", \"woman\", \"woman\", \"woman\", \"woman\", \"woman\", \"woman\", \"woman\", \"woolworth\", \"word\", \"word\", \"work\", \"work\", \"work\", \"work\", \"work\", \"work\", \"work\", \"work\", \"world\", \"world\", \"worth\", \"year\", \"year\", \"year\", \"year\", \"year\", \"year\", \"year\", \"year\", \"year\", \"young\", \"young\", \"young\", \"young\", \"young\", \"young\", \"zealand\", \"zealand\", \"zealand\"]}, \"R\": 30, \"lambda.step\": 0.01, \"plot.opts\": {\"xlab\": \"PC1\", \"ylab\": \"PC2\"}, \"topic.order\": [8, 2, 6, 5, 10, 4, 7, 9, 3, 1]};\n",
       "\n",
       "function LDAvis_load_lib(url, callback){\n",
       "  var s = document.createElement('script');\n",
       "  s.src = url;\n",
       "  s.async = true;\n",
       "  s.onreadystatechange = s.onload = callback;\n",
       "  s.onerror = function(){console.warn(\"failed to load library \" + url);};\n",
       "  document.getElementsByTagName(\"head\")[0].appendChild(s);\n",
       "}\n",
       "\n",
       "if(typeof(LDAvis) !== \"undefined\"){\n",
       "   // already loaded: just create the visualization\n",
       "   !function(LDAvis){\n",
       "       new LDAvis(\"#\" + \"ldavis_el4258654137893926382345088\", ldavis_el4258654137893926382345088_data);\n",
       "   }(LDAvis);\n",
       "}else if(typeof define === \"function\" && define.amd){\n",
       "   // require.js is available: use it to load d3/LDAvis\n",
       "   require.config({paths: {d3: \"https://cdnjs.cloudflare.com/ajax/libs/d3/3.5.5/d3.min\"}});\n",
       "   require([\"d3\"], function(d3){\n",
       "      window.d3 = d3;\n",
       "      LDAvis_load_lib(\"https://cdn.rawgit.com/bmabey/pyLDAvis/files/ldavis.v1.0.0.js\", function(){\n",
       "        new LDAvis(\"#\" + \"ldavis_el4258654137893926382345088\", ldavis_el4258654137893926382345088_data);\n",
       "      });\n",
       "    });\n",
       "}else{\n",
       "    // require.js not available: dynamically load d3 & LDAvis\n",
       "    LDAvis_load_lib(\"https://cdnjs.cloudflare.com/ajax/libs/d3/3.5.5/d3.min.js\", function(){\n",
       "         LDAvis_load_lib(\"https://cdn.rawgit.com/bmabey/pyLDAvis/files/ldavis.v1.0.0.js\", function(){\n",
       "                 new LDAvis(\"#\" + \"ldavis_el4258654137893926382345088\", ldavis_el4258654137893926382345088_data);\n",
       "            })\n",
       "         });\n",
       "}\n",
       "</script>"
      ],
      "text/plain": [
       "PreparedData(topic_coordinates=                x           y  topics  cluster       Freq\n",
       "topic                                                    \n",
       "7       18.707987   96.187469       1        1  12.231547\n",
       "1     -166.149521 -198.251114       2        1  12.096571\n",
       "5      248.734711 -139.854584       3        1  11.241595\n",
       "4       95.806801  -57.165005       4        1  10.448637\n",
       "9     -130.858414  196.085037       5        1  10.036195\n",
       "3       38.917046 -234.329605       6        1   9.712837\n",
       "6      226.086670   83.706802       7        1   8.916680\n",
       "8       96.422577  253.092545       8        1   8.471517\n",
       "2     -239.058029   24.431337       9        1   8.429896\n",
       "0      -75.633018  -46.939617      10        1   8.414527, topic_info=     Category         Freq        Term        Total  loglift  logprob\n",
       "5226  Default  4839.000000         say  4839.000000  30.0000  30.0000\n",
       "4544  Default  4882.000000       polic  4882.000000  29.0000  29.0000\n",
       "388   Default  5554.000000   australia  5554.000000  28.0000  28.0000\n",
       "6227  Default  4229.000000       trump  4229.000000  27.0000  27.0000\n",
       "389   Default  4509.000000  australian  4509.000000  26.0000  26.0000\n",
       "6657  Default  2461.000000       world  2461.000000  25.0000  25.0000\n",
       "3990  Default  2347.000000      murder  2347.000000  24.0000  24.0000\n",
       "3687  Default  2129.000000      market  2129.000000  23.0000  23.0000\n",
       "361   Default  2318.000000      attack  2318.000000  22.0000  22.0000\n",
       "4032  Default  2248.000000      nation  2248.000000  21.0000  21.0000\n",
       "1954  Default  3142.000000       elect  3142.000000  20.0000  20.0000\n",
       "4122  Default  1906.000000       north  1906.000000  19.0000  19.0000\n",
       "5249  Default  1913.000000      school  1913.000000  18.0000  18.0000\n",
       "1088  Default  2866.000000       charg  2866.000000  17.0000  17.0000\n",
       "1132  Default  1876.000000       china  1876.000000  16.0000  16.0000\n",
       "1452  Default  1870.000000       crash  1870.000000  15.0000  15.0000\n",
       "3520  Default  1736.000000        live  1736.000000  14.0000  14.0000\n",
       "1220  Default  1699.000000       coast  1699.000000  13.0000  13.0000\n",
       "4204  Default  1688.000000        open  1688.000000  12.0000  12.0000\n",
       "1433  Default  2622.000000       court  2622.000000  11.0000  11.0000\n",
       "3874  Default  1411.000000        miss  1411.000000  10.0000  10.0000\n",
       "5161  Default  1395.000000       rural  1395.000000   9.0000   9.0000\n",
       "1822  Default  1992.000000      donald  1992.000000   8.0000   8.0000\n",
       "2868  Default  1864.000000        home  1864.000000   7.0000   7.0000\n",
       "5893  Default  3025.000000      sydney  3025.000000   6.0000   6.0000\n",
       "3135  Default  1515.000000        jail  1515.000000   5.0000   5.0000\n",
       "4080  Default  1723.000000        news  1723.000000   4.0000   4.0000\n",
       "2273  Default  2608.000000        fire  2608.000000   3.0000   3.0000\n",
       "2895  Default  1368.000000      hospit  1368.000000   2.0000   2.0000\n",
       "5775  Default  1160.000000     student  1160.000000   1.0000   1.0000\n",
       "...       ...          ...         ...          ...      ...      ...\n",
       "5967  Topic10   208.724287        tech   209.810765   2.4700  -5.9264\n",
       "3218  Topic10   167.361481       julia   168.255334   2.4699  -6.1472\n",
       "2047  Topic10   163.306666       erupt   164.200542   2.4698  -6.1718\n",
       "3673  Topic10   160.264225       marcu   161.159453   2.4696  -6.1906\n",
       "4670  Topic10   351.953549      profit   355.709232   2.4646  -5.4039\n",
       "3220  Topic10   227.530725        jump   229.048525   2.4686  -5.8401\n",
       "2454  Topic10   204.588007        gain   205.758315   2.4695  -5.9464\n",
       "6151  Topic10   792.935694       trade   816.270257   2.4462  -4.5917\n",
       "6008  Topic10   272.691630        thai   276.712515   2.4606  -5.6591\n",
       "1132  Topic10  1626.092359       china  1876.098187   2.3322  -3.8735\n",
       "4457  Topic10   295.012558   philippin   306.815648   2.4360  -5.5804\n",
       "3113  Topic10  1083.431581      island  1386.135950   2.2288  -4.2795\n",
       "1611  Topic10   442.023511       decis   500.622824   2.3507  -5.1760\n",
       "2170  Topic10   807.008618        fall  1028.969763   2.2322  -4.5741\n",
       "354   Topic10   317.550669      asylum   348.690644   2.3817  -5.5068\n",
       "5301  Topic10   292.147426      seeker   315.500346   2.3983  -5.5901\n",
       "6568  Topic10   526.662305       white   685.063153   2.2123  -5.0008\n",
       "1151  Topic10   448.792910    christma   595.861941   2.1918  -5.1608\n",
       "4637  Topic10   640.870615       price  1276.818276   1.7859  -4.8046\n",
       "1876  Topic10   447.765171     drought   676.244503   2.0629  -5.1631\n",
       "4080  Topic10   693.593290        news  1723.709692   1.5649  -4.7255\n",
       "6227  Topic10  1032.205044       trump  4229.344328   1.0649  -4.3280\n",
       "2906  Topic10   690.378629        hous  1959.735004   1.4319  -4.7302\n",
       "5592  Topic10   628.277355       south  2041.834023   1.2966  -4.8244\n",
       "389   Topic10   800.276335  australian  4509.965567   0.7461  -4.5824\n",
       "2273  Topic10   576.481299        fire  2608.215704   0.9657  -4.9105\n",
       "1816  Topic10   367.911953      dollar   667.579106   1.8794  -5.3596\n",
       "6528  Topic10   362.651029        week   809.968650   1.6717  -5.3740\n",
       "1822  Topic10   411.949996      donald  1992.609585   0.8989  -5.2465\n",
       "5893  Topic10   358.126510      sydney  3025.339308   0.3413  -5.3865\n",
       "\n",
       "[636 rows x 6 columns], token_table=      Topic      Freq      Term\n",
       "term                           \n",
       "17        1  0.222760  aborigin\n",
       "17        3  0.001244  aborigin\n",
       "17        4  0.052268  aborigin\n",
       "17        6  0.200360  aborigin\n",
       "17        7  0.001244  aborigin\n",
       "17        8  0.001244  aborigin\n",
       "17        9  0.520189  aborigin\n",
       "22        3  0.996751      abus\n",
       "22        5  0.000922      abus\n",
       "22        9  0.001844      abus\n",
       "29        1  0.996830     accid\n",
       "35        1  0.000676     accus\n",
       "35        3  0.370245     accus\n",
       "35        5  0.531720     accus\n",
       "35        7  0.095939     accus\n",
       "35        8  0.000676     accus\n",
       "47        1  0.110574    action\n",
       "47        2  0.134268    action\n",
       "47        6  0.669760    action\n",
       "47        8  0.077402    action\n",
       "47       10  0.006318    action\n",
       "50        3  0.994778     actor\n",
       "59        7  0.997315    addict\n",
       "63        1  0.427083   adelaid\n",
       "63        3  0.054794   adelaid\n",
       "63        4  0.135704   adelaid\n",
       "63        5  0.240682   adelaid\n",
       "63        6  0.000512   adelaid\n",
       "63        7  0.134680   adelaid\n",
       "63        9  0.003585   adelaid\n",
       "...     ...       ...       ...\n",
       "6649      5  0.005560      word\n",
       "6651      1  0.170377      work\n",
       "6651      2  0.242202      work\n",
       "6651      3  0.000835      work\n",
       "6651      4  0.010022      work\n",
       "6651      7  0.161190      work\n",
       "6651      8  0.280621      work\n",
       "6651      9  0.074331      work\n",
       "6651     10  0.060133      work\n",
       "6657      4  0.001219     world\n",
       "6657      6  0.998494     world\n",
       "6665      6  0.990035     worth\n",
       "6696      1  0.000304      year\n",
       "6696      2  0.054950      year\n",
       "6696      3  0.000911      year\n",
       "6696      4  0.306626      year\n",
       "6696      5  0.353682      year\n",
       "6696      6  0.090470      year\n",
       "6696      7  0.002429      year\n",
       "6696      8  0.076808      year\n",
       "6696      9  0.114150      year\n",
       "6705      2  0.001155     young\n",
       "6705      4  0.152499     young\n",
       "6705      5  0.036970     young\n",
       "6705      7  0.118996     young\n",
       "6705      8  0.522195     young\n",
       "6705      9  0.168674     young\n",
       "6715      4  0.221008   zealand\n",
       "6715      6  0.724748   zealand\n",
       "6715     10  0.051768   zealand\n",
       "\n",
       "[1446 rows x 3 columns], R=30, lambda_step=0.01, plot_opts={'xlab': 'PC1', 'ylab': 'PC2'}, topic_order=[8, 2, 6, 5, 10, 4, 7, 9, 3, 1])"
      ]
     },
     "execution_count": 34,
     "metadata": {},
     "output_type": "execute_result"
    }
   ],
   "source": [
    "pyLDAvis.enable_notebook()\n",
    "panel = pyLDAvis.sklearn.prepare(model, corpus_vectorized, bow, mds=\"tsne\")\n",
    "panel"
   ]
  },
  {
   "cell_type": "markdown",
   "metadata": {},
   "source": [
    "#### Word Importance vs Topic"
   ]
  },
  {
   "cell_type": "code",
   "execution_count": 35,
   "metadata": {
    "ExecuteTime": {
     "end_time": "2020-03-03T21:38:36.382388Z",
     "start_time": "2020-03-03T21:38:36.360285Z"
    }
   },
   "outputs": [
    {
     "data": {
      "text/html": [
       "<div>\n",
       "<style scoped>\n",
       "    .dataframe tbody tr th:only-of-type {\n",
       "        vertical-align: middle;\n",
       "    }\n",
       "\n",
       "    .dataframe tbody tr th {\n",
       "        vertical-align: top;\n",
       "    }\n",
       "\n",
       "    .dataframe thead th {\n",
       "        text-align: right;\n",
       "    }\n",
       "</style>\n",
       "<table border=\"1\" class=\"dataframe\">\n",
       "  <thead>\n",
       "    <tr style=\"text-align: right;\">\n",
       "      <th></th>\n",
       "      <th>zali</th>\n",
       "      <th>zealand</th>\n",
       "      <th>zero</th>\n",
       "      <th>zika</th>\n",
       "      <th>zimbabw</th>\n",
       "      <th>zinc</th>\n",
       "      <th>zombi</th>\n",
       "      <th>zone</th>\n",
       "      <th>zuckerberg</th>\n",
       "      <th>zuma</th>\n",
       "    </tr>\n",
       "  </thead>\n",
       "  <tbody>\n",
       "    <tr>\n",
       "      <th>Topic 0</th>\n",
       "      <td>0.100000</td>\n",
       "      <td>26.096559</td>\n",
       "      <td>0.100005</td>\n",
       "      <td>0.100005</td>\n",
       "      <td>0.103629</td>\n",
       "      <td>0.100018</td>\n",
       "      <td>0.100009</td>\n",
       "      <td>1.396984</td>\n",
       "      <td>0.100009</td>\n",
       "      <td>0.100001</td>\n",
       "    </tr>\n",
       "    <tr>\n",
       "      <th>Topic 1</th>\n",
       "      <td>0.100005</td>\n",
       "      <td>0.100102</td>\n",
       "      <td>89.099947</td>\n",
       "      <td>0.100073</td>\n",
       "      <td>0.100004</td>\n",
       "      <td>0.100014</td>\n",
       "      <td>24.764277</td>\n",
       "      <td>39.501980</td>\n",
       "      <td>0.100008</td>\n",
       "      <td>0.100005</td>\n",
       "    </tr>\n",
       "    <tr>\n",
       "      <th>Topic 2</th>\n",
       "      <td>0.100001</td>\n",
       "      <td>0.100007</td>\n",
       "      <td>0.100004</td>\n",
       "      <td>102.474485</td>\n",
       "      <td>0.100003</td>\n",
       "      <td>0.100001</td>\n",
       "      <td>0.100006</td>\n",
       "      <td>19.987992</td>\n",
       "      <td>0.100007</td>\n",
       "      <td>0.100001</td>\n",
       "    </tr>\n",
       "    <tr>\n",
       "      <th>Topic 3</th>\n",
       "      <td>0.100001</td>\n",
       "      <td>368.871076</td>\n",
       "      <td>0.100012</td>\n",
       "      <td>0.100004</td>\n",
       "      <td>0.100008</td>\n",
       "      <td>0.100006</td>\n",
       "      <td>0.100021</td>\n",
       "      <td>17.627514</td>\n",
       "      <td>0.100008</td>\n",
       "      <td>0.100026</td>\n",
       "    </tr>\n",
       "    <tr>\n",
       "      <th>Topic 4</th>\n",
       "      <td>16.099979</td>\n",
       "      <td>112.331988</td>\n",
       "      <td>0.100006</td>\n",
       "      <td>0.100010</td>\n",
       "      <td>65.245353</td>\n",
       "      <td>0.100003</td>\n",
       "      <td>0.100006</td>\n",
       "      <td>0.100007</td>\n",
       "      <td>0.100005</td>\n",
       "      <td>0.100005</td>\n",
       "    </tr>\n",
       "    <tr>\n",
       "      <th>Topic 5</th>\n",
       "      <td>0.100001</td>\n",
       "      <td>0.100235</td>\n",
       "      <td>0.100003</td>\n",
       "      <td>0.100004</td>\n",
       "      <td>0.100016</td>\n",
       "      <td>0.100000</td>\n",
       "      <td>0.100011</td>\n",
       "      <td>0.100005</td>\n",
       "      <td>36.099954</td>\n",
       "      <td>27.077752</td>\n",
       "    </tr>\n",
       "    <tr>\n",
       "      <th>Topic 6</th>\n",
       "      <td>0.100003</td>\n",
       "      <td>0.100007</td>\n",
       "      <td>0.100009</td>\n",
       "      <td>15.759991</td>\n",
       "      <td>0.100225</td>\n",
       "      <td>0.100004</td>\n",
       "      <td>6.314846</td>\n",
       "      <td>0.100013</td>\n",
       "      <td>0.100005</td>\n",
       "      <td>0.100003</td>\n",
       "    </tr>\n",
       "    <tr>\n",
       "      <th>Topic 7</th>\n",
       "      <td>0.100000</td>\n",
       "      <td>0.100006</td>\n",
       "      <td>0.100009</td>\n",
       "      <td>1.065411</td>\n",
       "      <td>0.100008</td>\n",
       "      <td>19.099932</td>\n",
       "      <td>0.100011</td>\n",
       "      <td>39.946794</td>\n",
       "      <td>0.100001</td>\n",
       "      <td>0.100001</td>\n",
       "    </tr>\n",
       "    <tr>\n",
       "      <th>Topic 8</th>\n",
       "      <td>0.100000</td>\n",
       "      <td>0.100010</td>\n",
       "      <td>0.100002</td>\n",
       "      <td>0.100014</td>\n",
       "      <td>0.100006</td>\n",
       "      <td>0.100015</td>\n",
       "      <td>4.220802</td>\n",
       "      <td>20.138703</td>\n",
       "      <td>0.100001</td>\n",
       "      <td>0.100003</td>\n",
       "    </tr>\n",
       "    <tr>\n",
       "      <th>Topic 9</th>\n",
       "      <td>0.100009</td>\n",
       "      <td>0.100009</td>\n",
       "      <td>0.100003</td>\n",
       "      <td>0.100004</td>\n",
       "      <td>15.950747</td>\n",
       "      <td>0.100008</td>\n",
       "      <td>0.100011</td>\n",
       "      <td>0.100008</td>\n",
       "      <td>0.100001</td>\n",
       "      <td>0.122202</td>\n",
       "    </tr>\n",
       "  </tbody>\n",
       "</table>\n",
       "</div>"
      ],
      "text/plain": [
       "              zali     zealand       zero        zika    zimbabw       zinc  \\\n",
       "Topic 0   0.100000   26.096559   0.100005    0.100005   0.103629   0.100018   \n",
       "Topic 1   0.100005    0.100102  89.099947    0.100073   0.100004   0.100014   \n",
       "Topic 2   0.100001    0.100007   0.100004  102.474485   0.100003   0.100001   \n",
       "Topic 3   0.100001  368.871076   0.100012    0.100004   0.100008   0.100006   \n",
       "Topic 4  16.099979  112.331988   0.100006    0.100010  65.245353   0.100003   \n",
       "Topic 5   0.100001    0.100235   0.100003    0.100004   0.100016   0.100000   \n",
       "Topic 6   0.100003    0.100007   0.100009   15.759991   0.100225   0.100004   \n",
       "Topic 7   0.100000    0.100006   0.100009    1.065411   0.100008  19.099932   \n",
       "Topic 8   0.100000    0.100010   0.100002    0.100014   0.100006   0.100015   \n",
       "Topic 9   0.100009    0.100009   0.100003    0.100004  15.950747   0.100008   \n",
       "\n",
       "             zombi       zone  zuckerberg       zuma  \n",
       "Topic 0   0.100009   1.396984    0.100009   0.100001  \n",
       "Topic 1  24.764277  39.501980    0.100008   0.100005  \n",
       "Topic 2   0.100006  19.987992    0.100007   0.100001  \n",
       "Topic 3   0.100021  17.627514    0.100008   0.100026  \n",
       "Topic 4   0.100006   0.100007    0.100005   0.100005  \n",
       "Topic 5   0.100011   0.100005   36.099954  27.077752  \n",
       "Topic 6   6.314846   0.100013    0.100005   0.100003  \n",
       "Topic 7   0.100011  39.946794    0.100001   0.100001  \n",
       "Topic 8   4.220802  20.138703    0.100001   0.100003  \n",
       "Topic 9   0.100011   0.100008    0.100001   0.122202  "
      ]
     },
     "execution_count": 35,
     "metadata": {},
     "output_type": "execute_result"
    }
   ],
   "source": [
    "cols = 10\n",
    "\n",
    "df_topic_word_importance = pd.DataFrame(model.components_)\n",
    "df_topic_word_importance.columns = bow.get_feature_names()\n",
    "df_topic_word_importance.index = [\"Topic {}\".format(i) for i in range(model.n_components)]\n",
    "df_topic_word_importance[df_topic_word_importance.columns[-cols:]].head(model.n_components)"
   ]
  },
  {
   "cell_type": "code",
   "execution_count": 36,
   "metadata": {
    "ExecuteTime": {
     "end_time": "2020-03-03T21:38:36.387099Z",
     "start_time": "2020-03-03T21:38:36.383690Z"
    }
   },
   "outputs": [
    {
     "data": {
      "text/plain": [
       "(10, 6724)"
      ]
     },
     "execution_count": 36,
     "metadata": {},
     "output_type": "execute_result"
    }
   ],
   "source": [
    "df_topic_word_importance.shape"
   ]
  },
  {
   "cell_type": "markdown",
   "metadata": {},
   "source": [
    "#### Key words for topic"
   ]
  },
  {
   "cell_type": "code",
   "execution_count": 37,
   "metadata": {
    "ExecuteTime": {
     "end_time": "2020-03-03T21:38:36.409452Z",
     "start_time": "2020-03-03T21:38:36.388481Z"
    }
   },
   "outputs": [
    {
     "data": {
      "text/html": [
       "<div>\n",
       "<style scoped>\n",
       "    .dataframe tbody tr th:only-of-type {\n",
       "        vertical-align: middle;\n",
       "    }\n",
       "\n",
       "    .dataframe tbody tr th {\n",
       "        vertical-align: top;\n",
       "    }\n",
       "\n",
       "    .dataframe thead th {\n",
       "        text-align: right;\n",
       "    }\n",
       "</style>\n",
       "<table border=\"1\" class=\"dataframe\">\n",
       "  <thead>\n",
       "    <tr style=\"text-align: right;\">\n",
       "      <th></th>\n",
       "      <th>Word 0</th>\n",
       "      <th>Word 1</th>\n",
       "      <th>Word 2</th>\n",
       "      <th>Word 3</th>\n",
       "      <th>Word 4</th>\n",
       "      <th>Word 5</th>\n",
       "    </tr>\n",
       "  </thead>\n",
       "  <tbody>\n",
       "    <tr>\n",
       "      <th>Topic 0</th>\n",
       "      <td>market</td>\n",
       "      <td>north</td>\n",
       "      <td>china</td>\n",
       "      <td>street</td>\n",
       "      <td>island</td>\n",
       "      <td>trump</td>\n",
       "    </tr>\n",
       "    <tr>\n",
       "      <th>Topic 1</th>\n",
       "      <td>say</td>\n",
       "      <td>govern</td>\n",
       "      <td>plan</td>\n",
       "      <td>power</td>\n",
       "      <td>industri</td>\n",
       "      <td>farmer</td>\n",
       "    </tr>\n",
       "    <tr>\n",
       "      <th>Topic 2</th>\n",
       "      <td>nation</td>\n",
       "      <td>school</td>\n",
       "      <td>live</td>\n",
       "      <td>coast</td>\n",
       "      <td>rural</td>\n",
       "      <td>student</td>\n",
       "    </tr>\n",
       "    <tr>\n",
       "      <th>Topic 3</th>\n",
       "      <td>world</td>\n",
       "      <td>busi</td>\n",
       "      <td>australia</td>\n",
       "      <td>countri</td>\n",
       "      <td>deal</td>\n",
       "      <td>life</td>\n",
       "    </tr>\n",
       "    <tr>\n",
       "      <th>Topic 4</th>\n",
       "      <td>australia</td>\n",
       "      <td>australian</td>\n",
       "      <td>open</td>\n",
       "      <td>test</td>\n",
       "      <td>win</td>\n",
       "      <td>first</td>\n",
       "    </tr>\n",
       "    <tr>\n",
       "      <th>Topic 5</th>\n",
       "      <td>polic</td>\n",
       "      <td>trump</td>\n",
       "      <td>attack</td>\n",
       "      <td>charg</td>\n",
       "      <td>donald</td>\n",
       "      <td>shoot</td>\n",
       "    </tr>\n",
       "    <tr>\n",
       "      <th>Topic 6</th>\n",
       "      <td>elect</td>\n",
       "      <td>liber</td>\n",
       "      <td>campaign</td>\n",
       "      <td>drug</td>\n",
       "      <td>find</td>\n",
       "      <td>parti</td>\n",
       "    </tr>\n",
       "    <tr>\n",
       "      <th>Topic 7</th>\n",
       "      <td>crash</td>\n",
       "      <td>home</td>\n",
       "      <td>fire</td>\n",
       "      <td>hospit</td>\n",
       "      <td>indigen</td>\n",
       "      <td>health</td>\n",
       "    </tr>\n",
       "    <tr>\n",
       "      <th>Topic 8</th>\n",
       "      <td>miss</td>\n",
       "      <td>drum</td>\n",
       "      <td>high</td>\n",
       "      <td>fund</td>\n",
       "      <td>peopl</td>\n",
       "      <td>search</td>\n",
       "    </tr>\n",
       "    <tr>\n",
       "      <th>Topic 9</th>\n",
       "      <td>murder</td>\n",
       "      <td>court</td>\n",
       "      <td>jail</td>\n",
       "      <td>sydney</td>\n",
       "      <td>found</td>\n",
       "      <td>charg</td>\n",
       "    </tr>\n",
       "  </tbody>\n",
       "</table>\n",
       "</div>"
      ],
      "text/plain": [
       "            Word 0      Word 1     Word 2   Word 3    Word 4   Word 5\n",
       "Topic 0     market       north      china   street    island    trump\n",
       "Topic 1        say      govern       plan    power  industri   farmer\n",
       "Topic 2     nation      school       live    coast     rural  student\n",
       "Topic 3      world        busi  australia  countri      deal     life\n",
       "Topic 4  australia  australian       open     test       win    first\n",
       "Topic 5      polic       trump     attack    charg    donald    shoot\n",
       "Topic 6      elect       liber   campaign     drug      find    parti\n",
       "Topic 7      crash        home       fire   hospit   indigen   health\n",
       "Topic 8       miss        drum       high     fund     peopl   search\n",
       "Topic 9     murder       court       jail   sydney     found    charg"
      ]
     },
     "execution_count": 37,
     "metadata": {},
     "output_type": "execute_result"
    }
   ],
   "source": [
    "top_keywords_num = 6\n",
    "\n",
    "top_keywords_indices = np.argsort(df_topic_word_importance.values)[:, -top_keywords_num:][:, ::-1]\n",
    "\n",
    "df_top_keywords = pd.DataFrame(\n",
    "    np.array(bow.get_feature_names())[top_keywords_indices],\n",
    "    columns = [\"Word {}\".format(i) for i in range(top_keywords_num)],\n",
    "    index = [\"Topic {}\".format(i) for i in range(model.n_components)]\n",
    ")\n",
    "\n",
    "df_top_keywords"
   ]
  }
 ],
 "metadata": {
  "kernelspec": {
   "display_name": "Python 3",
   "language": "python",
   "name": "python3"
  },
  "language_info": {
   "codemirror_mode": {
    "name": "ipython",
    "version": 3
   },
   "file_extension": ".py",
   "mimetype": "text/x-python",
   "name": "python",
   "nbconvert_exporter": "python",
   "pygments_lexer": "ipython3",
   "version": "3.6.6"
  }
 },
 "nbformat": 4,
 "nbformat_minor": 2
}
